{
 "cells": [
  {
   "cell_type": "code",
   "execution_count": null,
   "id": "44da3956",
   "metadata": {},
   "outputs": [],
   "source": []
  },
  {
   "cell_type": "markdown",
   "id": "143adddd",
   "metadata": {},
   "source": [
    "# IRELAND DATASET"
   ]
  },
  {
   "cell_type": "code",
   "execution_count": 2,
   "id": "19fa3125",
   "metadata": {},
   "outputs": [],
   "source": [
    "# importing packages\n",
    "import pandas as pd\n",
    "import numpy as np\n",
    "import seaborn as sns\n",
    "import datetime as dt\n",
    "from cmath import sqrt\n",
    "import warnings\n",
    "import matplotlib.pyplot as plt\n",
    "import datetime\n",
    "import datetime as dt\n",
    "import sklearn\n",
    "#import folium\n",
    "import warnings\n",
    "#import pydotplus\n",
    "import six\n",
    "import sys\n",
    "import statistics as st\n",
    "#import functions as fn\n",
    "#import cufflinks as cf\n",
    "\n",
    "#cf.set_config_file(offline=True)\n",
    "\n",
    "#prof.to_file(output_file='output.html')\n",
    "sys.modules['sklearn.externals.six'] = six\n",
    "warnings.filterwarnings('ignore')\n",
    "\n",
    "# import ML packages\n",
    "import statsmodels.api as sm\n",
    "from sklearn.linear_model import LinearRegression\n",
    "from sklearn import datasets, linear_model\n",
    "from sklearn import metrics\n",
    "from sklearn.model_selection import cross_val_score\n",
    "from scipy import stats\n",
    "from statsmodels.stats.outliers_influence import variance_inflation_factor\n",
    "from sklearn.metrics import r2_score\n",
    "from sklearn.metrics import mean_squared_error\n",
    "from sklearn.cluster import KMeans\n",
    "from sklearn.preprocessing import LabelEncoder#for train test splitting\n",
    "from sklearn.model_selection import train_test_split#for decision tree object\n",
    "from sklearn.tree import DecisionTreeClassifier#for checking testing results\n",
    "from sklearn.metrics import classification_report, confusion_matrix#for visualizing tree \n",
    "from sklearn.tree import plot_tree\n",
    "from sklearn.tree import export_graphviz\n",
    "from sklearn.externals.six import StringIO  \n",
    "from IPython.display import Image \n",
    "from pandas.plotting import scatter_matrix\n",
    "from sklearn.linear_model import Ridge\n",
    "from sklearn.linear_model import Lasso\n",
    "from sklearn.metrics import r2_score\n",
    "from sklearn.metrics import accuracy_score\n",
    "from sklearn.metrics import roc_curve\n",
    "from sklearn.metrics import auc\n",
    "from sklearn.ensemble import RandomForestRegressor\n",
    "#from explainerdashboard import RegressionExplainer, ExplainerDashboard\n",
    "\n",
    "#for interactive analysis\n",
    "from ipywidgets import interact\n",
    "\n",
    "%matplotlib inline"
   ]
  },
  {
   "cell_type": "markdown",
   "id": "8ef6eaba",
   "metadata": {},
   "source": [
    "# Descriptive Statistics for the Target feature: crop value"
   ]
  },
  {
   "cell_type": "code",
   "execution_count": 4,
   "id": "0320a200",
   "metadata": {},
   "outputs": [],
   "source": [
    "#Reading in df_irishdmodels cleaned dataset\n",
    "\n",
    "df_irishdata = pd.read_csv('df_irishmodels.csv')\n",
    "\n"
   ]
  },
  {
   "cell_type": "code",
   "execution_count": 5,
   "id": "33f35b48",
   "metadata": {},
   "outputs": [
    {
     "data": {
      "text/html": [
       "<div>\n",
       "<style scoped>\n",
       "    .dataframe tbody tr th:only-of-type {\n",
       "        vertical-align: middle;\n",
       "    }\n",
       "\n",
       "    .dataframe tbody tr th {\n",
       "        vertical-align: top;\n",
       "    }\n",
       "\n",
       "    .dataframe thead th {\n",
       "        text-align: right;\n",
       "    }\n",
       "</style>\n",
       "<table border=\"1\" class=\"dataframe\">\n",
       "  <thead>\n",
       "    <tr style=\"text-align: right;\">\n",
       "      <th></th>\n",
       "      <th>Unnamed: 0</th>\n",
       "      <th>Year</th>\n",
       "      <th>country</th>\n",
       "      <th>crop_measurement</th>\n",
       "      <th>crops_type</th>\n",
       "      <th>crops_action</th>\n",
       "      <th>crop_value</th>\n",
       "      <th>import_export_value</th>\n",
       "    </tr>\n",
       "  </thead>\n",
       "  <tbody>\n",
       "    <tr>\n",
       "      <th>0</th>\n",
       "      <td>0</td>\n",
       "      <td>2017</td>\n",
       "      <td>Ireland</td>\n",
       "      <td>ha</td>\n",
       "      <td>Apples</td>\n",
       "      <td>Area harvested</td>\n",
       "      <td>695.0</td>\n",
       "      <td>615.0</td>\n",
       "    </tr>\n",
       "    <tr>\n",
       "      <th>1</th>\n",
       "      <td>1</td>\n",
       "      <td>2017</td>\n",
       "      <td>Ireland</td>\n",
       "      <td>ha</td>\n",
       "      <td>Apples</td>\n",
       "      <td>Area harvested</td>\n",
       "      <td>695.0</td>\n",
       "      <td>545.0</td>\n",
       "    </tr>\n",
       "    <tr>\n",
       "      <th>2</th>\n",
       "      <td>2</td>\n",
       "      <td>2017</td>\n",
       "      <td>Ireland</td>\n",
       "      <td>ha</td>\n",
       "      <td>Apples</td>\n",
       "      <td>Area harvested</td>\n",
       "      <td>695.0</td>\n",
       "      <td>1985.0</td>\n",
       "    </tr>\n",
       "    <tr>\n",
       "      <th>3</th>\n",
       "      <td>3</td>\n",
       "      <td>2017</td>\n",
       "      <td>Ireland</td>\n",
       "      <td>ha</td>\n",
       "      <td>Apples</td>\n",
       "      <td>Area harvested</td>\n",
       "      <td>695.0</td>\n",
       "      <td>14778.0</td>\n",
       "    </tr>\n",
       "    <tr>\n",
       "      <th>4</th>\n",
       "      <td>4</td>\n",
       "      <td>2017</td>\n",
       "      <td>Ireland</td>\n",
       "      <td>ha</td>\n",
       "      <td>Apples</td>\n",
       "      <td>Area harvested</td>\n",
       "      <td>695.0</td>\n",
       "      <td>17923.0</td>\n",
       "    </tr>\n",
       "    <tr>\n",
       "      <th>...</th>\n",
       "      <td>...</td>\n",
       "      <td>...</td>\n",
       "      <td>...</td>\n",
       "      <td>...</td>\n",
       "      <td>...</td>\n",
       "      <td>...</td>\n",
       "      <td>...</td>\n",
       "      <td>...</td>\n",
       "    </tr>\n",
       "    <tr>\n",
       "      <th>57655</th>\n",
       "      <td>57655</td>\n",
       "      <td>2020</td>\n",
       "      <td>Ireland</td>\n",
       "      <td>tonnes</td>\n",
       "      <td>Wheat</td>\n",
       "      <td>Production</td>\n",
       "      <td>364920.0</td>\n",
       "      <td>8262.0</td>\n",
       "    </tr>\n",
       "    <tr>\n",
       "      <th>57656</th>\n",
       "      <td>57656</td>\n",
       "      <td>2020</td>\n",
       "      <td>Ireland</td>\n",
       "      <td>tonnes</td>\n",
       "      <td>Wheat</td>\n",
       "      <td>Production</td>\n",
       "      <td>364920.0</td>\n",
       "      <td>2099.0</td>\n",
       "    </tr>\n",
       "    <tr>\n",
       "      <th>57657</th>\n",
       "      <td>57657</td>\n",
       "      <td>2020</td>\n",
       "      <td>Ireland</td>\n",
       "      <td>tonnes</td>\n",
       "      <td>Wheat</td>\n",
       "      <td>Production</td>\n",
       "      <td>364920.0</td>\n",
       "      <td>646.0</td>\n",
       "    </tr>\n",
       "    <tr>\n",
       "      <th>57658</th>\n",
       "      <td>57658</td>\n",
       "      <td>2020</td>\n",
       "      <td>Ireland</td>\n",
       "      <td>tonnes</td>\n",
       "      <td>Wheat</td>\n",
       "      <td>Production</td>\n",
       "      <td>364920.0</td>\n",
       "      <td>174.0</td>\n",
       "    </tr>\n",
       "    <tr>\n",
       "      <th>57659</th>\n",
       "      <td>57659</td>\n",
       "      <td>2020</td>\n",
       "      <td>Ireland</td>\n",
       "      <td>tonnes</td>\n",
       "      <td>Wheat</td>\n",
       "      <td>Production</td>\n",
       "      <td>364920.0</td>\n",
       "      <td>50992.0</td>\n",
       "    </tr>\n",
       "  </tbody>\n",
       "</table>\n",
       "<p>57660 rows × 8 columns</p>\n",
       "</div>"
      ],
      "text/plain": [
       "       Unnamed: 0  Year  country crop_measurement crops_type    crops_action  \\\n",
       "0               0  2017  Ireland               ha     Apples  Area harvested   \n",
       "1               1  2017  Ireland               ha     Apples  Area harvested   \n",
       "2               2  2017  Ireland               ha     Apples  Area harvested   \n",
       "3               3  2017  Ireland               ha     Apples  Area harvested   \n",
       "4               4  2017  Ireland               ha     Apples  Area harvested   \n",
       "...           ...   ...      ...              ...        ...             ...   \n",
       "57655       57655  2020  Ireland           tonnes      Wheat      Production   \n",
       "57656       57656  2020  Ireland           tonnes      Wheat      Production   \n",
       "57657       57657  2020  Ireland           tonnes      Wheat      Production   \n",
       "57658       57658  2020  Ireland           tonnes      Wheat      Production   \n",
       "57659       57659  2020  Ireland           tonnes      Wheat      Production   \n",
       "\n",
       "       crop_value  import_export_value  \n",
       "0           695.0                615.0  \n",
       "1           695.0                545.0  \n",
       "2           695.0               1985.0  \n",
       "3           695.0              14778.0  \n",
       "4           695.0              17923.0  \n",
       "...           ...                  ...  \n",
       "57655    364920.0               8262.0  \n",
       "57656    364920.0               2099.0  \n",
       "57657    364920.0                646.0  \n",
       "57658    364920.0                174.0  \n",
       "57659    364920.0              50992.0  \n",
       "\n",
       "[57660 rows x 8 columns]"
      ]
     },
     "execution_count": 5,
     "metadata": {},
     "output_type": "execute_result"
    }
   ],
   "source": [
    "df_irishdata"
   ]
  },
  {
   "cell_type": "code",
   "execution_count": 6,
   "id": "9613054a",
   "metadata": {},
   "outputs": [
    {
     "data": {
      "text/html": [
       "<div>\n",
       "<style scoped>\n",
       "    .dataframe tbody tr th:only-of-type {\n",
       "        vertical-align: middle;\n",
       "    }\n",
       "\n",
       "    .dataframe tbody tr th {\n",
       "        vertical-align: top;\n",
       "    }\n",
       "\n",
       "    .dataframe thead th {\n",
       "        text-align: right;\n",
       "    }\n",
       "</style>\n",
       "<table border=\"1\" class=\"dataframe\">\n",
       "  <thead>\n",
       "    <tr style=\"text-align: right;\">\n",
       "      <th></th>\n",
       "      <th>Unnamed: 0</th>\n",
       "      <th>Year</th>\n",
       "      <th>crop_value</th>\n",
       "      <th>import_export_value</th>\n",
       "    </tr>\n",
       "  </thead>\n",
       "  <tbody>\n",
       "    <tr>\n",
       "      <th>count</th>\n",
       "      <td>57660.000000</td>\n",
       "      <td>57660.000000</td>\n",
       "      <td>5.766000e+04</td>\n",
       "      <td>57660.000000</td>\n",
       "    </tr>\n",
       "    <tr>\n",
       "      <th>mean</th>\n",
       "      <td>28829.500000</td>\n",
       "      <td>2018.649462</td>\n",
       "      <td>1.931997e+05</td>\n",
       "      <td>9073.481408</td>\n",
       "    </tr>\n",
       "    <tr>\n",
       "      <th>std</th>\n",
       "      <td>16645.152598</td>\n",
       "      <td>1.067478</td>\n",
       "      <td>4.719297e+05</td>\n",
       "      <td>20373.360680</td>\n",
       "    </tr>\n",
       "    <tr>\n",
       "      <th>min</th>\n",
       "      <td>0.000000</td>\n",
       "      <td>2017.000000</td>\n",
       "      <td>2.000000e+00</td>\n",
       "      <td>25.000000</td>\n",
       "    </tr>\n",
       "    <tr>\n",
       "      <th>25%</th>\n",
       "      <td>14414.750000</td>\n",
       "      <td>2018.000000</td>\n",
       "      <td>5.890000e+03</td>\n",
       "      <td>331.000000</td>\n",
       "    </tr>\n",
       "    <tr>\n",
       "      <th>50%</th>\n",
       "      <td>28829.500000</td>\n",
       "      <td>2019.000000</td>\n",
       "      <td>1.492495e+05</td>\n",
       "      <td>2099.000000</td>\n",
       "    </tr>\n",
       "    <tr>\n",
       "      <th>75%</th>\n",
       "      <td>43244.250000</td>\n",
       "      <td>2020.000000</td>\n",
       "      <td>1.492495e+05</td>\n",
       "      <td>8378.000000</td>\n",
       "    </tr>\n",
       "    <tr>\n",
       "      <th>max</th>\n",
       "      <td>57659.000000</td>\n",
       "      <td>2020.000000</td>\n",
       "      <td>3.920000e+06</td>\n",
       "      <td>157805.000000</td>\n",
       "    </tr>\n",
       "  </tbody>\n",
       "</table>\n",
       "</div>"
      ],
      "text/plain": [
       "         Unnamed: 0          Year    crop_value  import_export_value\n",
       "count  57660.000000  57660.000000  5.766000e+04         57660.000000\n",
       "mean   28829.500000   2018.649462  1.931997e+05          9073.481408\n",
       "std    16645.152598      1.067478  4.719297e+05         20373.360680\n",
       "min        0.000000   2017.000000  2.000000e+00            25.000000\n",
       "25%    14414.750000   2018.000000  5.890000e+03           331.000000\n",
       "50%    28829.500000   2019.000000  1.492495e+05          2099.000000\n",
       "75%    43244.250000   2020.000000  1.492495e+05          8378.000000\n",
       "max    57659.000000   2020.000000  3.920000e+06        157805.000000"
      ]
     },
     "execution_count": 6,
     "metadata": {},
     "output_type": "execute_result"
    }
   ],
   "source": [
    "#inspect the dataframe for outliers will display the min,max mean and inner and outer quariles for all features\n",
    "df_irishdata.describe()"
   ]
  },
  {
   "cell_type": "code",
   "execution_count": 7,
   "id": "f3229e7b",
   "metadata": {},
   "outputs": [
    {
     "data": {
      "image/png": "[encoded data removed]",
      "text/plain": [
       "<Figure size 1152x288 with 1 Axes>"
      ]
     },
     "metadata": {
      "needs_background": "light"
     },
     "output_type": "display_data"
    }
   ],
   "source": [
    "#boxplot for the target feature crop_value\n",
    "plt.figure(figsize = (16,4))\n",
    "sns.boxplot(x= df_irishdata['crop_value'])\n",
    "plt.show()"
   ]
  },
  {
   "cell_type": "code",
   "execution_count": 8,
   "id": "fbe7e093",
   "metadata": {},
   "outputs": [
    {
     "name": "stdout",
     "output_type": "stream",
     "text": [
      "193199.6637651423\n"
     ]
    }
   ],
   "source": [
    "#print the mean of the target feature\n",
    "mean_cropvalue= df_irishdata['crop_value'].mean()\n",
    "print(mean_cropvalue)"
   ]
  },
  {
   "cell_type": "code",
   "execution_count": 9,
   "id": "a6ce7274",
   "metadata": {},
   "outputs": [
    {
     "name": "stdout",
     "output_type": "stream",
     "text": [
      "149249.4953422438\n"
     ]
    }
   ],
   "source": [
    "#print the median of the target feature\n",
    "median = df_irishdata['crop_value'].median()\n",
    "print(median)"
   ]
  },
  {
   "cell_type": "code",
   "execution_count": 10,
   "id": "20aa29bc",
   "metadata": {},
   "outputs": [
    {
     "name": "stdout",
     "output_type": "stream",
     "text": [
      "0    149249.495342\n",
      "Name: crop_value, dtype: float64\n"
     ]
    }
   ],
   "source": [
    "#print the mode of the target feature\n",
    "mode = df_irishdata['crop_value'].mode()\n",
    "print(mode)"
   ]
  },
  {
   "cell_type": "code",
   "execution_count": 11,
   "id": "06d30e4e",
   "metadata": {},
   "outputs": [
    {
     "data": {
      "text/plain": [
       "[Text(0.5, 0, 'Crop Price'),\n",
       " Text(0, 0.5, 'Cropvalue'),\n",
       " Text(0.5, 1.0, 'Cropvalue Histogram')]"
      ]
     },
     "execution_count": 11,
     "metadata": {},
     "output_type": "execute_result"
    },
    {
     "data": {
      "image/png": "[encoded data removed]",
      "text/plain": [
       "<Figure size 432x288 with 1 Axes>"
      ]
     },
     "metadata": {
      "needs_background": "light"
     },
     "output_type": "display_data"
    }
   ],
   "source": [
    "#histplot to display the distribution of crop _value\n",
    "ax = sns.histplot(df_irishdata.crop_value)\n",
    "ax.set(xlabel='Crop Price', ylabel='Cropvalue', title ='Cropvalue Histogram')"
   ]
  },
  {
   "cell_type": "markdown",
   "id": "be3f3f2a",
   "metadata": {},
   "source": [
    "We can see from the above graph that the variable crop_value is slightly right or postively skewed"
   ]
  },
  {
   "cell_type": "code",
   "execution_count": 12,
   "id": "8677d051",
   "metadata": {},
   "outputs": [
    {
     "data": {
      "text/plain": [
       "Text(0.5, 1.0, 'Box plot Crop Value by Crop Action')"
      ]
     },
     "execution_count": 12,
     "metadata": {},
     "output_type": "execute_result"
    },
    {
     "data": {
      "image/png": "[encoded data removed]",
      "text/plain": [
       "<Figure size 432x288 with 1 Axes>"
      ]
     },
     "metadata": {
      "needs_background": "light"
     },
     "output_type": "display_data"
    }
   ],
   "source": [
    "#Box plot to depict Box plot Crop Value by Crop Action\n",
    "sns.boxplot(x = 'Year', y ='crop_value', data=df_irishdata, hue = 'crops_action')\n",
    "plt.legend(bbox_to_anchor=(1.02, 1), loc='upper left', borderaxespad=0)\n",
    "plt.title('Box plot Crop Value by Crop Action', fontsize=15)"
   ]
  },
  {
   "cell_type": "markdown",
   "id": "b8ffd18e",
   "metadata": {},
   "source": [
    "# Ireland Annual mean variance plot"
   ]
  },
  {
   "cell_type": "code",
   "execution_count": 13,
   "id": "27531bab",
   "metadata": {},
   "outputs": [
    {
     "data": {
      "image/png": "[encoded data removed]",
      "text/plain": [
       "<Figure size 432x288 with 1 Axes>"
      ]
     },
     "metadata": {
      "needs_background": "light"
     },
     "output_type": "display_data"
    }
   ],
   "source": [
    "df_irishdata[['Year', 'import_export_value', \n",
    "                           'crop_value']].pct_change().plot(kind='box', rot=90)\n",
    "plt.title(\"Ireland average trade Variance box Plot\", fontsize=20);"
   ]
  },
  {
   "cell_type": "markdown",
   "id": "a8fac5b3",
   "metadata": {},
   "source": [
    "# Ireland annual cropvalue and max airtemp variance plot"
   ]
  },
  {
   "cell_type": "code",
   "execution_count": 14,
   "id": "270ffe07",
   "metadata": {},
   "outputs": [
    {
     "data": {
      "image/png": "[encoded data removed]",
      "text/plain": [
       "<Figure size 432x288 with 1 Axes>"
      ]
     },
     "metadata": {
      "needs_background": "light"
     },
     "output_type": "display_data"
    }
   ],
   "source": [
    "df_irishdata[['Year', 'crop_value', \n",
    "                           'import_export_value']].pct_change().plot(kind='box', rot=90)\n",
    "plt.title(\"Ireland yearly Variance box Plot\", fontsize=20);"
   ]
  },
  {
   "cell_type": "markdown",
   "id": "b98a1d06",
   "metadata": {},
   "source": [
    "# Using Chi-square test on a the IrishCrops dataset"
   ]
  },
  {
   "cell_type": "code",
   "execution_count": 15,
   "id": "c78be5c1",
   "metadata": {},
   "outputs": [
    {
     "name": "stdout",
     "output_type": "stream",
     "text": [
      "['Domain', 'Area', 'Element', 'item', 'Unit']\n"
     ]
    }
   ],
   "source": [
    "import os\n",
    "import pandas\n",
    "df= pandas.read_csv(\"FAOSTAT_data_5-1-2022 (2).csv\")\n",
    "categorical_col = ['Domain', 'Area', 'Element', 'item', 'Unit']\n",
    "print(categorical_col)"
   ]
  },
  {
   "cell_type": "markdown",
   "id": "0a846206",
   "metadata": {},
   "source": [
    "using the crosstab() function to create a contingency table of the two selected variables to work on ‘Element’ and ‘item’."
   ]
  },
  {
   "cell_type": "code",
   "execution_count": 16,
   "id": "d6ace04a",
   "metadata": {},
   "outputs": [
    {
     "name": "stdout",
     "output_type": "stream",
     "text": [
      "Unit                          0.1g/An  1000 Head  1000 No  100mg/An  Head  \\\n",
      "Domain                                                                      \n",
      "Crops and livestock products       38         90        8         8   237   \n",
      "All                                38         90        8         8   237   \n",
      "\n",
      "Unit                          No/An   ha  hg/An  hg/ha  tonnes   All  \n",
      "Domain                                                                \n",
      "Crops and livestock products      8  470     68    294     908  2129  \n",
      "All                               8  470     68    294     908  2129  \n"
     ]
    }
   ],
   "source": [
    "chisqt = pandas.crosstab(df.Domain, df.Unit, margins=True)\n",
    "print(chisqt)"
   ]
  },
  {
   "cell_type": "markdown",
   "id": "eb42ed9a",
   "metadata": {},
   "source": [
    "At last, we apply the chi2_contingency() function on the table and get the statistics, p-value and degree of freedom values"
   ]
  },
  {
   "cell_type": "code",
   "execution_count": 17,
   "id": "8170f08b",
   "metadata": {},
   "outputs": [
    {
     "name": "stdout",
     "output_type": "stream",
     "text": [
      "(0.0, 1.0, 9)\n"
     ]
    }
   ],
   "source": [
    "from scipy.stats import chi2_contingency \n",
    "import numpy as np\n",
    "chisqt = pandas.crosstab(df.Domain, df.Unit, margins=True)\n",
    "value = np.array([chisqt.iloc[0][0:10].values,\n",
    "                  chisqt.iloc[1][0:10].values])\n",
    "print(chi2_contingency(value)[0:3])"
   ]
  },
  {
   "cell_type": "markdown",
   "id": "a2271883",
   "metadata": {},
   "source": [
    "From above, 1.0 is the p-value, 0.0 is the statistical value and 9 is the degree of freedom. As the p-value is greater than 0.05, we accept the NULL hypothesis and assume that the variables ‘Domain’ and ‘Unit’ are independent of each other."
   ]
  },
  {
   "cell_type": "markdown",
   "id": "ee02f1bd",
   "metadata": {},
   "source": [
    "# Shapiro-Wilk Test"
   ]
  },
  {
   "cell_type": "markdown",
   "id": "495096b6",
   "metadata": {},
   "source": [
    "Tests whether a data sample has a Gaussian distribution."
   ]
  },
  {
   "cell_type": "code",
   "execution_count": 19,
   "id": "2462864d",
   "metadata": {},
   "outputs": [
    {
     "name": "stdout",
     "output_type": "stream",
     "text": [
      "stat=0.895, p=0.193\n",
      "Probably Gaussian\n"
     ]
    }
   ],
   "source": [
    "# Example of the Shapiro-Wilk Normality Tes\n",
    "from scipy.stats import shapiro\n",
    "year= [0.873, 2.817, 0.121, -0.945, -0.055, -1.436, 0.360, -1.478, -1.637, -1.869]\n",
    "stat, p = shapiro(year)\n",
    "print('stat=%.3f, p=%.3f' % (stat, p))\n",
    "if p > 0.05:\n",
    "\tprint('Probably Gaussian')\n",
    "else:\n",
    "\tprint('Probably not Gaussian')"
   ]
  },
  {
   "cell_type": "markdown",
   "id": "a5a5bc5c",
   "metadata": {},
   "source": [
    "Assumptions\n",
    "\n",
    "Observations in each sample are independent and identically distributed (iid).\n",
    "\n",
    "Interpretation\n",
    "\n",
    "H0: the sample has a Gaussian distribution.\n",
    "\n",
    "H1: the sample does not have a Gaussian distribution.\n"
   ]
  },
  {
   "cell_type": "markdown",
   "id": "3272ce0c",
   "metadata": {},
   "source": [
    "value of the Shapiro-Wilk Test is greater than 0.05, the data is normal. If it is below 0.05, the data significantly deviate from a normal distribution"
   ]
  },
  {
   "cell_type": "markdown",
   "id": "c1eb1c64",
   "metadata": {},
   "source": [
    "# Shapiro-Wilk Test"
   ]
  },
  {
   "cell_type": "code",
   "execution_count": 20,
   "id": "95f77a9a",
   "metadata": {},
   "outputs": [
    {
     "data": {
      "text/plain": [
       "ShapiroResult(statistic=0.966901957988739, pvalue=0.00011927181185455993)"
      ]
     },
     "execution_count": 20,
     "metadata": {},
     "output_type": "execute_result"
    }
   ],
   "source": [
    "# import useful library\n",
    "import numpy as np\n",
    "from numpy.random import poisson\n",
    "from numpy.random import seed\n",
    "from scipy.stats import shapiro\n",
    "from numpy.random import randn\n",
    "  \n",
    "seed(0)\n",
    "# Create data\n",
    "crops_action = poisson(5, 200)\n",
    "  \n",
    "# conduct the  Shapiro-Wilk Test\n",
    "shapiro(crops_action)"
   ]
  },
  {
   "cell_type": "markdown",
   "id": "c28fa3e3",
   "metadata": {},
   "source": [
    "Since in the above example, the p-value is 0.0001 which is less than the alpha(0.5) then we reject the null hypothesis i.e. we have sufficient evidence to say that sample does not come from a normal distribution"
   ]
  },
  {
   "cell_type": "markdown",
   "id": "2125616d",
   "metadata": {},
   "source": [
    "# Pearson’s Correlation Coefficient\n",
    "\n",
    "Tests whether two samples have a linear relationship.\n"
   ]
  },
  {
   "cell_type": "markdown",
   "id": "07044baa",
   "metadata": {},
   "source": [
    "Assumptions\n",
    "\n",
    "Observations in each sample are independent and identically distributed (iid). \n",
    "\n",
    "Observations in each sample are normally distributed. Observations in each sample have the same variance.\n"
   ]
  },
  {
   "cell_type": "code",
   "execution_count": 21,
   "id": "d3ce92c9",
   "metadata": {},
   "outputs": [
    {
     "name": "stdout",
     "output_type": "stream",
     "text": [
      "stat=0.688, p=0.028\n",
      "Probably dependent\n"
     ]
    }
   ],
   "source": [
    "from scipy.stats import pearsonr\n",
    "crop_value = [0.873, 2.817, 0.121, -0.945, -0.055, -1.436, 0.360, -1.478, -1.637, -1.869]\n",
    "crop_action= [0.353, 3.517, 0.125, -7.545, -0.555, -1.536, 3.350, -1.578, -3.537, -1.579]\n",
    "stat, p = pearsonr(crop_value, crop_action)\n",
    "print('stat=%.3f, p=%.3f' % (stat, p))\n",
    "if p > 0.05:\n",
    "\tprint('Probably independent')\n",
    "else:\n",
    "\tprint('Probably dependent')"
   ]
  },
  {
   "cell_type": "markdown",
   "id": "4fd7aca1",
   "metadata": {},
   "source": [
    "Interpretation\n",
    "\n",
    "H0: the two samples are independent. \n",
    "    \n",
    "H1: there is a dependency between the samples\n"
   ]
  },
  {
   "cell_type": "markdown",
   "id": "3fbc1059",
   "metadata": {},
   "source": [
    "# Spearman’s Rank Correlation"
   ]
  },
  {
   "cell_type": "markdown",
   "id": "b28cc0c0",
   "metadata": {},
   "source": [
    "Tests whether two samples have a monotonic relationship.\n",
    "\n",
    "Assumptions\n",
    "\n",
    "Observations in each sample are independent and identically distributed (iid).\n",
    "\n",
    "Observations in each sample can be ranked"
   ]
  },
  {
   "cell_type": "code",
   "execution_count": 22,
   "id": "63fd0cf1",
   "metadata": {},
   "outputs": [
    {
     "name": "stdout",
     "output_type": "stream",
     "text": [
      "stat=0.855, p=0.002\n",
      "Probably dependent\n"
     ]
    }
   ],
   "source": [
    "from scipy.stats import spearmanr\n",
    "crop_value = [0.873, 2.817, 0.121, -0.945, -0.055, -1.436, 0.360, -1.478, -1.637, -1.869]\n",
    "crop_measurement = [0.353, 3.517, 0.125, -7.545, -0.555, -1.536, 3.350, -1.578, -3.537, -1.579]\n",
    "stat, p = spearmanr(crop_value, crop_measurement)\n",
    "print('stat=%.3f, p=%.3f' % (stat, p))\n",
    "if p > 0.05:\n",
    "\tprint('Probably independent')\n",
    "else:\n",
    "\tprint('Probably dependent')"
   ]
  },
  {
   "cell_type": "markdown",
   "id": "06f77700",
   "metadata": {},
   "source": [
    "Interpretation\n",
    "\n",
    "H0: the two samples are independent.\n",
    "\n",
    "H1: there is a dependency between the samples"
   ]
  },
  {
   "cell_type": "markdown",
   "id": "2fb99ff5",
   "metadata": {},
   "source": [
    "# D’Agostino’s K^2 Test - Normality Test\n",
    "\n",
    "Tests whether a data sample has a Gaussian distribution.\n"
   ]
  },
  {
   "cell_type": "code",
   "execution_count": 24,
   "id": "11cc7eb0",
   "metadata": {},
   "outputs": [
    {
     "name": "stdout",
     "output_type": "stream",
     "text": [
      "stat=3.392, p=0.183\n",
      "Probably Gaussian\n"
     ]
    }
   ],
   "source": [
    "from scipy.stats import normaltest\n",
    "df_irish = [0.873, 2.817, 0.121, -0.945, -0.055, -1.436, 0.360, -1.478, -1.637, -1.869]\n",
    "stat, p = normaltest(df_irish)\n",
    "print('stat=%.3f, p=%.3f' % (stat, p))\n",
    "if p > 0.05:\n",
    "\tprint('Probably Gaussian')\n",
    "else:\n",
    "\tprint('Probably not Gaussian')"
   ]
  },
  {
   "cell_type": "markdown",
   "id": "01be7580",
   "metadata": {},
   "source": [
    "Assumptions\n",
    "\n",
    "Observations in each sample are independent and identically distributed (iid).\n",
    "\n",
    "Interpretation\n",
    "\n",
    "H0: the sample has a Gaussian distribution. \n",
    "    \n",
    "H1: the sample does not have a Gaussian distribution.\n"
   ]
  },
  {
   "cell_type": "markdown",
   "id": "b043813b",
   "metadata": {},
   "source": [
    "# Chi-Squared Test\n",
    "\n",
    "Tests whether two categorical variables are related or independent.\n",
    "\n",
    "Assumptions\n",
    "\n",
    "Observations used in the calculation of the contingency table are independent.\n",
    "\n",
    "25 or more examples in each cell of the contingency table.\n"
   ]
  },
  {
   "cell_type": "code",
   "execution_count": 25,
   "id": "308413f6",
   "metadata": {},
   "outputs": [
    {
     "name": "stdout",
     "output_type": "stream",
     "text": [
      "stat=0.272, p=0.873\n",
      "Probably independent\n"
     ]
    }
   ],
   "source": [
    "# Example of the Chi-Squared Test\n",
    "from scipy.stats import chi2_contingency\n",
    "crop_value = [[10, 20, 30],[6,  9,  17]]\n",
    "stat, p, dof, expected = chi2_contingency(crop_value)\n",
    "print('stat=%.3f, p=%.3f' % (stat, p))\n",
    "if p > 0.05:\n",
    "\tprint('Probably independent')\n",
    "else:\n",
    "\tprint('Probably dependent')"
   ]
  },
  {
   "cell_type": "markdown",
   "id": "b1f55679",
   "metadata": {},
   "source": [
    "We can see that the P - value for crop value is greater than 0.5 and is probably independant"
   ]
  },
  {
   "cell_type": "markdown",
   "id": "1e9ba59c",
   "metadata": {},
   "source": [
    "# Interpretation\n",
    "\n",
    "H0: the two samples are independent.\n",
    "\n",
    "H1: there is a dependency between the samples."
   ]
  },
  {
   "cell_type": "markdown",
   "id": "788123a5",
   "metadata": {},
   "source": [
    "# Parametric Statistical Hypothesis Tests\n",
    "\n",
    "This section lists statistical tests that you can use to compare data samples\n"
   ]
  },
  {
   "cell_type": "markdown",
   "id": "a84ee706",
   "metadata": {},
   "source": [
    "# Paired Student’s t-test\n",
    "\n",
    "Tests whether the means of two paired samples are significantly different.\n",
    "\n",
    "Assumptions\n",
    "\n",
    "Observations in each sample are independent and identically distributed (iid).\n",
    "\n",
    "Observations in each sample are normally distributed.\n",
    "\n",
    "Observations in each sample have the same variance.\n",
    "\n",
    "Observations across each sample are paired.\n"
   ]
  },
  {
   "cell_type": "code",
   "execution_count": 26,
   "id": "581b6c8a",
   "metadata": {},
   "outputs": [
    {
     "data": {
      "text/html": [
       "<div>\n",
       "<style scoped>\n",
       "    .dataframe tbody tr th:only-of-type {\n",
       "        vertical-align: middle;\n",
       "    }\n",
       "\n",
       "    .dataframe tbody tr th {\n",
       "        vertical-align: top;\n",
       "    }\n",
       "\n",
       "    .dataframe thead th {\n",
       "        text-align: right;\n",
       "    }\n",
       "</style>\n",
       "<table border=\"1\" class=\"dataframe\">\n",
       "  <thead>\n",
       "    <tr style=\"text-align: right;\">\n",
       "      <th></th>\n",
       "      <th>Unnamed: 0</th>\n",
       "      <th>Year</th>\n",
       "      <th>country</th>\n",
       "      <th>crop_measurement</th>\n",
       "      <th>crops_type</th>\n",
       "      <th>crops_action</th>\n",
       "      <th>crop_value</th>\n",
       "      <th>import_export_value</th>\n",
       "    </tr>\n",
       "  </thead>\n",
       "  <tbody>\n",
       "    <tr>\n",
       "      <th>0</th>\n",
       "      <td>0</td>\n",
       "      <td>2017</td>\n",
       "      <td>Ireland</td>\n",
       "      <td>ha</td>\n",
       "      <td>Apples</td>\n",
       "      <td>Area harvested</td>\n",
       "      <td>695.0</td>\n",
       "      <td>615.0</td>\n",
       "    </tr>\n",
       "    <tr>\n",
       "      <th>1</th>\n",
       "      <td>1</td>\n",
       "      <td>2017</td>\n",
       "      <td>Ireland</td>\n",
       "      <td>ha</td>\n",
       "      <td>Apples</td>\n",
       "      <td>Area harvested</td>\n",
       "      <td>695.0</td>\n",
       "      <td>545.0</td>\n",
       "    </tr>\n",
       "    <tr>\n",
       "      <th>2</th>\n",
       "      <td>2</td>\n",
       "      <td>2017</td>\n",
       "      <td>Ireland</td>\n",
       "      <td>ha</td>\n",
       "      <td>Apples</td>\n",
       "      <td>Area harvested</td>\n",
       "      <td>695.0</td>\n",
       "      <td>1985.0</td>\n",
       "    </tr>\n",
       "    <tr>\n",
       "      <th>3</th>\n",
       "      <td>3</td>\n",
       "      <td>2017</td>\n",
       "      <td>Ireland</td>\n",
       "      <td>ha</td>\n",
       "      <td>Apples</td>\n",
       "      <td>Area harvested</td>\n",
       "      <td>695.0</td>\n",
       "      <td>14778.0</td>\n",
       "    </tr>\n",
       "    <tr>\n",
       "      <th>4</th>\n",
       "      <td>4</td>\n",
       "      <td>2017</td>\n",
       "      <td>Ireland</td>\n",
       "      <td>ha</td>\n",
       "      <td>Apples</td>\n",
       "      <td>Area harvested</td>\n",
       "      <td>695.0</td>\n",
       "      <td>17923.0</td>\n",
       "    </tr>\n",
       "    <tr>\n",
       "      <th>...</th>\n",
       "      <td>...</td>\n",
       "      <td>...</td>\n",
       "      <td>...</td>\n",
       "      <td>...</td>\n",
       "      <td>...</td>\n",
       "      <td>...</td>\n",
       "      <td>...</td>\n",
       "      <td>...</td>\n",
       "    </tr>\n",
       "    <tr>\n",
       "      <th>57655</th>\n",
       "      <td>57655</td>\n",
       "      <td>2020</td>\n",
       "      <td>Ireland</td>\n",
       "      <td>tonnes</td>\n",
       "      <td>Wheat</td>\n",
       "      <td>Production</td>\n",
       "      <td>364920.0</td>\n",
       "      <td>8262.0</td>\n",
       "    </tr>\n",
       "    <tr>\n",
       "      <th>57656</th>\n",
       "      <td>57656</td>\n",
       "      <td>2020</td>\n",
       "      <td>Ireland</td>\n",
       "      <td>tonnes</td>\n",
       "      <td>Wheat</td>\n",
       "      <td>Production</td>\n",
       "      <td>364920.0</td>\n",
       "      <td>2099.0</td>\n",
       "    </tr>\n",
       "    <tr>\n",
       "      <th>57657</th>\n",
       "      <td>57657</td>\n",
       "      <td>2020</td>\n",
       "      <td>Ireland</td>\n",
       "      <td>tonnes</td>\n",
       "      <td>Wheat</td>\n",
       "      <td>Production</td>\n",
       "      <td>364920.0</td>\n",
       "      <td>646.0</td>\n",
       "    </tr>\n",
       "    <tr>\n",
       "      <th>57658</th>\n",
       "      <td>57658</td>\n",
       "      <td>2020</td>\n",
       "      <td>Ireland</td>\n",
       "      <td>tonnes</td>\n",
       "      <td>Wheat</td>\n",
       "      <td>Production</td>\n",
       "      <td>364920.0</td>\n",
       "      <td>174.0</td>\n",
       "    </tr>\n",
       "    <tr>\n",
       "      <th>57659</th>\n",
       "      <td>57659</td>\n",
       "      <td>2020</td>\n",
       "      <td>Ireland</td>\n",
       "      <td>tonnes</td>\n",
       "      <td>Wheat</td>\n",
       "      <td>Production</td>\n",
       "      <td>364920.0</td>\n",
       "      <td>50992.0</td>\n",
       "    </tr>\n",
       "  </tbody>\n",
       "</table>\n",
       "<p>57660 rows × 8 columns</p>\n",
       "</div>"
      ],
      "text/plain": [
       "       Unnamed: 0  Year  country crop_measurement crops_type    crops_action  \\\n",
       "0               0  2017  Ireland               ha     Apples  Area harvested   \n",
       "1               1  2017  Ireland               ha     Apples  Area harvested   \n",
       "2               2  2017  Ireland               ha     Apples  Area harvested   \n",
       "3               3  2017  Ireland               ha     Apples  Area harvested   \n",
       "4               4  2017  Ireland               ha     Apples  Area harvested   \n",
       "...           ...   ...      ...              ...        ...             ...   \n",
       "57655       57655  2020  Ireland           tonnes      Wheat      Production   \n",
       "57656       57656  2020  Ireland           tonnes      Wheat      Production   \n",
       "57657       57657  2020  Ireland           tonnes      Wheat      Production   \n",
       "57658       57658  2020  Ireland           tonnes      Wheat      Production   \n",
       "57659       57659  2020  Ireland           tonnes      Wheat      Production   \n",
       "\n",
       "       crop_value  import_export_value  \n",
       "0           695.0                615.0  \n",
       "1           695.0                545.0  \n",
       "2           695.0               1985.0  \n",
       "3           695.0              14778.0  \n",
       "4           695.0              17923.0  \n",
       "...           ...                  ...  \n",
       "57655    364920.0               8262.0  \n",
       "57656    364920.0               2099.0  \n",
       "57657    364920.0                646.0  \n",
       "57658    364920.0                174.0  \n",
       "57659    364920.0              50992.0  \n",
       "\n",
       "[57660 rows x 8 columns]"
      ]
     },
     "execution_count": 26,
     "metadata": {},
     "output_type": "execute_result"
    }
   ],
   "source": [
    "df_irishdata"
   ]
  },
  {
   "cell_type": "code",
   "execution_count": 27,
   "id": "521a25b3",
   "metadata": {},
   "outputs": [
    {
     "name": "stdout",
     "output_type": "stream",
     "text": [
      "stat=-0.326, p=0.748\n",
      "Probably the same distribution\n"
     ]
    }
   ],
   "source": [
    "# Example of the Student's t-test\n",
    "from scipy.stats import ttest_ind\n",
    "import_export_value = [0.873, 2.817, 0.121, -0.945, -0.055, -1.436, 0.360, -1.478, -1.637, -1.869]\n",
    "year = [1.142, -0.432, -0.938, -0.729, -0.846, -0.157, 0.500, 1.183, -1.075, -0.169]\n",
    "stat, p = ttest_ind(import_export_value, year)\n",
    "print('stat=%.3f, p=%.3f' % (stat, p))\n",
    "if p > 0.05:\n",
    "\tprint('Probably the same distribution')\n",
    "else:\n",
    "\tprint('Probably different distributions')"
   ]
  },
  {
   "cell_type": "markdown",
   "id": "527f6636",
   "metadata": {},
   "source": [
    "interpretation\n",
    "\n",
    "H0: the means of the samples are equal.\n",
    "\n",
    "H1: the means of the samples are unequal.\n"
   ]
  },
  {
   "cell_type": "markdown",
   "id": "a8ceb8e3",
   "metadata": {},
   "source": [
    "# We can see that the P value for Year is greater than 0.5 and is therefore of the same distribution"
   ]
  },
  {
   "cell_type": "markdown",
   "id": "e441233f",
   "metadata": {},
   "source": [
    "# We can see that the P Value for all test s above has not been greater than 0.5"
   ]
  },
  {
   "cell_type": "markdown",
   "id": "1dec4c6a",
   "metadata": {},
   "source": [
    "# Analysis of Variance Test (ANOVA)\n",
    "\n",
    "Tests whether the means of two or more independent samples are significantly different.\n",
    "\n",
    "Assumptions\n",
    "\n",
    "Observations in each sample are independent and identically distributed (iid).  \n",
    "\n",
    "Observations in each sample are normally distributed. \n",
    "\n",
    "Observations in each sample have the same variance\n"
   ]
  },
  {
   "cell_type": "code",
   "execution_count": 28,
   "id": "0dbc8b85",
   "metadata": {},
   "outputs": [
    {
     "name": "stdout",
     "output_type": "stream",
     "text": [
      "stat=0.096, p=0.908\n",
      "Probably the same distribution\n"
     ]
    }
   ],
   "source": [
    "# Example of the Analysis of Variance Test\n",
    "from scipy.stats import f_oneway\n",
    "import_export_value= [0.873, 2.817, 0.121, -0.945, -0.055, -1.436, 0.360, -1.478, -1.637, -1.869]\n",
    "crop_value = [1.142, -0.432, -0.938, -0.729, -0.846, -0.157, 0.500, 1.183, -1.075, -0.169]\n",
    "crops_action = [-0.208, 0.696, 0.928, -1.148, -0.213, 0.229, 0.137, 0.269, -0.870, -1.204]\n",
    "stat, p = f_oneway(import_export_value, crop_value, crops_action)\n",
    "print('stat=%.3f, p=%.3f' % (stat, p))\n",
    "if p > 0.05:\n",
    "\tprint('Probably the same distribution')\n",
    "else:\n",
    "\tprint('Probably different distributions')"
   ]
  },
  {
   "cell_type": "markdown",
   "id": "3a876488",
   "metadata": {},
   "source": [
    "Interpretation\n",
    "\n",
    "H0: the means of the samples are equal.\n",
    "\n",
    "H1: one or more of the means of the samples are unequal.\n"
   ]
  },
  {
   "cell_type": "markdown",
   "id": "8c915034",
   "metadata": {},
   "source": [
    "# Nonparametric Statistical Hypothesis Tests\n",
    "\n",
    "Tests whether the distributions of two independent samples are equal or not.\n",
    "\n",
    "Assumptions\n",
    "\n",
    "Observations in each sample are independent and identically distributed (iid).\n",
    "\n",
    "Observations in each sample can be ranked.\n"
   ]
  },
  {
   "cell_type": "code",
   "execution_count": 29,
   "id": "e5d54344",
   "metadata": {},
   "outputs": [
    {
     "name": "stdout",
     "output_type": "stream",
     "text": [
      "stat=40.000, p=0.473\n",
      "Probably the same distribution\n"
     ]
    }
   ],
   "source": [
    "# Example of the Mann-Whitney U Test\n",
    "from scipy.stats import mannwhitneyu\n",
    "crop_measurement = [0.873, 2.817, 0.121, -0.945, -0.055, -1.436, 0.360, -1.478, -1.637, -1.869]\n",
    "crop_type = [1.142, -0.432, -0.938, -0.729, -0.846, -0.157, 0.500, 1.183, -1.075, -0.169]\n",
    "stat, p = mannwhitneyu(crop_measurement, crop_type)\n",
    "print('stat=%.3f, p=%.3f' % (stat, p))\n",
    "if p > 0.05:\n",
    "\tprint('Probably the same distribution')\n",
    "else:\n",
    "\tprint('Probably different distributions')"
   ]
  },
  {
   "cell_type": "markdown",
   "id": "8802327b",
   "metadata": {},
   "source": [
    "Interpretation\n",
    "\n",
    "H0: the distributions of both samples are equal.\n",
    "\n",
    "H1: the distributions of both samples are not equal.\n",
    "\n",
    "H0: the sample has a Gaussian distribution.\n",
    "\n",
    "H1: the sample does not have a Gaussian distribution.\n"
   ]
  },
  {
   "cell_type": "markdown",
   "id": "8a96f9bf",
   "metadata": {},
   "source": [
    "# Wilcoxon Signed-Rank Test\n",
    "\n",
    "Tests whether the distributions of two paired samples are equal or not.\n",
    "\n",
    "Assumptions\n",
    "\n",
    "Observations in each sample are independent and identically distributed (iid). Observations in each sample can be ranked. Observations across each sample are paired.\n"
   ]
  },
  {
   "cell_type": "code",
   "execution_count": 30,
   "id": "d1478d25",
   "metadata": {},
   "outputs": [
    {
     "name": "stdout",
     "output_type": "stream",
     "text": [
      "stat=21.000, p=0.557\n",
      "Probably the same distribution\n"
     ]
    }
   ],
   "source": [
    "#example of the Wilcoxon Signed-Rank Test\n",
    "from scipy.stats import wilcoxon\n",
    "crop_value = [0.873, 2.817, 0.121, -0.945, -0.055, -1.436, 0.360, -1.478, -1.637, -1.869]\n",
    "crops_action = [1.142, -0.432, -0.938, -0.729, -0.846, -0.157, 0.500, 1.183, -1.075, -0.169]\n",
    "stat, p = wilcoxon(crop_value, crops_action)\n",
    "print('stat=%.3f, p=%.3f' % (stat, p))\n",
    "if p > 0.05:\n",
    "\tprint('Probably the same distribution')\n",
    "else:\n",
    "\tprint('Probably different distributions')"
   ]
  },
  {
   "cell_type": "markdown",
   "id": "3436a953",
   "metadata": {},
   "source": [
    "Interpretation\n",
    "\n",
    "H0: the distributions of both samples are equal.\n",
    "\n",
    "H1: the distributions of both samples are not equal.\n"
   ]
  },
  {
   "cell_type": "code",
   "execution_count": 31,
   "id": "98a6b597",
   "metadata": {},
   "outputs": [
    {
     "name": "stdout",
     "output_type": "stream",
     "text": [
      "Shape of the dataset is :  (57660, 8)\n",
      "Size of the dataset is :  461280\n"
     ]
    }
   ],
   "source": [
    "#checking the shape and size of the dataframe\n",
    "\n",
    "print(\"Shape of the dataset is : \",df_irishdata.shape)\n",
    "print(\"Size of the dataset is : \",df_irishdata.size)"
   ]
  },
  {
   "cell_type": "code",
   "execution_count": 32,
   "id": "01b0dff9",
   "metadata": {},
   "outputs": [
    {
     "data": {
      "text/plain": [
       "Unnamed: 0               int64\n",
       "Year                     int64\n",
       "country                 object\n",
       "crop_measurement        object\n",
       "crops_type              object\n",
       "crops_action            object\n",
       "crop_value             float64\n",
       "import_export_value    float64\n",
       "dtype: object"
      ]
     },
     "execution_count": 32,
     "metadata": {},
     "output_type": "execute_result"
    }
   ],
   "source": [
    "#list the datatypes of all columns we can see there are alot of objects later I will change these to onehotencoding for the linear regression\n",
    "df_irishdata.dtypes"
   ]
  },
  {
   "cell_type": "markdown",
   "id": "a16d2528",
   "metadata": {},
   "source": [
    "# Plot Distribution of the Target variable/feature crop_value"
   ]
  },
  {
   "cell_type": "code",
   "execution_count": 33,
   "id": "235e17a0",
   "metadata": {},
   "outputs": [
    {
     "data": {
      "image/png": "[encoded data removed]",
      "text/plain": [
       "<Figure size 432x288 with 1 Axes>"
      ]
     },
     "metadata": {
      "needs_background": "light"
     },
     "output_type": "display_data"
    }
   ],
   "source": [
    "# plot distribution of crop_value target variable seaborn distplot\n",
    "sns.distplot(df_irishdata['crop_value'])\n",
    "plt.show()"
   ]
  },
  {
   "cell_type": "markdown",
   "id": "8e3cab2d",
   "metadata": {},
   "source": [
    "The crop_value is not normally distributed the distribution is skewed left because it looks pulled out to the left"
   ]
  },
  {
   "cell_type": "markdown",
   "id": "9adadf6f",
   "metadata": {},
   "source": [
    "# Brazilian Dataset"
   ]
  },
  {
   "cell_type": "markdown",
   "id": "1acaf65e",
   "metadata": {},
   "source": [
    "# Descriptive Statistics for the Target features: crop value & consumervalue"
   ]
  },
  {
   "cell_type": "code",
   "execution_count": 35,
   "id": "2a2b2b9e",
   "metadata": {},
   "outputs": [
    {
     "data": {
      "text/html": [
       "<div>\n",
       "<style scoped>\n",
       "    .dataframe tbody tr th:only-of-type {\n",
       "        vertical-align: middle;\n",
       "    }\n",
       "\n",
       "    .dataframe tbody tr th {\n",
       "        vertical-align: top;\n",
       "    }\n",
       "\n",
       "    .dataframe thead th {\n",
       "        text-align: right;\n",
       "    }\n",
       "</style>\n",
       "<table border=\"1\" class=\"dataframe\">\n",
       "  <thead>\n",
       "    <tr style=\"text-align: right;\">\n",
       "      <th></th>\n",
       "      <th>Unnamed: 0</th>\n",
       "      <th>year</th>\n",
       "      <th>country</th>\n",
       "      <th>months</th>\n",
       "      <th>crop_measurement</th>\n",
       "      <th>crops_type</th>\n",
       "      <th>crops_action</th>\n",
       "      <th>crop_value</th>\n",
       "      <th>consumer_value</th>\n",
       "    </tr>\n",
       "  </thead>\n",
       "  <tbody>\n",
       "    <tr>\n",
       "      <th>0</th>\n",
       "      <td>1464</td>\n",
       "      <td>2010</td>\n",
       "      <td>Brazil</td>\n",
       "      <td>January</td>\n",
       "      <td>tonnes</td>\n",
       "      <td>Chestnut</td>\n",
       "      <td>Production</td>\n",
       "      <td>5.333023e+06</td>\n",
       "      <td>3.559127</td>\n",
       "    </tr>\n",
       "    <tr>\n",
       "      <th>1</th>\n",
       "      <td>1471</td>\n",
       "      <td>2010</td>\n",
       "      <td>Brazil</td>\n",
       "      <td>August</td>\n",
       "      <td>tonnes</td>\n",
       "      <td>Chestnut</td>\n",
       "      <td>Production</td>\n",
       "      <td>5.333023e+06</td>\n",
       "      <td>4.098498</td>\n",
       "    </tr>\n",
       "    <tr>\n",
       "      <th>2</th>\n",
       "      <td>1465</td>\n",
       "      <td>2010</td>\n",
       "      <td>Brazil</td>\n",
       "      <td>February</td>\n",
       "      <td>tonnes</td>\n",
       "      <td>Chestnut</td>\n",
       "      <td>Production</td>\n",
       "      <td>5.333023e+06</td>\n",
       "      <td>4.271629</td>\n",
       "    </tr>\n",
       "    <tr>\n",
       "      <th>3</th>\n",
       "      <td>1470</td>\n",
       "      <td>2010</td>\n",
       "      <td>Brazil</td>\n",
       "      <td>July</td>\n",
       "      <td>tonnes</td>\n",
       "      <td>Chestnut</td>\n",
       "      <td>Production</td>\n",
       "      <td>5.333023e+06</td>\n",
       "      <td>4.338587</td>\n",
       "    </tr>\n",
       "    <tr>\n",
       "      <th>4</th>\n",
       "      <td>1469</td>\n",
       "      <td>2010</td>\n",
       "      <td>Brazil</td>\n",
       "      <td>June</td>\n",
       "      <td>tonnes</td>\n",
       "      <td>Chestnut</td>\n",
       "      <td>Production</td>\n",
       "      <td>5.333023e+06</td>\n",
       "      <td>5.074611</td>\n",
       "    </tr>\n",
       "  </tbody>\n",
       "</table>\n",
       "</div>"
      ],
      "text/plain": [
       "   Unnamed: 0  year country    months crop_measurement crops_type  \\\n",
       "0        1464  2010  Brazil   January           tonnes   Chestnut   \n",
       "1        1471  2010  Brazil    August           tonnes   Chestnut   \n",
       "2        1465  2010  Brazil  February           tonnes   Chestnut   \n",
       "3        1470  2010  Brazil      July           tonnes   Chestnut   \n",
       "4        1469  2010  Brazil      June           tonnes   Chestnut   \n",
       "\n",
       "  crops_action    crop_value  consumer_value  \n",
       "0   Production  5.333023e+06        3.559127  \n",
       "1   Production  5.333023e+06        4.098498  \n",
       "2   Production  5.333023e+06        4.271629  \n",
       "3   Production  5.333023e+06        4.338587  \n",
       "4   Production  5.333023e+06        5.074611  "
      ]
     },
     "execution_count": 35,
     "metadata": {},
     "output_type": "execute_result"
    }
   ],
   "source": [
    "#Reading in Brazilian Crops dataset from between 2010 to 2020 8 actions 10 crop measurements and 139 crop types\n",
    "df_brazildata = pd.read_csv('df_brazilmodels.csv')\n",
    "df_brazildata.head()"
   ]
  },
  {
   "cell_type": "code",
   "execution_count": 36,
   "id": "6352b307",
   "metadata": {},
   "outputs": [
    {
     "data": {
      "text/plain": [
       "year                  int64\n",
       "months               object\n",
       "crop_measurement     object\n",
       "crops_type           object\n",
       "crops_action         object\n",
       "crop_value          float64\n",
       "consumer_value      float64\n",
       "dtype: object"
      ]
     },
     "execution_count": 36,
     "metadata": {},
     "output_type": "execute_result"
    }
   ],
   "source": [
    "#Dropping ID and Source column from the data for outlier analysis\n",
    "df_brazildata.drop(columns=[\"Unnamed: 0\",\"country\"],axis=1,inplace=True)\n",
    "df_brazildata.dtypes"
   ]
  },
  {
   "cell_type": "code",
   "execution_count": 37,
   "id": "a981d8d0",
   "metadata": {},
   "outputs": [
    {
     "data": {
      "text/html": [
       "<div>\n",
       "<style scoped>\n",
       "    .dataframe tbody tr th:only-of-type {\n",
       "        vertical-align: middle;\n",
       "    }\n",
       "\n",
       "    .dataframe tbody tr th {\n",
       "        vertical-align: top;\n",
       "    }\n",
       "\n",
       "    .dataframe thead th {\n",
       "        text-align: right;\n",
       "    }\n",
       "</style>\n",
       "<table border=\"1\" class=\"dataframe\">\n",
       "  <thead>\n",
       "    <tr style=\"text-align: right;\">\n",
       "      <th></th>\n",
       "      <th>year</th>\n",
       "      <th>crop_value</th>\n",
       "      <th>consumer_value</th>\n",
       "    </tr>\n",
       "  </thead>\n",
       "  <tbody>\n",
       "    <tr>\n",
       "      <th>count</th>\n",
       "      <td>83520.000000</td>\n",
       "      <td>8.352000e+04</td>\n",
       "      <td>83520.000000</td>\n",
       "    </tr>\n",
       "    <tr>\n",
       "      <th>mean</th>\n",
       "      <td>2014.975431</td>\n",
       "      <td>5.372101e+06</td>\n",
       "      <td>68.105087</td>\n",
       "    </tr>\n",
       "    <tr>\n",
       "      <th>std</th>\n",
       "      <td>3.151619</td>\n",
       "      <td>5.199071e+07</td>\n",
       "      <td>45.941999</td>\n",
       "    </tr>\n",
       "    <tr>\n",
       "      <th>min</th>\n",
       "      <td>2010.000000</td>\n",
       "      <td>9.000000e+00</td>\n",
       "      <td>-2.317125</td>\n",
       "    </tr>\n",
       "    <tr>\n",
       "      <th>25%</th>\n",
       "      <td>2012.000000</td>\n",
       "      <td>1.347600e+04</td>\n",
       "      <td>10.043639</td>\n",
       "    </tr>\n",
       "    <tr>\n",
       "      <th>50%</th>\n",
       "      <td>2015.000000</td>\n",
       "      <td>8.797600e+04</td>\n",
       "      <td>80.803340</td>\n",
       "    </tr>\n",
       "    <tr>\n",
       "      <th>75%</th>\n",
       "      <td>2018.000000</td>\n",
       "      <td>3.935035e+05</td>\n",
       "      <td>111.989600</td>\n",
       "    </tr>\n",
       "    <tr>\n",
       "      <th>max</th>\n",
       "      <td>2020.000000</td>\n",
       "      <td>7.685942e+08</td>\n",
       "      <td>141.626625</td>\n",
       "    </tr>\n",
       "  </tbody>\n",
       "</table>\n",
       "</div>"
      ],
      "text/plain": [
       "               year    crop_value  consumer_value\n",
       "count  83520.000000  8.352000e+04    83520.000000\n",
       "mean    2014.975431  5.372101e+06       68.105087\n",
       "std        3.151619  5.199071e+07       45.941999\n",
       "min     2010.000000  9.000000e+00       -2.317125\n",
       "25%     2012.000000  1.347600e+04       10.043639\n",
       "50%     2015.000000  8.797600e+04       80.803340\n",
       "75%     2018.000000  3.935035e+05      111.989600\n",
       "max     2020.000000  7.685942e+08      141.626625"
      ]
     },
     "execution_count": 37,
     "metadata": {},
     "output_type": "execute_result"
    }
   ],
   "source": [
    "#inspect the dataframe for outliers will display the min,max mean and inner and outer quariles for all features\n",
    "df_brazildata.describe()"
   ]
  },
  {
   "cell_type": "code",
   "execution_count": 38,
   "id": "f9db8814",
   "metadata": {},
   "outputs": [
    {
     "data": {
      "image/png": "[encoded data removed]",
      "text/plain": [
       "<Figure size 1152x288 with 1 Axes>"
      ]
     },
     "metadata": {
      "needs_background": "light"
     },
     "output_type": "display_data"
    }
   ],
   "source": [
    "#boxplot for the target feature crop_value\n",
    "plt.figure(figsize = (16,4))\n",
    "sns.boxplot(x= df_brazildata['crop_value'])\n",
    "plt.show()"
   ]
  },
  {
   "cell_type": "code",
   "execution_count": 39,
   "id": "e060ce92",
   "metadata": {},
   "outputs": [
    {
     "name": "stdout",
     "output_type": "stream",
     "text": [
      "5372100.747240936\n"
     ]
    }
   ],
   "source": [
    "#print the mean of the target feature\n",
    "mean_cropvalue=  df_brazildata['crop_value'].mean()\n",
    "print(mean_cropvalue)"
   ]
  },
  {
   "cell_type": "code",
   "execution_count": 40,
   "id": "1df926d0",
   "metadata": {},
   "outputs": [
    {
     "name": "stdout",
     "output_type": "stream",
     "text": [
      "87976.0\n"
     ]
    }
   ],
   "source": [
    "#print the median of the target feature\n",
    "median = df_brazildata['crop_value'].median()\n",
    "print(median)"
   ]
  },
  {
   "cell_type": "code",
   "execution_count": 41,
   "id": "25beefad",
   "metadata": {},
   "outputs": [
    {
     "name": "stdout",
     "output_type": "stream",
     "text": [
      "0    5.333023e+06\n",
      "Name: crop_value, dtype: float64\n"
     ]
    }
   ],
   "source": [
    "#print the mode of the target feature\n",
    "mode = df_brazildata['crop_value'].mode()\n",
    "print(mode)"
   ]
  },
  {
   "cell_type": "code",
   "execution_count": 43,
   "id": "ea52a248",
   "metadata": {},
   "outputs": [
    {
     "data": {
      "text/plain": [
       "[Text(0.5, 0, 'Crop Price'),\n",
       " Text(0, 0.5, 'Cropvalue'),\n",
       " Text(0.5, 1.0, 'Cropvalue Histogram')]"
      ]
     },
     "execution_count": 43,
     "metadata": {},
     "output_type": "execute_result"
    },
    {
     "data": {
      "image/png": "[encoded data removed]",
      "text/plain": [
       "<Figure size 432x288 with 1 Axes>"
      ]
     },
     "metadata": {
      "needs_background": "light"
     },
     "output_type": "display_data"
    }
   ],
   "source": [
    "#histplot to display the distribution of crop _value\n",
    "ax = sns.histplot(df_brazildata.crop_value)\n",
    "ax.set(xlabel='Crop Price', ylabel='Cropvalue', title ='Cropvalue Histogram')"
   ]
  },
  {
   "cell_type": "code",
   "execution_count": 44,
   "id": "7f903a2c",
   "metadata": {},
   "outputs": [
    {
     "data": {
      "text/plain": [
       "Text(0.5, 1.0, 'Box plot Crop Value by Crop Action')"
      ]
     },
     "execution_count": 44,
     "metadata": {},
     "output_type": "execute_result"
    },
    {
     "data": {
      "image/png": "[encoded data removed]",
      "text/plain": [
       "<Figure size 432x288 with 1 Axes>"
      ]
     },
     "metadata": {
      "needs_background": "light"
     },
     "output_type": "display_data"
    }
   ],
   "source": [
    "#Box plot to depict Box plot Crop Value by Crop Action\n",
    "sns.boxplot(x = 'crops_action', y ='crop_value', data=df_brazildata, hue = 'crops_action')\n",
    "plt.legend(bbox_to_anchor=(1.02, 1), loc='upper left', borderaxespad=0)\n",
    "plt.title('Box plot Crop Value by Crop Action', fontsize=15)"
   ]
  },
  {
   "cell_type": "code",
   "execution_count": 45,
   "id": "4b48029b",
   "metadata": {},
   "outputs": [
    {
     "data": {
      "image/png": "[encoded data removed]",
      "text/plain": [
       "<Figure size 1152x288 with 1 Axes>"
      ]
     },
     "metadata": {
      "needs_background": "light"
     },
     "output_type": "display_data"
    }
   ],
   "source": [
    "#boxplot for the feature rain\n",
    "plt.figure(figsize = (16,4))\n",
    "sns.boxplot(x= df_brazildata['consumer_value'])\n",
    "plt.show()"
   ]
  },
  {
   "cell_type": "code",
   "execution_count": 46,
   "id": "9d88d2ca",
   "metadata": {},
   "outputs": [
    {
     "name": "stdout",
     "output_type": "stream",
     "text": [
      "68.1050868260576\n"
     ]
    }
   ],
   "source": [
    "#print the mean of the target feature\n",
    "mean_consumervalue=  df_brazildata['consumer_value'].mean()\n",
    "print(mean_consumervalue)"
   ]
  },
  {
   "cell_type": "code",
   "execution_count": 47,
   "id": "bb6c3061",
   "metadata": {},
   "outputs": [
    {
     "name": "stdout",
     "output_type": "stream",
     "text": [
      "80.80334\n"
     ]
    }
   ],
   "source": [
    "#print the median of the target feature\n",
    "median = df_brazildata['consumer_value'].median()\n",
    "print(median)"
   ]
  },
  {
   "cell_type": "code",
   "execution_count": 48,
   "id": "1f86108e",
   "metadata": {},
   "outputs": [
    {
     "name": "stdout",
     "output_type": "stream",
     "text": [
      "0    72.17294\n",
      "Name: consumer_value, dtype: float64\n"
     ]
    }
   ],
   "source": [
    "#print the mode of the target feature\n",
    "mode = df_brazildata['consumer_value'].mode()\n",
    "print(mode)"
   ]
  },
  {
   "cell_type": "code",
   "execution_count": 49,
   "id": "9e70fbbe",
   "metadata": {},
   "outputs": [
    {
     "data": {
      "text/plain": [
       "[Text(0.5, 0, 'Consumer Price'),\n",
       " Text(0, 0.5, 'consumervalue'),\n",
       " Text(0.5, 1.0, 'Consumervalue Histogram')]"
      ]
     },
     "execution_count": 49,
     "metadata": {},
     "output_type": "execute_result"
    },
    {
     "data": {
      "image/png": "[encoded data removed]",
      "text/plain": [
       "<Figure size 432x288 with 1 Axes>"
      ]
     },
     "metadata": {
      "needs_background": "light"
     },
     "output_type": "display_data"
    }
   ],
   "source": [
    "#histplot to display the distribution of consumer _value\n",
    "ax = sns.histplot(df_brazildata.consumer_value)\n",
    "ax.set(xlabel='Consumer Price', ylabel='consumervalue', title ='Consumervalue Histogram')"
   ]
  },
  {
   "cell_type": "code",
   "execution_count": 50,
   "id": "c5c43d42",
   "metadata": {},
   "outputs": [
    {
     "data": {
      "text/plain": [
       "Text(0.5, 1.0, 'Box plot Consumer Value by Crop Action')"
      ]
     },
     "execution_count": 50,
     "metadata": {},
     "output_type": "execute_result"
    },
    {
     "data": {
      "image/png": "[encoded data removed]",
      "text/plain": [
       "<Figure size 432x288 with 1 Axes>"
      ]
     },
     "metadata": {
      "needs_background": "light"
     },
     "output_type": "display_data"
    }
   ],
   "source": [
    "#Box plot to depict Box plot Crop Value by Crop Action\n",
    "sns.boxplot(x = 'crops_action', y ='consumer_value', data=df_brazildata, hue = 'crops_action')\n",
    "plt.legend(bbox_to_anchor=(1.02, 1), loc='upper left', borderaxespad=0)\n",
    "plt.title('Box plot Consumer Value by Crop Action', fontsize=15)"
   ]
  },
  {
   "cell_type": "markdown",
   "id": "69627798",
   "metadata": {},
   "source": [
    "# Shapiro-Wilk Test - Normality Test - Target crop_value"
   ]
  },
  {
   "cell_type": "markdown",
   "id": "5479747a",
   "metadata": {},
   "source": [
    "Tests whether a data sample has a Gaussian distribution. examines if a variable is normally distributed in a population\n"
   ]
  },
  {
   "cell_type": "code",
   "execution_count": 51,
   "id": "cdb04ed1",
   "metadata": {},
   "outputs": [
    {
     "name": "stdout",
     "output_type": "stream",
     "text": [
      "stat=0.895, p=0.193\n",
      "Probably Gaussian\n"
     ]
    }
   ],
   "source": [
    "#Shapiro-Wilk Normality Test\n",
    "from scipy.stats import shapiro\n",
    "crop_value = [0.873, 2.817, 0.121, -0.945, -0.055, -1.436, 0.360, -1.478, -1.637, -1.869]\n",
    "stat, p = shapiro(crop_value)\n",
    "print('stat=%.3f, p=%.3f' % (stat, p))\n",
    "if p > 0.05:\n",
    "\tprint('Probably Gaussian')\n",
    "else:\n",
    "\tprint('Probably not Gaussian')"
   ]
  },
  {
   "cell_type": "markdown",
   "id": "21fb67ca",
   "metadata": {},
   "source": [
    "Assumptions\n",
    "\n",
    "Observations in each sample are independent and identically distributed (iid).\n",
    "\n",
    "Interpretation\n",
    "\n",
    "H0: the sample has a Gaussian distribution.\n",
    "\n",
    "H1: the sample does not have a Gaussian distribution.\n",
    "\n",
    "value of the Shapiro-Wilk Test is greater than 0.05, the data is normal. If it is below 0.05, the data significantly deviate from a normal distribution\n",
    "\n"
   ]
  },
  {
   "cell_type": "markdown",
   "id": "7cc913d3",
   "metadata": {},
   "source": [
    "# Shapiro-Wilk Test - Normality Test - Target Consumer_value"
   ]
  },
  {
   "cell_type": "markdown",
   "id": "7bb0b4c4",
   "metadata": {},
   "source": [
    "Tests whether a data sample has a Gaussian distribution. Examines if a variable is normally distributed in a population Crop Value Consumer Value Crops_action"
   ]
  },
  {
   "cell_type": "code",
   "execution_count": 52,
   "id": "3d3c3259",
   "metadata": {},
   "outputs": [
    {
     "name": "stdout",
     "output_type": "stream",
     "text": [
      "stat=0.895, p=0.193\n",
      "Probably Gaussian\n"
     ]
    }
   ],
   "source": [
    "#Shapiro-Wilk Normality Test\n",
    "from scipy.stats import shapiro\n",
    "consumer_value = [0.873, 2.817, 0.121, -0.945, -0.055, -1.436, 0.360, -1.478, -1.637, -1.869]\n",
    "stat, p = shapiro(consumer_value)\n",
    "print('stat=%.3f, p=%.3f' % (stat, p))\n",
    "if p > 0.05:\n",
    "\tprint('Probably Gaussian')\n",
    "else:\n",
    "\tprint('Probably not Gaussian')"
   ]
  },
  {
   "cell_type": "markdown",
   "id": "ec847256",
   "metadata": {},
   "source": [
    "Assumptions\n",
    "\n",
    "Observations in each sample are independent and identically distributed (iid).\n",
    "\n",
    "Interpretation\n",
    "\n",
    "H0: the sample has a Gaussian distribution.\n",
    "\n",
    "H1: the sample does not have a Gaussian distribution.\n"
   ]
  },
  {
   "cell_type": "code",
   "execution_count": 53,
   "id": "ef9c0878",
   "metadata": {},
   "outputs": [
    {
     "name": "stdout",
     "output_type": "stream",
     "text": [
      "stat=0.895, p=0.193\n",
      "Probably Gaussian\n"
     ]
    }
   ],
   "source": [
    "# Example of the Shapiro-Wilk Normality Test\n",
    "from scipy.stats import shapiro\n",
    "crop_type = [0.873, 2.817, 0.121, -0.945, -0.055, -1.436, 0.360, -1.478, -1.637, -1.869]\n",
    "stat, p = shapiro(crop_type)\n",
    "print('stat=%.3f, p=%.3f' % (stat, p))\n",
    "if p > 0.05:\n",
    "\tprint('Probably Gaussian')\n",
    "else:\n",
    "\tprint('Probably not Gaussian')"
   ]
  },
  {
   "cell_type": "markdown",
   "id": "3c7bc0cb",
   "metadata": {},
   "source": [
    "if the result is >0.05 the result is normal, the data significantly deviate from a normal distribution if <0.05\n"
   ]
  },
  {
   "cell_type": "code",
   "execution_count": 54,
   "id": "04fb08b8",
   "metadata": {},
   "outputs": [
    {
     "data": {
      "text/plain": [
       "ShapiroResult(statistic=0.966901957988739, pvalue=0.00011927181185455993)"
      ]
     },
     "execution_count": 54,
     "metadata": {},
     "output_type": "execute_result"
    }
   ],
   "source": [
    "# import useful library\n",
    "import numpy as np\n",
    "from numpy.random import poisson\n",
    "from numpy.random import seed\n",
    "from scipy.stats import shapiro\n",
    "from numpy.random import randn\n",
    "  \n",
    "seed(0)\n",
    "# Create data\n",
    "crops_action = poisson(5, 200)\n",
    "  \n",
    "# conduct the  Shapiro-Wilk Test\n",
    "shapiro(crops_action)"
   ]
  },
  {
   "cell_type": "markdown",
   "id": "0559a487",
   "metadata": {},
   "source": [
    "Since in the above example, the p-value is 0.0001 which is less than the alpha(0.5) then we reject the null hypothesis i.e. we have sufficient evidence to say that sample does not come from a normal distribution"
   ]
  },
  {
   "cell_type": "markdown",
   "id": "c852dfdb",
   "metadata": {},
   "source": [
    "# Pearson’s Correlation Coefficient\n",
    "\n",
    "Tests whether two samples have a linear relationship.\n",
    "\n",
    "Crop_Value & Crop Action\n"
   ]
  },
  {
   "cell_type": "markdown",
   "id": "60d9cb1f",
   "metadata": {},
   "source": [
    "Assumptions\n",
    "\n",
    "    Observations in each sample are independent and identically distributed (iid).\n",
    "\n",
    "    Observations in each sample are normally distributed.\n",
    "\n",
    "    Observations in each sample have the same variance."
   ]
  },
  {
   "cell_type": "code",
   "execution_count": 55,
   "id": "d7615167",
   "metadata": {},
   "outputs": [
    {
     "name": "stdout",
     "output_type": "stream",
     "text": [
      "stat=0.688, p=0.028\n",
      "Probably dependent\n"
     ]
    }
   ],
   "source": [
    "from scipy.stats import pearsonr\n",
    "crop_value = [0.873, 2.817, 0.121, -0.945, -0.055, -1.436, 0.360, -1.478, -1.637, -1.869]\n",
    "crop_action= [0.353, 3.517, 0.125, -7.545, -0.555, -1.536, 3.350, -1.578, -3.537, -1.579]\n",
    "stat, p = pearsonr(crop_value, crop_action)\n",
    "print('stat=%.3f, p=%.3f' % (stat, p))\n",
    "if p > 0.05:\n",
    "\tprint('Probably independent')\n",
    "else:\n",
    "\tprint('Probably dependent')"
   ]
  },
  {
   "cell_type": "markdown",
   "id": "e997cc4d",
   "metadata": {},
   "source": [
    "Interpretation\n",
    "\n",
    "H0: the two samples are independent.\n",
    "\n",
    "H1: there is a dependency between the samples\n"
   ]
  },
  {
   "cell_type": "markdown",
   "id": "c71de33e",
   "metadata": {},
   "source": [
    "# Pearson’s Correlation Coefficient\n",
    "\n",
    "Tests whether two samples have a linear relationship.\n",
    "\n",
    "Crop_Value & consumer_value\n"
   ]
  },
  {
   "cell_type": "code",
   "execution_count": 57,
   "id": "5ec21a29",
   "metadata": {},
   "outputs": [
    {
     "name": "stdout",
     "output_type": "stream",
     "text": [
      "stat=0.688, p=0.028\n",
      "Probably dependent\n"
     ]
    }
   ],
   "source": [
    "from scipy.stats import pearsonr\n",
    "crop_value = [0.873, 2.817, 0.121, -0.945, -0.055, -1.436, 0.360, -1.478, -1.637, -1.869]\n",
    "consumer_value= [0.353, 3.517, 0.125, -7.545, -0.555, -1.536, 3.350, -1.578, -3.537, -1.579]\n",
    "stat, p = pearsonr(crop_value, consumer_value)\n",
    "print('stat=%.3f, p=%.3f' % (stat, p))\n",
    "if p > 0.05:\n",
    "\tprint('Probably independent')\n",
    "else:\n",
    "\tprint('Probably dependent')"
   ]
  },
  {
   "cell_type": "markdown",
   "id": "65ff13aa",
   "metadata": {},
   "source": [
    "Interpretation\n",
    "\n",
    "H0: the two samples are independent.\n",
    "\n",
    "H1: there is a dependency between the samples\n"
   ]
  },
  {
   "cell_type": "markdown",
   "id": "78d46227",
   "metadata": {},
   "source": [
    "# Spearman’s Rank Correlation\n",
    "\n",
    "Tests whether two samples have a monotonic relationship.\n",
    "\n",
    "Assumptions\n",
    "\n",
    "Observations in each sample are independent and identically distributed (iid).\n",
    "\n",
    "Observations in each sample can be ranked\n"
   ]
  },
  {
   "cell_type": "code",
   "execution_count": 59,
   "id": "8b3e98fc",
   "metadata": {},
   "outputs": [
    {
     "name": "stdout",
     "output_type": "stream",
     "text": [
      "stat=0.855, p=0.002\n",
      "Probably dependent\n"
     ]
    }
   ],
   "source": [
    "from scipy.stats import spearmanr\n",
    "crop_value = [0.873, 2.817, 0.121, -0.945, -0.055, -1.436, 0.360, -1.478, -1.637, -1.869]\n",
    "crop_measurement = [0.353, 3.517, 0.125, -7.545, -0.555, -1.536, 3.350, -1.578, -3.537, -1.579]\n",
    "stat, p = spearmanr(crop_value, crop_measurement)\n",
    "print('stat=%.3f, p=%.3f' % (stat, p))\n",
    "if p > 0.05:\n",
    "\tprint('Probably independent')\n",
    "else:\n",
    "\tprint('Probably dependent')"
   ]
  },
  {
   "cell_type": "markdown",
   "id": "c640d737",
   "metadata": {},
   "source": [
    "Interpretation\n",
    "\n",
    "H0: the two samples are independent.\n",
    "\n",
    "H1: there is a dependency between the samples\n"
   ]
  },
  {
   "cell_type": "markdown",
   "id": "b068835a",
   "metadata": {},
   "source": [
    "# D’Agostino’s K^2 Test - Normality Test\n",
    "\n",
    "Tests whether a data sample has a Gaussian distribution.\n"
   ]
  },
  {
   "cell_type": "code",
   "execution_count": 60,
   "id": "42d4c45e",
   "metadata": {},
   "outputs": [
    {
     "name": "stdout",
     "output_type": "stream",
     "text": [
      "stat=3.392, p=0.183\n",
      "Probably Gaussian\n"
     ]
    }
   ],
   "source": [
    "from scipy.stats import normaltest\n",
    "crop_value = [0.873, 2.817, 0.121, -0.945, -0.055, -1.436, 0.360, -1.478, -1.637, -1.869]\n",
    "stat, p = normaltest(crop_value)\n",
    "print('stat=%.3f, p=%.3f' % (stat, p))\n",
    "if p > 0.05:\n",
    "\tprint('Probably Gaussian')\n",
    "else:\n",
    "\tprint('Probably not Gaussian')"
   ]
  },
  {
   "cell_type": "markdown",
   "id": "3719aa19",
   "metadata": {},
   "source": [
    "Assumptions\n",
    "\n",
    "Observations in each sample are independent and identically distributed (iid).\n",
    "\n",
    "Interpretation\n",
    "\n",
    "H0: the sample has a Gaussian distribution.\n",
    "\n",
    "H1: the sample does not have a Gaussian distribution\n"
   ]
  },
  {
   "cell_type": "markdown",
   "id": "5cdfc394",
   "metadata": {},
   "source": [
    "# Using Chi-square test on a df_brazil dataset on the categorical features"
   ]
  },
  {
   "cell_type": "code",
   "execution_count": 61,
   "id": "b14ea16a",
   "metadata": {},
   "outputs": [
    {
     "name": "stdout",
     "output_type": "stream",
     "text": [
      "['Domain', 'Area', 'Item', 'Element', 'Unit']\n"
     ]
    }
   ],
   "source": [
    "import os\n",
    "import pandas\n",
    "\n",
    "df = pandas.read_csv(\"FAOSTAT_brazil_5-1-2022(4).csv\")\n",
    "categorical_col = ['Domain', 'Area', 'Item', 'Element','Unit']\n",
    "print(categorical_col)"
   ]
  },
  {
   "cell_type": "markdown",
   "id": "adf97e5e",
   "metadata": {},
   "source": [
    "using the crosstab() function to create a contingency table of the two selected variables to work on ‘crops_type’ and ‘crops_action’."
   ]
  },
  {
   "cell_type": "code",
   "execution_count": 62,
   "id": "fd6eec2a",
   "metadata": {},
   "outputs": [
    {
     "name": "stdout",
     "output_type": "stream",
     "text": [
      "Element                       Area harvested  Laying  Milk Animals  \\\n",
      "Domain                                                               \n",
      "Crops and livestock products             781      22            22   \n",
      "All                                      781      22            22   \n",
      "\n",
      "Element                       Producing Animals/Slaughtered  Production  \\\n",
      "Domain                                                                    \n",
      "Crops and livestock products                            231        1467   \n",
      "All                                                     231        1467   \n",
      "\n",
      "Element                       Stocks  Yield  Yield/Carcass Weight   All  \n",
      "Domain                                                                   \n",
      "Crops and livestock products     143    844                    99  3609  \n",
      "All                              143    844                    99  3609  \n"
     ]
    }
   ],
   "source": [
    "chisqt = pandas.crosstab(df.Domain, df.Element, margins=True)\n",
    "print(chisqt)"
   ]
  },
  {
   "cell_type": "code",
   "execution_count": null,
   "id": "afde2408",
   "metadata": {},
   "outputs": [],
   "source": []
  }
 ],
 "metadata": {
  "kernelspec": {
   "display_name": "Python 3 (ipykernel)",
   "language": "python",
   "name": "python3"
  },
  "language_info": {
   "codemirror_mode": {
    "name": "ipython",
    "version": 3
   },
   "file_extension": ".py",
   "mimetype": "text/x-python",
   "name": "python",
   "nbconvert_exporter": "python",
   "pygments_lexer": "ipython3",
   "version": "3.9.12"
  }
 },
 "nbformat": 4,
 "nbformat_minor": 5
}
