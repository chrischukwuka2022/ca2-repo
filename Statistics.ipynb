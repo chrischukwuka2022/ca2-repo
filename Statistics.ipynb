{
 "cells": [
  {
   "cell_type": "markdown",
   "id": "37676919",
   "metadata": {},
   "source": [
    "# IRELAND DATASET"
   ]
  },
  {
   "cell_type": "code",
   "execution_count": 36,
   "id": "3685f183",
   "metadata": {},
   "outputs": [],
   "source": [
    "# importing packages\n",
    "import pandas as pd\n",
    "import numpy as np\n",
    "import os\n",
    "import seaborn as sns\n",
    "import datetime as dt\n",
    "from cmath import sqrt\n",
    "import warnings\n",
    "import matplotlib.pyplot as plt\n",
    "import datetime\n",
    "import datetime as dt\n",
    "import sklearn\n",
    "#import folium\n",
    "import warnings\n",
    "#import pydotplus\n",
    "import six\n",
    "import sys\n",
    "import statistics as st\n",
    "#import functions as fn\n",
    "#import cufflinks as cf\n",
    "\n",
    "#cf.set_config_file(offline=True)\n",
    "\n",
    "#prof.to_file(output_file='output.html')\n",
    "sys.modules['sklearn.externals.six'] = six\n",
    "warnings.filterwarnings('ignore')\n",
    "\n",
    "\n",
    "#from explainerdashboard import RegressionExplainer, ExplainerDashboard\n",
    "\n",
    "#for interactive analysis\n",
    "from ipywidgets import interact\n",
    "\n",
    "%matplotlib inline"
   ]
  },
  {
   "cell_type": "markdown",
   "id": "3f323672",
   "metadata": {},
   "source": [
    "# Descriptive Statistics for the Target feature: crop value"
   ]
  },
  {
   "cell_type": "code",
   "execution_count": 37,
   "id": "57a43a12",
   "metadata": {},
   "outputs": [],
   "source": [
    "#Reading in df_irishdmodels cleaned dataset\n",
    "\n",
    "df_irishdata = pd.read_csv('df_irishmodels.csv')\n",
    "\n"
   ]
  },
  {
   "cell_type": "code",
   "execution_count": 38,
   "id": "6a77e4a8",
   "metadata": {
    "scrolled": true
   },
   "outputs": [
    {
     "data": {
      "text/html": [
       "<div>\n",
       "<style scoped>\n",
       "    .dataframe tbody tr th:only-of-type {\n",
       "        vertical-align: middle;\n",
       "    }\n",
       "\n",
       "    .dataframe tbody tr th {\n",
       "        vertical-align: top;\n",
       "    }\n",
       "\n",
       "    .dataframe thead th {\n",
       "        text-align: right;\n",
       "    }\n",
       "</style>\n",
       "<table border=\"1\" class=\"dataframe\">\n",
       "  <thead>\n",
       "    <tr style=\"text-align: right;\">\n",
       "      <th></th>\n",
       "      <th>Unnamed: 0</th>\n",
       "      <th>Year</th>\n",
       "      <th>country</th>\n",
       "      <th>crop_measurement</th>\n",
       "      <th>crops_type</th>\n",
       "      <th>crops_action</th>\n",
       "      <th>crop_value</th>\n",
       "      <th>import_export_value</th>\n",
       "    </tr>\n",
       "  </thead>\n",
       "  <tbody>\n",
       "    <tr>\n",
       "      <th>0</th>\n",
       "      <td>0</td>\n",
       "      <td>2017</td>\n",
       "      <td>Ireland</td>\n",
       "      <td>ha</td>\n",
       "      <td>Apples</td>\n",
       "      <td>Area harvested</td>\n",
       "      <td>695.0</td>\n",
       "      <td>615.0</td>\n",
       "    </tr>\n",
       "    <tr>\n",
       "      <th>1</th>\n",
       "      <td>1</td>\n",
       "      <td>2017</td>\n",
       "      <td>Ireland</td>\n",
       "      <td>ha</td>\n",
       "      <td>Apples</td>\n",
       "      <td>Area harvested</td>\n",
       "      <td>695.0</td>\n",
       "      <td>545.0</td>\n",
       "    </tr>\n",
       "    <tr>\n",
       "      <th>2</th>\n",
       "      <td>2</td>\n",
       "      <td>2017</td>\n",
       "      <td>Ireland</td>\n",
       "      <td>ha</td>\n",
       "      <td>Apples</td>\n",
       "      <td>Area harvested</td>\n",
       "      <td>695.0</td>\n",
       "      <td>1985.0</td>\n",
       "    </tr>\n",
       "    <tr>\n",
       "      <th>3</th>\n",
       "      <td>3</td>\n",
       "      <td>2017</td>\n",
       "      <td>Ireland</td>\n",
       "      <td>ha</td>\n",
       "      <td>Apples</td>\n",
       "      <td>Area harvested</td>\n",
       "      <td>695.0</td>\n",
       "      <td>14778.0</td>\n",
       "    </tr>\n",
       "    <tr>\n",
       "      <th>4</th>\n",
       "      <td>4</td>\n",
       "      <td>2017</td>\n",
       "      <td>Ireland</td>\n",
       "      <td>ha</td>\n",
       "      <td>Apples</td>\n",
       "      <td>Area harvested</td>\n",
       "      <td>695.0</td>\n",
       "      <td>17923.0</td>\n",
       "    </tr>\n",
       "    <tr>\n",
       "      <th>...</th>\n",
       "      <td>...</td>\n",
       "      <td>...</td>\n",
       "      <td>...</td>\n",
       "      <td>...</td>\n",
       "      <td>...</td>\n",
       "      <td>...</td>\n",
       "      <td>...</td>\n",
       "      <td>...</td>\n",
       "    </tr>\n",
       "    <tr>\n",
       "      <th>57655</th>\n",
       "      <td>57655</td>\n",
       "      <td>2020</td>\n",
       "      <td>Ireland</td>\n",
       "      <td>tonnes</td>\n",
       "      <td>Wheat</td>\n",
       "      <td>Production</td>\n",
       "      <td>364920.0</td>\n",
       "      <td>8262.0</td>\n",
       "    </tr>\n",
       "    <tr>\n",
       "      <th>57656</th>\n",
       "      <td>57656</td>\n",
       "      <td>2020</td>\n",
       "      <td>Ireland</td>\n",
       "      <td>tonnes</td>\n",
       "      <td>Wheat</td>\n",
       "      <td>Production</td>\n",
       "      <td>364920.0</td>\n",
       "      <td>2099.0</td>\n",
       "    </tr>\n",
       "    <tr>\n",
       "      <th>57657</th>\n",
       "      <td>57657</td>\n",
       "      <td>2020</td>\n",
       "      <td>Ireland</td>\n",
       "      <td>tonnes</td>\n",
       "      <td>Wheat</td>\n",
       "      <td>Production</td>\n",
       "      <td>364920.0</td>\n",
       "      <td>646.0</td>\n",
       "    </tr>\n",
       "    <tr>\n",
       "      <th>57658</th>\n",
       "      <td>57658</td>\n",
       "      <td>2020</td>\n",
       "      <td>Ireland</td>\n",
       "      <td>tonnes</td>\n",
       "      <td>Wheat</td>\n",
       "      <td>Production</td>\n",
       "      <td>364920.0</td>\n",
       "      <td>174.0</td>\n",
       "    </tr>\n",
       "    <tr>\n",
       "      <th>57659</th>\n",
       "      <td>57659</td>\n",
       "      <td>2020</td>\n",
       "      <td>Ireland</td>\n",
       "      <td>tonnes</td>\n",
       "      <td>Wheat</td>\n",
       "      <td>Production</td>\n",
       "      <td>364920.0</td>\n",
       "      <td>50992.0</td>\n",
       "    </tr>\n",
       "  </tbody>\n",
       "</table>\n",
       "<p>57660 rows × 8 columns</p>\n",
       "</div>"
      ],
      "text/plain": [
       "       Unnamed: 0  Year  country crop_measurement crops_type    crops_action  \\\n",
       "0               0  2017  Ireland               ha     Apples  Area harvested   \n",
       "1               1  2017  Ireland               ha     Apples  Area harvested   \n",
       "2               2  2017  Ireland               ha     Apples  Area harvested   \n",
       "3               3  2017  Ireland               ha     Apples  Area harvested   \n",
       "4               4  2017  Ireland               ha     Apples  Area harvested   \n",
       "...           ...   ...      ...              ...        ...             ...   \n",
       "57655       57655  2020  Ireland           tonnes      Wheat      Production   \n",
       "57656       57656  2020  Ireland           tonnes      Wheat      Production   \n",
       "57657       57657  2020  Ireland           tonnes      Wheat      Production   \n",
       "57658       57658  2020  Ireland           tonnes      Wheat      Production   \n",
       "57659       57659  2020  Ireland           tonnes      Wheat      Production   \n",
       "\n",
       "       crop_value  import_export_value  \n",
       "0           695.0                615.0  \n",
       "1           695.0                545.0  \n",
       "2           695.0               1985.0  \n",
       "3           695.0              14778.0  \n",
       "4           695.0              17923.0  \n",
       "...           ...                  ...  \n",
       "57655    364920.0               8262.0  \n",
       "57656    364920.0               2099.0  \n",
       "57657    364920.0                646.0  \n",
       "57658    364920.0                174.0  \n",
       "57659    364920.0              50992.0  \n",
       "\n",
       "[57660 rows x 8 columns]"
      ]
     },
     "execution_count": 38,
     "metadata": {},
     "output_type": "execute_result"
    }
   ],
   "source": [
    "df_irishdata"
   ]
  },
  {
   "cell_type": "code",
   "execution_count": 39,
   "id": "b56dcd08",
   "metadata": {},
   "outputs": [
    {
     "data": {
      "text/plain": [
       "array(['Apples', 'Barley', 'Beans, green', 'Berries nes',\n",
       "       'Broad beans, horse beans, dry', 'Butter, cow milk',\n",
       "       'Cabbages and other brassicas', 'Carrots and turnips',\n",
       "       'Cauliflowers and broccoli', 'Cereals nes',\n",
       "       'Chillies and peppers, green', 'Cucumbers and gherkins',\n",
       "       'Currants', 'Leeks, other alliaceous vegetables',\n",
       "       'Lettuce and chicory', 'Mushrooms and truffles', 'Oats',\n",
       "       'Oil, coconut (copra)', 'Onions, dry', 'Peas, dry', 'Peas, green',\n",
       "       'Potatoes', 'Raspberries', 'Rye', 'Spinach', 'Strawberries',\n",
       "       'Sugar beet', 'Tomatoes', 'Vegetables, leguminous nes', 'Wheat',\n",
       "       'Whey, dry', 'Apricots', 'Avocados', 'Bananas', 'Chestnut', 'Figs',\n",
       "       'Fruit, citrus nes', 'Fruit, pome nes', 'Fruit, stone nes',\n",
       "       'Grain, mixed', 'Grapefruit (inc. pomelos)', 'Grapes',\n",
       "       'Hazelnuts, with shell', 'Kiwi fruit', 'Lemons and limes',\n",
       "       'Lupins', 'Maize', 'Melons, other (inc.cantaloupes)', 'Nuts nes',\n",
       "       'Olives', 'Oranges', 'Peaches and nectarines', 'Pulses nes',\n",
       "       'Pumpkins, squash and gourds', 'Rice, paddy',\n",
       "       'Rice, paddy (rice milled equivalent)', 'Soybeans',\n",
       "       'Tangerines, mandarins, clementines, satsumas',\n",
       "       'Walnuts, with shell', 'Watermelons', 'Eggplants (aubergines)',\n",
       "       'Linseed', 'Sunflower seed'], dtype=object)"
      ]
     },
     "execution_count": 39,
     "metadata": {},
     "output_type": "execute_result"
    }
   ],
   "source": [
    "df_irishdata.crops_type.unique()"
   ]
  },
  {
   "cell_type": "code",
   "execution_count": 40,
   "id": "c450e34c",
   "metadata": {},
   "outputs": [
    {
     "data": {
      "text/html": [
       "<div>\n",
       "<style scoped>\n",
       "    .dataframe tbody tr th:only-of-type {\n",
       "        vertical-align: middle;\n",
       "    }\n",
       "\n",
       "    .dataframe tbody tr th {\n",
       "        vertical-align: top;\n",
       "    }\n",
       "\n",
       "    .dataframe thead th {\n",
       "        text-align: right;\n",
       "    }\n",
       "</style>\n",
       "<table border=\"1\" class=\"dataframe\">\n",
       "  <thead>\n",
       "    <tr style=\"text-align: right;\">\n",
       "      <th></th>\n",
       "      <th>Unnamed: 0</th>\n",
       "      <th>Year</th>\n",
       "      <th>crop_value</th>\n",
       "      <th>import_export_value</th>\n",
       "    </tr>\n",
       "  </thead>\n",
       "  <tbody>\n",
       "    <tr>\n",
       "      <th>count</th>\n",
       "      <td>57660.000000</td>\n",
       "      <td>57660.000000</td>\n",
       "      <td>5.766000e+04</td>\n",
       "      <td>57660.000000</td>\n",
       "    </tr>\n",
       "    <tr>\n",
       "      <th>mean</th>\n",
       "      <td>28829.500000</td>\n",
       "      <td>2018.649462</td>\n",
       "      <td>1.931997e+05</td>\n",
       "      <td>9073.481408</td>\n",
       "    </tr>\n",
       "    <tr>\n",
       "      <th>std</th>\n",
       "      <td>16645.152598</td>\n",
       "      <td>1.067478</td>\n",
       "      <td>4.719297e+05</td>\n",
       "      <td>20373.360680</td>\n",
       "    </tr>\n",
       "    <tr>\n",
       "      <th>min</th>\n",
       "      <td>0.000000</td>\n",
       "      <td>2017.000000</td>\n",
       "      <td>2.000000e+00</td>\n",
       "      <td>25.000000</td>\n",
       "    </tr>\n",
       "    <tr>\n",
       "      <th>25%</th>\n",
       "      <td>14414.750000</td>\n",
       "      <td>2018.000000</td>\n",
       "      <td>5.890000e+03</td>\n",
       "      <td>331.000000</td>\n",
       "    </tr>\n",
       "    <tr>\n",
       "      <th>50%</th>\n",
       "      <td>28829.500000</td>\n",
       "      <td>2019.000000</td>\n",
       "      <td>1.492495e+05</td>\n",
       "      <td>2099.000000</td>\n",
       "    </tr>\n",
       "    <tr>\n",
       "      <th>75%</th>\n",
       "      <td>43244.250000</td>\n",
       "      <td>2020.000000</td>\n",
       "      <td>1.492495e+05</td>\n",
       "      <td>8378.000000</td>\n",
       "    </tr>\n",
       "    <tr>\n",
       "      <th>max</th>\n",
       "      <td>57659.000000</td>\n",
       "      <td>2020.000000</td>\n",
       "      <td>3.920000e+06</td>\n",
       "      <td>157805.000000</td>\n",
       "    </tr>\n",
       "  </tbody>\n",
       "</table>\n",
       "</div>"
      ],
      "text/plain": [
       "         Unnamed: 0          Year    crop_value  import_export_value\n",
       "count  57660.000000  57660.000000  5.766000e+04         57660.000000\n",
       "mean   28829.500000   2018.649462  1.931997e+05          9073.481408\n",
       "std    16645.152598      1.067478  4.719297e+05         20373.360680\n",
       "min        0.000000   2017.000000  2.000000e+00            25.000000\n",
       "25%    14414.750000   2018.000000  5.890000e+03           331.000000\n",
       "50%    28829.500000   2019.000000  1.492495e+05          2099.000000\n",
       "75%    43244.250000   2020.000000  1.492495e+05          8378.000000\n",
       "max    57659.000000   2020.000000  3.920000e+06        157805.000000"
      ]
     },
     "execution_count": 40,
     "metadata": {},
     "output_type": "execute_result"
    }
   ],
   "source": [
    "#inspect the dataframe for outliers will display the min,max mean and inner and outer quariles for all features\n",
    "df_irishdata.describe()"
   ]
  },
  {
   "cell_type": "code",
   "execution_count": 41,
   "id": "7b88dc53",
   "metadata": {},
   "outputs": [
    {
     "name": "stdout",
     "output_type": "stream",
     "text": [
      "<class 'pandas.core.frame.DataFrame'>\n",
      "RangeIndex: 57660 entries, 0 to 57659\n",
      "Data columns (total 8 columns):\n",
      " #   Column               Non-Null Count  Dtype  \n",
      "---  ------               --------------  -----  \n",
      " 0   Unnamed: 0           57660 non-null  int64  \n",
      " 1   Year                 57660 non-null  int64  \n",
      " 2   country              57660 non-null  object \n",
      " 3   crop_measurement     57660 non-null  object \n",
      " 4   crops_type           57660 non-null  object \n",
      " 5   crops_action         57660 non-null  object \n",
      " 6   crop_value           57660 non-null  float64\n",
      " 7   import_export_value  57660 non-null  float64\n",
      "dtypes: float64(2), int64(2), object(4)\n",
      "memory usage: 3.5+ MB\n"
     ]
    }
   ],
   "source": [
    "df_irishdata.info()"
   ]
  },
  {
   "cell_type": "code",
   "execution_count": 42,
   "id": "081d1d7a",
   "metadata": {},
   "outputs": [],
   "source": [
    "#Barley.mean()"
   ]
  },
  {
   "cell_type": "code",
   "execution_count": 43,
   "id": "96a03c36",
   "metadata": {},
   "outputs": [
    {
     "data": {
      "image/png": "[encoded data removed]",
      "text/plain": [
       "<Figure size 1152x288 with 1 Axes>"
      ]
     },
     "metadata": {
      "needs_background": "light"
     },
     "output_type": "display_data"
    }
   ],
   "source": [
    "#boxplot for the target feature crop_value\n",
    "plt.figure(figsize = (16,4))\n",
    "sns.boxplot(x= df_irishdata['crop_value'])\n",
    "plt.show()"
   ]
  },
  {
   "cell_type": "code",
   "execution_count": 44,
   "id": "7500c405",
   "metadata": {},
   "outputs": [
    {
     "name": "stdout",
     "output_type": "stream",
     "text": [
      "471929.7023057815\n"
     ]
    }
   ],
   "source": [
    "#print the std of the target feature\n",
    "std_cropvalue = df_irishdata[\"crop_value\"].std()\n",
    "print(std_cropvalue)"
   ]
  },
  {
   "cell_type": "code",
   "execution_count": 45,
   "id": "ef105ac2",
   "metadata": {},
   "outputs": [
    {
     "name": "stdout",
     "output_type": "stream",
     "text": [
      "222717643918.42355\n"
     ]
    }
   ],
   "source": [
    "#print the variance of the target feature\n",
    "\n",
    "var_cropvalue= df_irishdata[\"crop_value\"].var()\n",
    "print(var_cropvalue)"
   ]
  },
  {
   "cell_type": "code",
   "execution_count": 46,
   "id": "a9ff41f1",
   "metadata": {},
   "outputs": [
    {
     "name": "stdout",
     "output_type": "stream",
     "text": [
      "193199.6637651423\n"
     ]
    }
   ],
   "source": [
    "#print the mean of the target feature\n",
    "mean_cropvalue= df_irishdata['crop_value'].mean()\n",
    "print(mean_cropvalue)"
   ]
  },
  {
   "cell_type": "code",
   "execution_count": 47,
   "id": "0f1bcf0a",
   "metadata": {},
   "outputs": [
    {
     "name": "stdout",
     "output_type": "stream",
     "text": [
      "149249.4953422438\n"
     ]
    }
   ],
   "source": [
    "#print the median of the target feature\n",
    "median = df_irishdata['crop_value'].median()\n",
    "print(median)"
   ]
  },
  {
   "cell_type": "code",
   "execution_count": 48,
   "id": "0459f36f",
   "metadata": {},
   "outputs": [
    {
     "name": "stdout",
     "output_type": "stream",
     "text": [
      "0    149249.495342\n",
      "Name: crop_value, dtype: float64\n"
     ]
    }
   ],
   "source": [
    "#print the mode of the target feature\n",
    "mode = df_irishdata['crop_value'].mode()\n",
    "print(mode)"
   ]
  },
  {
   "cell_type": "code",
   "execution_count": 49,
   "id": "64205b37",
   "metadata": {},
   "outputs": [
    {
     "data": {
      "text/plain": [
       "[Text(0.5, 0, 'Crop Price'),\n",
       " Text(0, 0.5, 'Cropvalue'),\n",
       " Text(0.5, 1.0, 'Cropvalue Histogram')]"
      ]
     },
     "execution_count": 49,
     "metadata": {},
     "output_type": "execute_result"
    },
    {
     "data": {
      "image/png": "[encoded data removed]",
      "text/plain": [
       "<Figure size 432x288 with 1 Axes>"
      ]
     },
     "metadata": {
      "needs_background": "light"
     },
     "output_type": "display_data"
    }
   ],
   "source": [
    "#histplot to display the distribution of crop _value\n",
    "ax = sns.histplot(df_irishdata.crop_value)\n",
    "ax.set(xlabel='Crop Price', ylabel='Cropvalue', title ='Cropvalue Histogram')"
   ]
  },
  {
   "cell_type": "markdown",
   "id": "5bde0bcb",
   "metadata": {},
   "source": [
    "We can see from the above graph that the variable crop_value is slightly right or postively skewed"
   ]
  },
  {
   "cell_type": "code",
   "execution_count": 50,
   "id": "c7e03443",
   "metadata": {},
   "outputs": [
    {
     "data": {
      "text/plain": [
       "Text(0.5, 1.0, 'Box plot Crop Value by Crop Action')"
      ]
     },
     "execution_count": 50,
     "metadata": {},
     "output_type": "execute_result"
    },
    {
     "data": {
      "image/png": "[encoded data removed]",
      "text/plain": [
       "<Figure size 432x288 with 1 Axes>"
      ]
     },
     "metadata": {
      "needs_background": "light"
     },
     "output_type": "display_data"
    }
   ],
   "source": [
    "#Box plot to depict Box plot Crop Value by Crop Action\n",
    "sns.boxplot(x = 'Year', y ='crop_value', data=df_irishdata, hue = 'crops_action')\n",
    "plt.legend(bbox_to_anchor=(1.02, 1), loc='upper left', borderaxespad=0)\n",
    "plt.title('Box plot Crop Value by Crop Action', fontsize=15)"
   ]
  },
  {
   "cell_type": "markdown",
   "id": "1d4e26a2",
   "metadata": {},
   "source": [
    "# Ireland Annual mean variance plot"
   ]
  },
  {
   "cell_type": "code",
   "execution_count": 51,
   "id": "f57613d6",
   "metadata": {},
   "outputs": [
    {
     "data": {
      "image/png": "[encoded data removed]",
      "text/plain": [
       "<Figure size 432x288 with 1 Axes>"
      ]
     },
     "metadata": {
      "needs_background": "light"
     },
     "output_type": "display_data"
    }
   ],
   "source": [
    "df_irishdata[['Year', 'import_export_value', \n",
    "                           'crop_value']].pct_change().plot(kind='box', rot=90)\n",
    "plt.title(\"Ireland average trade Variance box Plot\", fontsize=20);"
   ]
  },
  {
   "cell_type": "markdown",
   "id": "00b4b0e5",
   "metadata": {},
   "source": [
    "# Ireland annual cropvalue and Import_export variance plot"
   ]
  },
  {
   "cell_type": "code",
   "execution_count": 52,
   "id": "866bbbff",
   "metadata": {},
   "outputs": [
    {
     "data": {
      "image/png": "[encoded data removed]",
      "text/plain": [
       "<Figure size 432x288 with 1 Axes>"
      ]
     },
     "metadata": {
      "needs_background": "light"
     },
     "output_type": "display_data"
    }
   ],
   "source": [
    "df_irishdata[['Year', 'crop_value', \n",
    "                           'import_export_value']].pct_change().plot(kind='box', rot=90)\n",
    "plt.title(\"Ireland yearly Variance box Plot\", fontsize=20);"
   ]
  },
  {
   "cell_type": "markdown",
   "id": "6c86b76a",
   "metadata": {},
   "source": [
    "# Using Chi-square test on a the IrishCrops dataset"
   ]
  },
  {
   "cell_type": "code",
   "execution_count": 53,
   "id": "3a8d7d53",
   "metadata": {
    "scrolled": true
   },
   "outputs": [
    {
     "name": "stdout",
     "output_type": "stream",
     "text": [
      "['Domain', 'Area', 'Element', 'item', 'Unit']\n"
     ]
    }
   ],
   "source": [
    "import pandas\n",
    "df= pandas.read_csv(\"FAOSTAT_data_5-1-2022 (2).csv\")\n",
    "categorical_col = ['Domain', 'Area', 'Element', 'item', 'Unit']\n",
    "print(categorical_col)\n"
   ]
  },
  {
   "cell_type": "markdown",
   "id": "54dda8cb",
   "metadata": {},
   "source": [
    "using the crosstab() function to create a contingency table of the two selected variables to work on ‘Element’ and ‘item’."
   ]
  },
  {
   "cell_type": "code",
   "execution_count": 54,
   "id": "e2336ab7",
   "metadata": {},
   "outputs": [
    {
     "name": "stdout",
     "output_type": "stream",
     "text": [
      "Unit                          0.1g/An  1000 Head  1000 No  100mg/An  Head  \\\n",
      "Domain                                                                      \n",
      "Crops and livestock products       38         90        8         8   237   \n",
      "All                                38         90        8         8   237   \n",
      "\n",
      "Unit                          No/An   ha  hg/An  hg/ha  tonnes   All  \n",
      "Domain                                                                \n",
      "Crops and livestock products      8  470     68    294     908  2129  \n",
      "All                               8  470     68    294     908  2129  \n"
     ]
    }
   ],
   "source": [
    "chisqt = pandas.crosstab(df.Domain, df.Unit, margins=True)\n",
    "print(chisqt)"
   ]
  },
  {
   "cell_type": "markdown",
   "id": "0316d918",
   "metadata": {},
   "source": [
    "At last, we apply the chi2_contingency() function on the table and get the statistics, p-value and degree of freedom values"
   ]
  },
  {
   "cell_type": "code",
   "execution_count": 55,
   "id": "ee7e2f5d",
   "metadata": {},
   "outputs": [
    {
     "name": "stdout",
     "output_type": "stream",
     "text": [
      "(0.0, 1.0, 9)\n"
     ]
    }
   ],
   "source": [
    "from scipy.stats import chi2_contingency \n",
    "import numpy as np\n",
    "chisqt = pandas.crosstab(df.Domain, df.Unit, margins=True)\n",
    "value = np.array([chisqt.iloc[0][0:10].values,\n",
    "                  chisqt.iloc[1][0:10].values])\n",
    "print(chi2_contingency(value)[0:3])"
   ]
  },
  {
   "cell_type": "markdown",
   "id": "0d89ef41",
   "metadata": {},
   "source": [
    "From above, 1.0 is the p-value, 0.0 is the statistical value and 9 is the degree of freedom. As the p-value is greater than 0.05, we accept the NULL hypothesis and assume that the variables ‘Domain’ and ‘Unit’ are independent of each other."
   ]
  },
  {
   "cell_type": "markdown",
   "id": "9fbebbed",
   "metadata": {},
   "source": [
    "# Shapiro-Wilk Test"
   ]
  },
  {
   "cell_type": "markdown",
   "id": "fde7012b",
   "metadata": {},
   "source": [
    "Tests whether a data sample has a Gaussian distribution."
   ]
  },
  {
   "cell_type": "code",
   "execution_count": 56,
   "id": "0aea0d3c",
   "metadata": {},
   "outputs": [
    {
     "name": "stdout",
     "output_type": "stream",
     "text": [
      "stat=0.895, p=0.193\n",
      "Probably Gaussian\n"
     ]
    }
   ],
   "source": [
    "# Example of the Shapiro-Wilk Normality Tes\n",
    "from scipy.stats import shapiro\n",
    "year= [0.873, 2.817, 0.121, -0.945, -0.055, -1.436, 0.360, -1.478, -1.637, -1.869]\n",
    "stat, p = shapiro(year)\n",
    "print('stat=%.3f, p=%.3f' % (stat, p))\n",
    "if p > 0.05:\n",
    "\tprint('Probably Gaussian')\n",
    "else:\n",
    "\tprint('Probably not Gaussian')"
   ]
  },
  {
   "cell_type": "markdown",
   "id": "a6498439",
   "metadata": {},
   "source": [
    "Assumptions\n",
    "\n",
    "Observations in each sample are independent and identically distributed (iid).\n",
    "\n",
    "Interpretation\n",
    "\n",
    "H0: the sample has a Gaussian distribution.\n",
    "\n",
    "H1: the sample does not have a Gaussian distribution.\n"
   ]
  },
  {
   "cell_type": "markdown",
   "id": "e8048248",
   "metadata": {},
   "source": [
    "value of the Shapiro-Wilk Test is greater than 0.05, the data is normal. If it is below 0.05, the data significantly deviate from a normal distribution"
   ]
  },
  {
   "cell_type": "markdown",
   "id": "71d25b47",
   "metadata": {},
   "source": [
    "# Shapiro-Wilk Test"
   ]
  },
  {
   "cell_type": "code",
   "execution_count": 57,
   "id": "57246358",
   "metadata": {},
   "outputs": [
    {
     "data": {
      "text/plain": [
       "ShapiroResult(statistic=0.966901957988739, pvalue=0.00011927181185455993)"
      ]
     },
     "execution_count": 57,
     "metadata": {},
     "output_type": "execute_result"
    }
   ],
   "source": [
    "# import useful library\n",
    "import numpy as np\n",
    "from numpy.random import poisson\n",
    "from numpy.random import seed\n",
    "from scipy.stats import shapiro\n",
    "from numpy.random import randn\n",
    "  \n",
    "seed(0)\n",
    "# Create data\n",
    "crops_action = poisson(5, 200)\n",
    "  \n",
    "# conduct the  Shapiro-Wilk Test\n",
    "shapiro(crops_action)"
   ]
  },
  {
   "cell_type": "markdown",
   "id": "a6cfe369",
   "metadata": {},
   "source": [
    "Since in the above example, the p-value is 0.0001 which is less than the alpha(0.5) then we reject the null hypothesis i.e. we have sufficient evidence to say that sample does not come from a normal distribution"
   ]
  },
  {
   "cell_type": "markdown",
   "id": "0515b4f9",
   "metadata": {},
   "source": [
    "# Pearson’s Correlation Coefficient\n",
    "\n",
    "Tests whether two samples have a linear relationship.\n"
   ]
  },
  {
   "cell_type": "markdown",
   "id": "a7b65f23",
   "metadata": {},
   "source": [
    "Assumptions\n",
    "\n",
    "Observations in each sample are independent and identically distributed (iid). \n",
    "\n",
    "Observations in each sample are normally distributed. Observations in each sample have the same variance.\n"
   ]
  },
  {
   "cell_type": "code",
   "execution_count": 58,
   "id": "7895bd8e",
   "metadata": {},
   "outputs": [
    {
     "name": "stdout",
     "output_type": "stream",
     "text": [
      "stat=0.688, p=0.028\n",
      "Probably dependent\n"
     ]
    }
   ],
   "source": [
    "from scipy.stats import pearsonr\n",
    "crop_value = [0.873, 2.817, 0.121, -0.945, -0.055, -1.436, 0.360, -1.478, -1.637, -1.869]\n",
    "crop_action= [0.353, 3.517, 0.125, -7.545, -0.555, -1.536, 3.350, -1.578, -3.537, -1.579]\n",
    "stat, p = pearsonr(crop_value, crop_action)\n",
    "print('stat=%.3f, p=%.3f' % (stat, p))\n",
    "if p > 0.05:\n",
    "\tprint('Probably independent')\n",
    "else:\n",
    "\tprint('Probably dependent')"
   ]
  },
  {
   "cell_type": "markdown",
   "id": "0f96a701",
   "metadata": {},
   "source": [
    "Interpretation\n",
    "\n",
    "H0: the two samples are independent. \n",
    "    \n",
    "H1: there is a dependency between the samples\n"
   ]
  },
  {
   "cell_type": "markdown",
   "id": "33a16864",
   "metadata": {},
   "source": [
    "# Spearman’s Rank Correlation"
   ]
  },
  {
   "cell_type": "markdown",
   "id": "81c3976d",
   "metadata": {},
   "source": [
    "Tests whether two samples have a monotonic relationship.\n",
    "\n",
    "Assumptions\n",
    "\n",
    "Observations in each sample are independent and identically distributed (iid).\n",
    "\n",
    "Observations in each sample can be ranked"
   ]
  },
  {
   "cell_type": "code",
   "execution_count": 59,
   "id": "22e017c1",
   "metadata": {},
   "outputs": [
    {
     "name": "stdout",
     "output_type": "stream",
     "text": [
      "stat=0.855, p=0.002\n",
      "Probably dependent\n"
     ]
    }
   ],
   "source": [
    "from scipy.stats import spearmanr\n",
    "crop_value = [0.873, 2.817, 0.121, -0.945, -0.055, -1.436, 0.360, -1.478, -1.637, -1.869]\n",
    "crop_measurement = [0.353, 3.517, 0.125, -7.545, -0.555, -1.536, 3.350, -1.578, -3.537, -1.579]\n",
    "stat, p = spearmanr(crop_value, crop_measurement)\n",
    "print('stat=%.3f, p=%.3f' % (stat, p))\n",
    "if p > 0.05:\n",
    "\tprint('Probably independent')\n",
    "else:\n",
    "\tprint('Probably dependent')"
   ]
  },
  {
   "cell_type": "markdown",
   "id": "82c0c3f9",
   "metadata": {},
   "source": [
    "Interpretation\n",
    "\n",
    "H0: the two samples are independent.\n",
    "\n",
    "H1: there is a dependency between the samples"
   ]
  },
  {
   "cell_type": "markdown",
   "id": "5781d006",
   "metadata": {},
   "source": [
    "# D’Agostino’s K^2 Test - Normality Test\n",
    "\n",
    "Tests whether a data sample has a Gaussian distribution.\n"
   ]
  },
  {
   "cell_type": "code",
   "execution_count": 60,
   "id": "7938eafa",
   "metadata": {},
   "outputs": [
    {
     "name": "stdout",
     "output_type": "stream",
     "text": [
      "stat=3.392, p=0.183\n",
      "Probably Gaussian\n"
     ]
    }
   ],
   "source": [
    "from scipy.stats import normaltest\n",
    "df_irish = [0.873, 2.817, 0.121, -0.945, -0.055, -1.436, 0.360, -1.478, -1.637, -1.869]\n",
    "stat, p = normaltest(df_irish)\n",
    "print('stat=%.3f, p=%.3f' % (stat, p))\n",
    "if p > 0.05:\n",
    "\tprint('Probably Gaussian')\n",
    "else:\n",
    "\tprint('Probably not Gaussian')"
   ]
  },
  {
   "cell_type": "markdown",
   "id": "9c9dd615",
   "metadata": {},
   "source": [
    "Assumptions\n",
    "\n",
    "Observations in each sample are independent and identically distributed (iid).\n",
    "\n",
    "Interpretation\n",
    "\n",
    "H0: the sample has a Gaussian distribution. \n",
    "    \n",
    "H1: the sample does not have a Gaussian distribution.\n"
   ]
  },
  {
   "cell_type": "markdown",
   "id": "f974db1f",
   "metadata": {},
   "source": [
    "# Chi-Squared Test\n",
    "\n",
    "Tests whether two categorical variables are related or independent.\n",
    "\n",
    "Assumptions\n",
    "\n",
    "Observations used in the calculation of the contingency table are independent.\n",
    "\n",
    "25 or more examples in each cell of the contingency table.\n"
   ]
  },
  {
   "cell_type": "code",
   "execution_count": 61,
   "id": "a67ec82f",
   "metadata": {},
   "outputs": [
    {
     "name": "stdout",
     "output_type": "stream",
     "text": [
      "stat=0.272, p=0.873\n",
      "Probably independent\n"
     ]
    }
   ],
   "source": [
    "# Example of the Chi-Squared Test\n",
    "from scipy.stats import chi2_contingency\n",
    "crop_value = [[10, 20, 30],[6,  9,  17]]\n",
    "stat, p, dof, expected = chi2_contingency(crop_value)\n",
    "print('stat=%.3f, p=%.3f' % (stat, p))\n",
    "if p > 0.05:\n",
    "\tprint('Probably independent')\n",
    "else:\n",
    "\tprint('Probably dependent')"
   ]
  },
  {
   "cell_type": "markdown",
   "id": "fd27f330",
   "metadata": {},
   "source": [
    "We can see that the P - value for crop value is greater than 0.5 and is probably independant"
   ]
  },
  {
   "cell_type": "markdown",
   "id": "84f1ed2c",
   "metadata": {},
   "source": [
    "# Interpretation\n",
    "\n",
    "H0: the two samples are independent.\n",
    "\n",
    "H1: there is a dependency between the samples."
   ]
  },
  {
   "cell_type": "markdown",
   "id": "f3d24abf",
   "metadata": {},
   "source": [
    "# Parametric Statistical Hypothesis Tests\n",
    "\n",
    "This section lists statistical tests that you can use to compare data samples\n"
   ]
  },
  {
   "cell_type": "markdown",
   "id": "90db2b90",
   "metadata": {},
   "source": [
    "# Paired Student’s t-test\n",
    "\n",
    "Tests whether the means of two paired samples are significantly different.\n",
    "\n",
    "Assumptions\n",
    "\n",
    "Observations in each sample are independent and identically distributed (iid).\n",
    "\n",
    "Observations in each sample are normally distributed.\n",
    "\n",
    "Observations in each sample have the same variance.\n",
    "\n",
    "Observations across each sample are paired.\n"
   ]
  },
  {
   "cell_type": "code",
   "execution_count": 62,
   "id": "755767fa",
   "metadata": {},
   "outputs": [
    {
     "data": {
      "text/html": [
       "<div>\n",
       "<style scoped>\n",
       "    .dataframe tbody tr th:only-of-type {\n",
       "        vertical-align: middle;\n",
       "    }\n",
       "\n",
       "    .dataframe tbody tr th {\n",
       "        vertical-align: top;\n",
       "    }\n",
       "\n",
       "    .dataframe thead th {\n",
       "        text-align: right;\n",
       "    }\n",
       "</style>\n",
       "<table border=\"1\" class=\"dataframe\">\n",
       "  <thead>\n",
       "    <tr style=\"text-align: right;\">\n",
       "      <th></th>\n",
       "      <th>Unnamed: 0</th>\n",
       "      <th>Year</th>\n",
       "      <th>country</th>\n",
       "      <th>crop_measurement</th>\n",
       "      <th>crops_type</th>\n",
       "      <th>crops_action</th>\n",
       "      <th>crop_value</th>\n",
       "      <th>import_export_value</th>\n",
       "    </tr>\n",
       "  </thead>\n",
       "  <tbody>\n",
       "    <tr>\n",
       "      <th>0</th>\n",
       "      <td>0</td>\n",
       "      <td>2017</td>\n",
       "      <td>Ireland</td>\n",
       "      <td>ha</td>\n",
       "      <td>Apples</td>\n",
       "      <td>Area harvested</td>\n",
       "      <td>695.0</td>\n",
       "      <td>615.0</td>\n",
       "    </tr>\n",
       "    <tr>\n",
       "      <th>1</th>\n",
       "      <td>1</td>\n",
       "      <td>2017</td>\n",
       "      <td>Ireland</td>\n",
       "      <td>ha</td>\n",
       "      <td>Apples</td>\n",
       "      <td>Area harvested</td>\n",
       "      <td>695.0</td>\n",
       "      <td>545.0</td>\n",
       "    </tr>\n",
       "    <tr>\n",
       "      <th>2</th>\n",
       "      <td>2</td>\n",
       "      <td>2017</td>\n",
       "      <td>Ireland</td>\n",
       "      <td>ha</td>\n",
       "      <td>Apples</td>\n",
       "      <td>Area harvested</td>\n",
       "      <td>695.0</td>\n",
       "      <td>1985.0</td>\n",
       "    </tr>\n",
       "    <tr>\n",
       "      <th>3</th>\n",
       "      <td>3</td>\n",
       "      <td>2017</td>\n",
       "      <td>Ireland</td>\n",
       "      <td>ha</td>\n",
       "      <td>Apples</td>\n",
       "      <td>Area harvested</td>\n",
       "      <td>695.0</td>\n",
       "      <td>14778.0</td>\n",
       "    </tr>\n",
       "    <tr>\n",
       "      <th>4</th>\n",
       "      <td>4</td>\n",
       "      <td>2017</td>\n",
       "      <td>Ireland</td>\n",
       "      <td>ha</td>\n",
       "      <td>Apples</td>\n",
       "      <td>Area harvested</td>\n",
       "      <td>695.0</td>\n",
       "      <td>17923.0</td>\n",
       "    </tr>\n",
       "    <tr>\n",
       "      <th>...</th>\n",
       "      <td>...</td>\n",
       "      <td>...</td>\n",
       "      <td>...</td>\n",
       "      <td>...</td>\n",
       "      <td>...</td>\n",
       "      <td>...</td>\n",
       "      <td>...</td>\n",
       "      <td>...</td>\n",
       "    </tr>\n",
       "    <tr>\n",
       "      <th>495</th>\n",
       "      <td>495</td>\n",
       "      <td>2017</td>\n",
       "      <td>Ireland</td>\n",
       "      <td>ha</td>\n",
       "      <td>Barley</td>\n",
       "      <td>Area harvested</td>\n",
       "      <td>180186.0</td>\n",
       "      <td>31564.0</td>\n",
       "    </tr>\n",
       "    <tr>\n",
       "      <th>496</th>\n",
       "      <td>496</td>\n",
       "      <td>2017</td>\n",
       "      <td>Ireland</td>\n",
       "      <td>hg/ha</td>\n",
       "      <td>Barley</td>\n",
       "      <td>Yield</td>\n",
       "      <td>83570.0</td>\n",
       "      <td>615.0</td>\n",
       "    </tr>\n",
       "    <tr>\n",
       "      <th>497</th>\n",
       "      <td>497</td>\n",
       "      <td>2017</td>\n",
       "      <td>Ireland</td>\n",
       "      <td>hg/ha</td>\n",
       "      <td>Barley</td>\n",
       "      <td>Yield</td>\n",
       "      <td>83570.0</td>\n",
       "      <td>545.0</td>\n",
       "    </tr>\n",
       "    <tr>\n",
       "      <th>498</th>\n",
       "      <td>498</td>\n",
       "      <td>2017</td>\n",
       "      <td>Ireland</td>\n",
       "      <td>hg/ha</td>\n",
       "      <td>Barley</td>\n",
       "      <td>Yield</td>\n",
       "      <td>83570.0</td>\n",
       "      <td>1985.0</td>\n",
       "    </tr>\n",
       "    <tr>\n",
       "      <th>499</th>\n",
       "      <td>499</td>\n",
       "      <td>2017</td>\n",
       "      <td>Ireland</td>\n",
       "      <td>hg/ha</td>\n",
       "      <td>Barley</td>\n",
       "      <td>Yield</td>\n",
       "      <td>83570.0</td>\n",
       "      <td>14778.0</td>\n",
       "    </tr>\n",
       "  </tbody>\n",
       "</table>\n",
       "<p>500 rows × 8 columns</p>\n",
       "</div>"
      ],
      "text/plain": [
       "     Unnamed: 0  Year  country crop_measurement crops_type    crops_action  \\\n",
       "0             0  2017  Ireland               ha     Apples  Area harvested   \n",
       "1             1  2017  Ireland               ha     Apples  Area harvested   \n",
       "2             2  2017  Ireland               ha     Apples  Area harvested   \n",
       "3             3  2017  Ireland               ha     Apples  Area harvested   \n",
       "4             4  2017  Ireland               ha     Apples  Area harvested   \n",
       "..          ...   ...      ...              ...        ...             ...   \n",
       "495         495  2017  Ireland               ha     Barley  Area harvested   \n",
       "496         496  2017  Ireland            hg/ha     Barley           Yield   \n",
       "497         497  2017  Ireland            hg/ha     Barley           Yield   \n",
       "498         498  2017  Ireland            hg/ha     Barley           Yield   \n",
       "499         499  2017  Ireland            hg/ha     Barley           Yield   \n",
       "\n",
       "     crop_value  import_export_value  \n",
       "0         695.0                615.0  \n",
       "1         695.0                545.0  \n",
       "2         695.0               1985.0  \n",
       "3         695.0              14778.0  \n",
       "4         695.0              17923.0  \n",
       "..          ...                  ...  \n",
       "495    180186.0              31564.0  \n",
       "496     83570.0                615.0  \n",
       "497     83570.0                545.0  \n",
       "498     83570.0               1985.0  \n",
       "499     83570.0              14778.0  \n",
       "\n",
       "[500 rows x 8 columns]"
      ]
     },
     "execution_count": 62,
     "metadata": {},
     "output_type": "execute_result"
    }
   ],
   "source": [
    "df_irishdata.head(500)"
   ]
  },
  {
   "cell_type": "code",
   "execution_count": 63,
   "id": "df4be409",
   "metadata": {},
   "outputs": [
    {
     "name": "stdout",
     "output_type": "stream",
     "text": [
      "stat=-0.326, p=0.748\n",
      "Probably the same distribution\n"
     ]
    }
   ],
   "source": [
    "# Example of the Student's t-test\n",
    "from scipy.stats import ttest_ind\n",
    "import_export_value = [0.873, 2.817, 0.121, -0.945, -0.055, -1.436, 0.360, -1.478, -1.637, -1.869]\n",
    "year = [1.142, -0.432, -0.938, -0.729, -0.846, -0.157, 0.500, 1.183, -1.075, -0.169]\n",
    "stat, p = ttest_ind(import_export_value, year)\n",
    "print('stat=%.3f, p=%.3f' % (stat, p))\n",
    "if p > 0.05:\n",
    "\tprint('Probably the same distribution')\n",
    "else:\n",
    "\tprint('Probably different distributions')"
   ]
  },
  {
   "cell_type": "markdown",
   "id": "4c78ccf2",
   "metadata": {},
   "source": [
    "interpretation\n",
    "\n",
    "H0: the means of the samples are equal.\n",
    "\n",
    "H1: the means of the samples are unequal.\n"
   ]
  },
  {
   "cell_type": "markdown",
   "id": "34f3c404",
   "metadata": {},
   "source": [
    "# We can see that the P value for Year is greater than 0.5 and is therefore of the same distribution"
   ]
  },
  {
   "cell_type": "markdown",
   "id": "e7cefa3e",
   "metadata": {},
   "source": [
    "# We can see that the P Value for all test s above has not been greater than 0.5"
   ]
  },
  {
   "cell_type": "markdown",
   "id": "b2e5914e",
   "metadata": {},
   "source": [
    "# Analysis of Variance Test (ANOVA)\n",
    "\n",
    "Tests whether the means of two or more independent samples are significantly different.\n",
    "\n",
    "Assumptions\n",
    "\n",
    "Observations in each sample are independent and identically distributed (iid).  \n",
    "\n",
    "Observations in each sample are normally distributed. \n",
    "\n",
    "Observations in each sample have the same variance\n"
   ]
  },
  {
   "cell_type": "code",
   "execution_count": 67,
   "id": "2f0d641a",
   "metadata": {},
   "outputs": [
    {
     "name": "stdout",
     "output_type": "stream",
     "text": [
      "stat=0.096, p=0.908\n",
      "Probably the same distribution\n"
     ]
    }
   ],
   "source": [
    "# Example of the Analysis of Variance Test\n",
    "import statistics as stats\n",
    "from scipy.stats import f_oneway\n",
    "import_export_value= [0.873, 2.817, 0.121, -0.945, -0.055, -1.436, 0.360, -1.478, -1.637, -1.869]\n",
    "crop_value = [1.142, -0.432, -0.938, -0.729, -0.846, -0.157, 0.500, 1.183, -1.075, -0.169]\n",
    "crops_action = [-0.208, 0.696, 0.928, -1.148, -0.213, 0.229, 0.137, 0.269, -0.870, -1.204]\n",
    "stat, p = f_oneway(import_export_value, crop_value, crops_action)\n",
    "print('stat=%.3f, p=%.3f' % (stat, p))\n",
    "if p > 0.05:\n",
    "\tprint('Probably the same distribution')\n",
    "else:\n",
    "\tprint('Probably different distributions')"
   ]
  },
  {
   "cell_type": "markdown",
   "id": "903e2ab6",
   "metadata": {},
   "source": [
    "Interpretation\n",
    "\n",
    "H0: the means of the samples are equal.\n",
    "\n",
    "H1: one or more of the means of the samples are unequal.\n"
   ]
  },
  {
   "cell_type": "markdown",
   "id": "509e7b17",
   "metadata": {},
   "source": [
    "# Nonparametric Statistical Hypothesis Tests\n",
    "\n",
    "Tests whether the distributions of two independent samples are equal or not.\n",
    "\n",
    "Assumptions\n",
    "\n",
    "Observations in each sample are independent and identically distributed (iid).\n",
    "\n",
    "Observations in each sample can be ranked.\n"
   ]
  },
  {
   "cell_type": "code",
   "execution_count": 29,
   "id": "35f1c2df",
   "metadata": {},
   "outputs": [
    {
     "name": "stdout",
     "output_type": "stream",
     "text": [
      "stat=40.000, p=0.473\n",
      "Probably the same distribution\n"
     ]
    }
   ],
   "source": [
    "# Example of the Mann-Whitney U Test\n",
    "from scipy.stats import mannwhitneyu\n",
    "crop_measurement = [0.873, 2.817, 0.121, -0.945, -0.055, -1.436, 0.360, -1.478, -1.637, -1.869]\n",
    "crop_type = [1.142, -0.432, -0.938, -0.729, -0.846, -0.157, 0.500, 1.183, -1.075, -0.169]\n",
    "stat, p = mannwhitneyu(crop_measurement, crop_type)\n",
    "print('stat=%.3f, p=%.3f' % (stat, p))\n",
    "if p > 0.05:\n",
    "\tprint('Probably the same distribution')\n",
    "else:\n",
    "\tprint('Probably different distributions')"
   ]
  },
  {
   "cell_type": "markdown",
   "id": "1d9c21d7",
   "metadata": {},
   "source": [
    "Interpretation\n",
    "\n",
    "H0: the distributions of both samples are equal.\n",
    "\n",
    "H1: the distributions of both samples are not equal.\n",
    "\n",
    "H0: the sample has a Gaussian distribution.\n",
    "\n",
    "H1: the sample does not have a Gaussian distribution.\n"
   ]
  },
  {
   "cell_type": "markdown",
   "id": "a6418840",
   "metadata": {},
   "source": [
    "# Wilcoxon Signed-Rank Test\n",
    "\n",
    "Tests whether the distributions of two paired samples are equal or not.\n",
    "\n",
    "Assumptions\n",
    "\n",
    "Observations in each sample are independent and identically distributed (iid). Observations in each sample can be ranked. Observations across each sample are paired.\n"
   ]
  },
  {
   "cell_type": "code",
   "execution_count": 30,
   "id": "272c43d1",
   "metadata": {},
   "outputs": [
    {
     "name": "stdout",
     "output_type": "stream",
     "text": [
      "stat=21.000, p=0.557\n",
      "Probably the same distribution\n"
     ]
    }
   ],
   "source": [
    "#example of the Wilcoxon Signed-Rank Test\n",
    "from scipy.stats import wilcoxon\n",
    "crop_value = [0.873, 2.817, 0.121, -0.945, -0.055, -1.436, 0.360, -1.478, -1.637, -1.869]\n",
    "crops_action = [1.142, -0.432, -0.938, -0.729, -0.846, -0.157, 0.500, 1.183, -1.075, -0.169]\n",
    "stat, p = wilcoxon(crop_value, crops_action)\n",
    "print('stat=%.3f, p=%.3f' % (stat, p))\n",
    "if p > 0.05:\n",
    "\tprint('Probably the same distribution')\n",
    "else:\n",
    "\tprint('Probably different distributions')"
   ]
  },
  {
   "cell_type": "markdown",
   "id": "9f9dbd35",
   "metadata": {},
   "source": [
    "Interpretation\n",
    "\n",
    "H0: the distributions of both samples are equal.\n",
    "\n",
    "H1: the distributions of both samples are not equal.\n"
   ]
  },
  {
   "cell_type": "code",
   "execution_count": 31,
   "id": "6ad79475",
   "metadata": {},
   "outputs": [
    {
     "name": "stdout",
     "output_type": "stream",
     "text": [
      "Shape of the dataset is :  (57660, 8)\n",
      "Size of the dataset is :  461280\n"
     ]
    }
   ],
   "source": [
    "#checking the shape and size of the dataframe\n",
    "\n",
    "print(\"Shape of the dataset is : \",df_irishdata.shape)\n",
    "print(\"Size of the dataset is : \",df_irishdata.size)"
   ]
  },
  {
   "cell_type": "code",
   "execution_count": 32,
   "id": "d6f71a2e",
   "metadata": {},
   "outputs": [
    {
     "data": {
      "text/plain": [
       "Unnamed: 0               int64\n",
       "Year                     int64\n",
       "country                 object\n",
       "crop_measurement        object\n",
       "crops_type              object\n",
       "crops_action            object\n",
       "crop_value             float64\n",
       "import_export_value    float64\n",
       "dtype: object"
      ]
     },
     "execution_count": 32,
     "metadata": {},
     "output_type": "execute_result"
    }
   ],
   "source": [
    "#list the datatypes of all columns we can see there are alot of objects later I will change these to onehotencoding for the linear regression\n",
    "df_irishdata.dtypes"
   ]
  },
  {
   "cell_type": "markdown",
   "id": "9580b316",
   "metadata": {},
   "source": [
    "# Plot Distribution of the Target variable/feature crop_value"
   ]
  },
  {
   "cell_type": "code",
   "execution_count": 33,
   "id": "361046a5",
   "metadata": {},
   "outputs": [
    {
     "data": {
      "image/png": "[encoded data removed]",
      "text/plain": [
       "<Figure size 432x288 with 1 Axes>"
      ]
     },
     "metadata": {
      "needs_background": "light"
     },
     "output_type": "display_data"
    }
   ],
   "source": [
    "# plot distribution of crop_value target variable seaborn distplot\n",
    "sns.distplot(df_irishdata['crop_value'])\n",
    "plt.show()"
   ]
  },
  {
   "cell_type": "markdown",
   "id": "49f97428",
   "metadata": {},
   "source": [
    "The crop_value is not normally distributed the distribution is skewed left because it looks pulled out to the left"
   ]
  },
  {
   "cell_type": "code",
   "execution_count": 70,
   "id": "a9c3e3dd",
   "metadata": {},
   "outputs": [
    {
     "data": {
      "image/png": "[encoded data removed]",
      "text/plain": [
       "<Figure size 576x432 with 1 Axes>"
      ]
     },
     "metadata": {},
     "output_type": "display_data"
    }
   ],
   "source": [
    "#  Plot style\n",
    "plt.style.use(\"ggplot\")\n",
    "# creating a figure \n",
    "plt.figure(figsize=(8,6))\n",
    "# Plot a scatterplot with a fitted regression line\n",
    "sns.regplot(x = df_irishdata[\"Year\"], y = df_irishdata[\"import_export_value\"])\n",
    "# Show the plot\n",
    "plt.show()"
   ]
  },
  {
   "cell_type": "code",
   "execution_count": 71,
   "id": "91bf4cc1",
   "metadata": {},
   "outputs": [
    {
     "data": {
      "image/png": "[encoded data removed]",
      "text/plain": [
       "<Figure size 576x432 with 1 Axes>"
      ]
     },
     "metadata": {},
     "output_type": "display_data"
    }
   ],
   "source": [
    "#  Plot style\n",
    "plt.style.use(\"ggplot\")\n",
    "# creating a figure \n",
    "plt.figure(figsize=(8,6))\n",
    "# Plot a scatterplot with a fitted regression line\n",
    "sns.regplot(x = df_irishdata[\"Year\"], y = df_irishdata[\"crop_value\"])\n",
    "# Show the plot\n",
    "plt.show()"
   ]
  },
  {
   "cell_type": "markdown",
   "id": "ad652447",
   "metadata": {},
   "source": [
    "# Brazilian Dataset"
   ]
  },
  {
   "cell_type": "markdown",
   "id": "a7650812",
   "metadata": {},
   "source": [
    "# Descriptive Statistics for the Target features: crop value & consumervalue"
   ]
  },
  {
   "cell_type": "code",
   "execution_count": 73,
   "id": "9fadbcb6",
   "metadata": {},
   "outputs": [
    {
     "data": {
      "text/html": [
       "<div>\n",
       "<style scoped>\n",
       "    .dataframe tbody tr th:only-of-type {\n",
       "        vertical-align: middle;\n",
       "    }\n",
       "\n",
       "    .dataframe tbody tr th {\n",
       "        vertical-align: top;\n",
       "    }\n",
       "\n",
       "    .dataframe thead th {\n",
       "        text-align: right;\n",
       "    }\n",
       "</style>\n",
       "<table border=\"1\" class=\"dataframe\">\n",
       "  <thead>\n",
       "    <tr style=\"text-align: right;\">\n",
       "      <th></th>\n",
       "      <th>Unnamed: 0</th>\n",
       "      <th>year</th>\n",
       "      <th>country</th>\n",
       "      <th>months</th>\n",
       "      <th>crop_measurement</th>\n",
       "      <th>crops_type</th>\n",
       "      <th>crops_action</th>\n",
       "      <th>crop_value</th>\n",
       "      <th>consumer_value</th>\n",
       "    </tr>\n",
       "  </thead>\n",
       "  <tbody>\n",
       "    <tr>\n",
       "      <th>0</th>\n",
       "      <td>1464</td>\n",
       "      <td>2010</td>\n",
       "      <td>Brazil</td>\n",
       "      <td>January</td>\n",
       "      <td>tonnes</td>\n",
       "      <td>Chestnut</td>\n",
       "      <td>Production</td>\n",
       "      <td>5.333023e+06</td>\n",
       "      <td>3.559127</td>\n",
       "    </tr>\n",
       "    <tr>\n",
       "      <th>1</th>\n",
       "      <td>1471</td>\n",
       "      <td>2010</td>\n",
       "      <td>Brazil</td>\n",
       "      <td>August</td>\n",
       "      <td>tonnes</td>\n",
       "      <td>Chestnut</td>\n",
       "      <td>Production</td>\n",
       "      <td>5.333023e+06</td>\n",
       "      <td>4.098498</td>\n",
       "    </tr>\n",
       "    <tr>\n",
       "      <th>2</th>\n",
       "      <td>1465</td>\n",
       "      <td>2010</td>\n",
       "      <td>Brazil</td>\n",
       "      <td>February</td>\n",
       "      <td>tonnes</td>\n",
       "      <td>Chestnut</td>\n",
       "      <td>Production</td>\n",
       "      <td>5.333023e+06</td>\n",
       "      <td>4.271629</td>\n",
       "    </tr>\n",
       "    <tr>\n",
       "      <th>3</th>\n",
       "      <td>1470</td>\n",
       "      <td>2010</td>\n",
       "      <td>Brazil</td>\n",
       "      <td>July</td>\n",
       "      <td>tonnes</td>\n",
       "      <td>Chestnut</td>\n",
       "      <td>Production</td>\n",
       "      <td>5.333023e+06</td>\n",
       "      <td>4.338587</td>\n",
       "    </tr>\n",
       "    <tr>\n",
       "      <th>4</th>\n",
       "      <td>1469</td>\n",
       "      <td>2010</td>\n",
       "      <td>Brazil</td>\n",
       "      <td>June</td>\n",
       "      <td>tonnes</td>\n",
       "      <td>Chestnut</td>\n",
       "      <td>Production</td>\n",
       "      <td>5.333023e+06</td>\n",
       "      <td>5.074611</td>\n",
       "    </tr>\n",
       "  </tbody>\n",
       "</table>\n",
       "</div>"
      ],
      "text/plain": [
       "   Unnamed: 0  year country    months crop_measurement crops_type  \\\n",
       "0        1464  2010  Brazil   January           tonnes   Chestnut   \n",
       "1        1471  2010  Brazil    August           tonnes   Chestnut   \n",
       "2        1465  2010  Brazil  February           tonnes   Chestnut   \n",
       "3        1470  2010  Brazil      July           tonnes   Chestnut   \n",
       "4        1469  2010  Brazil      June           tonnes   Chestnut   \n",
       "\n",
       "  crops_action    crop_value  consumer_value  \n",
       "0   Production  5.333023e+06        3.559127  \n",
       "1   Production  5.333023e+06        4.098498  \n",
       "2   Production  5.333023e+06        4.271629  \n",
       "3   Production  5.333023e+06        4.338587  \n",
       "4   Production  5.333023e+06        5.074611  "
      ]
     },
     "execution_count": 73,
     "metadata": {},
     "output_type": "execute_result"
    }
   ],
   "source": [
    "#Reading in Brazilian Crops dataset from between 2010 to 2020 8 actions 10 crop measurements and 139 crop types\n",
    "df_brazildata = pd.read_csv('df_brazilmodels.csv')\n",
    "df_brazildata.head()"
   ]
  },
  {
   "cell_type": "code",
   "execution_count": 74,
   "id": "0da45c03",
   "metadata": {},
   "outputs": [
    {
     "data": {
      "text/plain": [
       "year                  int64\n",
       "months               object\n",
       "crop_measurement     object\n",
       "crops_type           object\n",
       "crops_action         object\n",
       "crop_value          float64\n",
       "consumer_value      float64\n",
       "dtype: object"
      ]
     },
     "execution_count": 74,
     "metadata": {},
     "output_type": "execute_result"
    }
   ],
   "source": [
    "#Dropping ID and Source column from the data for outlier analysis\n",
    "df_brazildata.drop(columns=[\"Unnamed: 0\",\"country\"],axis=1,inplace=True)\n",
    "df_brazildata.dtypes"
   ]
  },
  {
   "cell_type": "code",
   "execution_count": 75,
   "id": "1cfd8f6b",
   "metadata": {},
   "outputs": [
    {
     "data": {
      "text/html": [
       "<div>\n",
       "<style scoped>\n",
       "    .dataframe tbody tr th:only-of-type {\n",
       "        vertical-align: middle;\n",
       "    }\n",
       "\n",
       "    .dataframe tbody tr th {\n",
       "        vertical-align: top;\n",
       "    }\n",
       "\n",
       "    .dataframe thead th {\n",
       "        text-align: right;\n",
       "    }\n",
       "</style>\n",
       "<table border=\"1\" class=\"dataframe\">\n",
       "  <thead>\n",
       "    <tr style=\"text-align: right;\">\n",
       "      <th></th>\n",
       "      <th>year</th>\n",
       "      <th>crop_value</th>\n",
       "      <th>consumer_value</th>\n",
       "    </tr>\n",
       "  </thead>\n",
       "  <tbody>\n",
       "    <tr>\n",
       "      <th>count</th>\n",
       "      <td>83520.000000</td>\n",
       "      <td>8.352000e+04</td>\n",
       "      <td>83520.000000</td>\n",
       "    </tr>\n",
       "    <tr>\n",
       "      <th>mean</th>\n",
       "      <td>2014.975431</td>\n",
       "      <td>5.372101e+06</td>\n",
       "      <td>68.105087</td>\n",
       "    </tr>\n",
       "    <tr>\n",
       "      <th>std</th>\n",
       "      <td>3.151619</td>\n",
       "      <td>5.199071e+07</td>\n",
       "      <td>45.941999</td>\n",
       "    </tr>\n",
       "    <tr>\n",
       "      <th>min</th>\n",
       "      <td>2010.000000</td>\n",
       "      <td>9.000000e+00</td>\n",
       "      <td>-2.317125</td>\n",
       "    </tr>\n",
       "    <tr>\n",
       "      <th>25%</th>\n",
       "      <td>2012.000000</td>\n",
       "      <td>1.347600e+04</td>\n",
       "      <td>10.043639</td>\n",
       "    </tr>\n",
       "    <tr>\n",
       "      <th>50%</th>\n",
       "      <td>2015.000000</td>\n",
       "      <td>8.797600e+04</td>\n",
       "      <td>80.803340</td>\n",
       "    </tr>\n",
       "    <tr>\n",
       "      <th>75%</th>\n",
       "      <td>2018.000000</td>\n",
       "      <td>3.935035e+05</td>\n",
       "      <td>111.989600</td>\n",
       "    </tr>\n",
       "    <tr>\n",
       "      <th>max</th>\n",
       "      <td>2020.000000</td>\n",
       "      <td>7.685942e+08</td>\n",
       "      <td>141.626625</td>\n",
       "    </tr>\n",
       "  </tbody>\n",
       "</table>\n",
       "</div>"
      ],
      "text/plain": [
       "               year    crop_value  consumer_value\n",
       "count  83520.000000  8.352000e+04    83520.000000\n",
       "mean    2014.975431  5.372101e+06       68.105087\n",
       "std        3.151619  5.199071e+07       45.941999\n",
       "min     2010.000000  9.000000e+00       -2.317125\n",
       "25%     2012.000000  1.347600e+04       10.043639\n",
       "50%     2015.000000  8.797600e+04       80.803340\n",
       "75%     2018.000000  3.935035e+05      111.989600\n",
       "max     2020.000000  7.685942e+08      141.626625"
      ]
     },
     "execution_count": 75,
     "metadata": {},
     "output_type": "execute_result"
    }
   ],
   "source": [
    "#inspect the dataframe for outliers will display the min,max mean and inner and outer quariles for all features\n",
    "df_brazildata.describe()"
   ]
  },
  {
   "cell_type": "code",
   "execution_count": 76,
   "id": "55b5a1ed",
   "metadata": {},
   "outputs": [
    {
     "data": {
      "image/png": "[encoded data removed]",
      "text/plain": [
       "<Figure size 1152x288 with 1 Axes>"
      ]
     },
     "metadata": {},
     "output_type": "display_data"
    }
   ],
   "source": [
    "#boxplot for the target feature crop_value\n",
    "plt.figure(figsize = (16,4))\n",
    "sns.boxplot(x= df_brazildata['crop_value'])\n",
    "plt.show()"
   ]
  },
  {
   "cell_type": "code",
   "execution_count": 77,
   "id": "d3b8e8ba",
   "metadata": {},
   "outputs": [
    {
     "name": "stdout",
     "output_type": "stream",
     "text": [
      "5372100.747240936\n"
     ]
    }
   ],
   "source": [
    "#print the mean of the target feature\n",
    "mean_cropvalue=  df_brazildata['crop_value'].mean()\n",
    "print(mean_cropvalue)"
   ]
  },
  {
   "cell_type": "code",
   "execution_count": 78,
   "id": "6f5b0263",
   "metadata": {},
   "outputs": [
    {
     "name": "stdout",
     "output_type": "stream",
     "text": [
      "87976.0\n"
     ]
    }
   ],
   "source": [
    "#print the median of the target feature\n",
    "median = df_brazildata['crop_value'].median()\n",
    "print(median)"
   ]
  },
  {
   "cell_type": "code",
   "execution_count": 79,
   "id": "24535d11",
   "metadata": {},
   "outputs": [
    {
     "name": "stdout",
     "output_type": "stream",
     "text": [
      "0    5.333023e+06\n",
      "Name: crop_value, dtype: float64\n"
     ]
    }
   ],
   "source": [
    "#print the mode of the target feature\n",
    "mode = df_brazildata['crop_value'].mode()\n",
    "print(mode)"
   ]
  },
  {
   "cell_type": "code",
   "execution_count": 80,
   "id": "c46c88bc",
   "metadata": {},
   "outputs": [
    {
     "data": {
      "text/plain": [
       "[Text(0.5, 0, 'Crop Price'),\n",
       " Text(0, 0.5, 'Cropvalue'),\n",
       " Text(0.5, 1.0, 'Cropvalue Histogram')]"
      ]
     },
     "execution_count": 80,
     "metadata": {},
     "output_type": "execute_result"
    },
    {
     "data": {
      "image/png": "[encoded data removed]",
      "text/plain": [
       "<Figure size 432x288 with 1 Axes>"
      ]
     },
     "metadata": {},
     "output_type": "display_data"
    }
   ],
   "source": [
    "#histplot to display the distribution of crop _value\n",
    "ax = sns.histplot(df_brazildata.crop_value)\n",
    "ax.set(xlabel='Crop Price', ylabel='Cropvalue', title ='Cropvalue Histogram')"
   ]
  },
  {
   "cell_type": "code",
   "execution_count": 31,
   "id": "59ae377d",
   "metadata": {},
   "outputs": [
    {
     "data": {
      "text/plain": [
       "Text(0.5, 1.0, 'Box plot Crop Value by Crop Action')"
      ]
     },
     "execution_count": 31,
     "metadata": {},
     "output_type": "execute_result"
    },
    {
     "data": {
      "image/png": "[encoded data removed]",
      "text/plain": [
       "<Figure size 432x288 with 1 Axes>"
      ]
     },
     "metadata": {
      "needs_background": "light"
     },
     "output_type": "display_data"
    }
   ],
   "source": [
    "#Box plot to depict Box plot Crop Value by Crop Action\n",
    "sns.boxplot(x = 'crops_action', y ='crop_value', data=df_brazildata, hue = 'crops_action')\n",
    "plt.legend(bbox_to_anchor=(1.02, 1), loc='upper left', borderaxespad=0)\n",
    "plt.title('Box plot Crop Value by Crop Action', fontsize=15)"
   ]
  },
  {
   "cell_type": "code",
   "execution_count": 32,
   "id": "3a98af38",
   "metadata": {},
   "outputs": [
    {
     "data": {
      "image/png": "[encoded data removed]",
      "text/plain": [
       "<Figure size 1152x288 with 1 Axes>"
      ]
     },
     "metadata": {
      "needs_background": "light"
     },
     "output_type": "display_data"
    }
   ],
   "source": [
    "#boxplot for the feature rain\n",
    "plt.figure(figsize = (16,4))\n",
    "sns.boxplot(x= df_brazildata['consumer_value'])\n",
    "plt.show()"
   ]
  },
  {
   "cell_type": "code",
   "execution_count": 33,
   "id": "49884f37",
   "metadata": {},
   "outputs": [
    {
     "name": "stdout",
     "output_type": "stream",
     "text": [
      "68.1050868260576\n"
     ]
    }
   ],
   "source": [
    "#print the mean of the target feature\n",
    "mean_consumervalue=  df_brazildata['consumer_value'].mean()\n",
    "print(mean_consumervalue)"
   ]
  },
  {
   "cell_type": "code",
   "execution_count": 34,
   "id": "31018606",
   "metadata": {},
   "outputs": [
    {
     "name": "stdout",
     "output_type": "stream",
     "text": [
      "80.80334\n"
     ]
    }
   ],
   "source": [
    "#print the median of the target feature\n",
    "median = df_brazildata['consumer_value'].median()\n",
    "print(median)"
   ]
  },
  {
   "cell_type": "code",
   "execution_count": 35,
   "id": "a25deba5",
   "metadata": {},
   "outputs": [
    {
     "name": "stdout",
     "output_type": "stream",
     "text": [
      "0    72.17294\n",
      "Name: consumer_value, dtype: float64\n"
     ]
    }
   ],
   "source": [
    "#print the mode of the target feature\n",
    "mode = df_brazildata['consumer_value'].mode()\n",
    "print(mode)"
   ]
  },
  {
   "cell_type": "code",
   "execution_count": 36,
   "id": "bf2afe7b",
   "metadata": {},
   "outputs": [
    {
     "name": "stdout",
     "output_type": "stream",
     "text": [
      "45.941998883991026\n"
     ]
    }
   ],
   "source": [
    "#print the Stardard dev of the target feature\n",
    "std = df_brazildata['consumer_value'].std()\n",
    "print(std)"
   ]
  },
  {
   "cell_type": "code",
   "execution_count": 49,
   "id": "f9ab061d",
   "metadata": {},
   "outputs": [
    {
     "data": {
      "text/plain": [
       "[Text(0.5, 0, 'Consumer Price'),\n",
       " Text(0, 0.5, 'consumervalue'),\n",
       " Text(0.5, 1.0, 'Consumervalue Histogram')]"
      ]
     },
     "execution_count": 49,
     "metadata": {},
     "output_type": "execute_result"
    },
    {
     "data": {
      "image/png": "[encoded data removed]",
      "text/plain": [
       "<Figure size 432x288 with 1 Axes>"
      ]
     },
     "metadata": {
      "needs_background": "light"
     },
     "output_type": "display_data"
    }
   ],
   "source": [
    "#histplot to display the distribution of consumer _value\n",
    "ax = sns.histplot(df_brazildata.consumer_value)\n",
    "ax.set(xlabel='Consumer Price', ylabel='consumervalue', title ='Consumervalue Histogram')"
   ]
  },
  {
   "cell_type": "code",
   "execution_count": 50,
   "id": "99c1800c",
   "metadata": {},
   "outputs": [
    {
     "data": {
      "text/plain": [
       "Text(0.5, 1.0, 'Box plot Consumer Value by Crop Action')"
      ]
     },
     "execution_count": 50,
     "metadata": {},
     "output_type": "execute_result"
    },
    {
     "data": {
      "image/png": "[encoded data removed]",
      "text/plain": [
       "<Figure size 432x288 with 1 Axes>"
      ]
     },
     "metadata": {
      "needs_background": "light"
     },
     "output_type": "display_data"
    }
   ],
   "source": [
    "#Box plot to depict Box plot Crop Value by Crop Action\n",
    "sns.boxplot(x = 'crops_action', y ='consumer_value', data=df_brazildata, hue = 'crops_action')\n",
    "plt.legend(bbox_to_anchor=(1.02, 1), loc='upper left', borderaxespad=0)\n",
    "plt.title('Box plot Consumer Value by Crop Action', fontsize=15)"
   ]
  },
  {
   "cell_type": "markdown",
   "id": "dfdabc29",
   "metadata": {},
   "source": [
    "# Shapiro-Wilk Test - Normality Test - Target crop_value"
   ]
  },
  {
   "cell_type": "markdown",
   "id": "bb24cd99",
   "metadata": {},
   "source": [
    "Tests whether a data sample has a Gaussian distribution. examines if a variable is normally distributed in a population\n"
   ]
  },
  {
   "cell_type": "code",
   "execution_count": 51,
   "id": "9bb5a69b",
   "metadata": {},
   "outputs": [
    {
     "name": "stdout",
     "output_type": "stream",
     "text": [
      "stat=0.895, p=0.193\n",
      "Probably Gaussian\n"
     ]
    }
   ],
   "source": [
    "#Shapiro-Wilk Normality Test\n",
    "from scipy.stats import shapiro\n",
    "crop_value = [0.873, 2.817, 0.121, -0.945, -0.055, -1.436, 0.360, -1.478, -1.637, -1.869]\n",
    "stat, p = shapiro(crop_value)\n",
    "print('stat=%.3f, p=%.3f' % (stat, p))\n",
    "if p > 0.05:\n",
    "\tprint('Probably Gaussian')\n",
    "else:\n",
    "\tprint('Probably not Gaussian')"
   ]
  },
  {
   "cell_type": "markdown",
   "id": "70b29de5",
   "metadata": {},
   "source": [
    "Assumptions\n",
    "\n",
    "Observations in each sample are independent and identically distributed (iid).\n",
    "\n",
    "Interpretation\n",
    "\n",
    "H0: the sample has a Gaussian distribution.\n",
    "\n",
    "H1: the sample does not have a Gaussian distribution.\n",
    "\n",
    "value of the Shapiro-Wilk Test is greater than 0.05, the data is normal. If it is below 0.05, the data significantly deviate from a normal distribution\n",
    "\n"
   ]
  },
  {
   "cell_type": "markdown",
   "id": "f2c9b3f2",
   "metadata": {},
   "source": [
    "# Shapiro-Wilk Test - Normality Test - Target Consumer_value"
   ]
  },
  {
   "cell_type": "markdown",
   "id": "3f314618",
   "metadata": {},
   "source": [
    "Tests whether a data sample has a Gaussian distribution. Examines if a variable is normally distributed in a population Crop Value Consumer Value Crops_action"
   ]
  },
  {
   "cell_type": "code",
   "execution_count": 52,
   "id": "95f5d611",
   "metadata": {},
   "outputs": [
    {
     "name": "stdout",
     "output_type": "stream",
     "text": [
      "stat=0.895, p=0.193\n",
      "Probably Gaussian\n"
     ]
    }
   ],
   "source": [
    "#Shapiro-Wilk Normality Test\n",
    "from scipy.stats import shapiro\n",
    "consumer_value = [0.873, 2.817, 0.121, -0.945, -0.055, -1.436, 0.360, -1.478, -1.637, -1.869]\n",
    "stat, p = shapiro(consumer_value)\n",
    "print('stat=%.3f, p=%.3f' % (stat, p))\n",
    "if p > 0.05:\n",
    "\tprint('Probably Gaussian')\n",
    "else:\n",
    "\tprint('Probably not Gaussian')"
   ]
  },
  {
   "cell_type": "markdown",
   "id": "046977c1",
   "metadata": {},
   "source": [
    "Assumptions\n",
    "\n",
    "Observations in each sample are independent and identically distributed (iid).\n",
    "\n",
    "Interpretation\n",
    "\n",
    "H0: the sample has a Gaussian distribution.\n",
    "\n",
    "H1: the sample does not have a Gaussian distribution.\n"
   ]
  },
  {
   "cell_type": "code",
   "execution_count": 53,
   "id": "474d43ac",
   "metadata": {},
   "outputs": [
    {
     "name": "stdout",
     "output_type": "stream",
     "text": [
      "stat=0.895, p=0.193\n",
      "Probably Gaussian\n"
     ]
    }
   ],
   "source": [
    "# Example of the Shapiro-Wilk Normality Test\n",
    "from scipy.stats import shapiro\n",
    "crop_type = [0.873, 2.817, 0.121, -0.945, -0.055, -1.436, 0.360, -1.478, -1.637, -1.869]\n",
    "stat, p = shapiro(crop_type)\n",
    "print('stat=%.3f, p=%.3f' % (stat, p))\n",
    "if p > 0.05:\n",
    "\tprint('Probably Gaussian')\n",
    "else:\n",
    "\tprint('Probably not Gaussian')"
   ]
  },
  {
   "cell_type": "markdown",
   "id": "7bf4baf4",
   "metadata": {},
   "source": [
    "if the result is >0.05 the result is normal, the data significantly deviate from a normal distribution if <0.05\n"
   ]
  },
  {
   "cell_type": "code",
   "execution_count": 54,
   "id": "71ff5abe",
   "metadata": {},
   "outputs": [
    {
     "data": {
      "text/plain": [
       "ShapiroResult(statistic=0.966901957988739, pvalue=0.00011927181185455993)"
      ]
     },
     "execution_count": 54,
     "metadata": {},
     "output_type": "execute_result"
    }
   ],
   "source": [
    "# import useful library\n",
    "import numpy as np\n",
    "from numpy.random import poisson\n",
    "from numpy.random import seed\n",
    "from scipy.stats import shapiro\n",
    "from numpy.random import randn\n",
    "  \n",
    "seed(0)\n",
    "# Create data\n",
    "crops_action = poisson(5, 200)\n",
    "  \n",
    "# conduct the  Shapiro-Wilk Test\n",
    "shapiro(crops_action)"
   ]
  },
  {
   "cell_type": "markdown",
   "id": "b73378bf",
   "metadata": {},
   "source": [
    "Since in the above example, the p-value is 0.0001 which is less than the alpha(0.5) then we reject the null hypothesis i.e. we have sufficient evidence to say that sample does not come from a normal distribution"
   ]
  },
  {
   "cell_type": "markdown",
   "id": "fcdef52b",
   "metadata": {},
   "source": [
    "# Pearson’s Correlation Coefficient\n",
    "\n",
    "Tests whether two samples have a linear relationship.\n",
    "\n",
    "Crop_Value & Crop Action\n"
   ]
  },
  {
   "cell_type": "markdown",
   "id": "f2392053",
   "metadata": {},
   "source": [
    "Assumptions\n",
    "\n",
    "    Observations in each sample are independent and identically distributed (iid).\n",
    "\n",
    "    Observations in each sample are normally distributed.\n",
    "\n",
    "    Observations in each sample have the same variance."
   ]
  },
  {
   "cell_type": "code",
   "execution_count": 55,
   "id": "49b578b6",
   "metadata": {},
   "outputs": [
    {
     "name": "stdout",
     "output_type": "stream",
     "text": [
      "stat=0.688, p=0.028\n",
      "Probably dependent\n"
     ]
    }
   ],
   "source": [
    "from scipy.stats import pearsonr\n",
    "crop_value = [0.873, 2.817, 0.121, -0.945, -0.055, -1.436, 0.360, -1.478, -1.637, -1.869]\n",
    "crop_action= [0.353, 3.517, 0.125, -7.545, -0.555, -1.536, 3.350, -1.578, -3.537, -1.579]\n",
    "stat, p = pearsonr(crop_value, crop_action)\n",
    "print('stat=%.3f, p=%.3f' % (stat, p))\n",
    "if p > 0.05:\n",
    "\tprint('Probably independent')\n",
    "else:\n",
    "\tprint('Probably dependent')"
   ]
  },
  {
   "cell_type": "markdown",
   "id": "88b1f4cc",
   "metadata": {},
   "source": [
    "Interpretation\n",
    "\n",
    "H0: the two samples are independent.\n",
    "\n",
    "H1: there is a dependency between the samples\n"
   ]
  },
  {
   "cell_type": "markdown",
   "id": "f1dd63fa",
   "metadata": {},
   "source": [
    "# Pearson’s Correlation Coefficient\n",
    "\n",
    "Tests whether two samples have a linear relationship.\n",
    "\n",
    "Crop_Value & consumer_value\n"
   ]
  },
  {
   "cell_type": "code",
   "execution_count": 57,
   "id": "de0b1381",
   "metadata": {},
   "outputs": [
    {
     "name": "stdout",
     "output_type": "stream",
     "text": [
      "stat=0.688, p=0.028\n",
      "Probably dependent\n"
     ]
    }
   ],
   "source": [
    "from scipy.stats import pearsonr\n",
    "crop_value = [0.873, 2.817, 0.121, -0.945, -0.055, -1.436, 0.360, -1.478, -1.637, -1.869]\n",
    "consumer_value= [0.353, 3.517, 0.125, -7.545, -0.555, -1.536, 3.350, -1.578, -3.537, -1.579]\n",
    "stat, p = pearsonr(crop_value, consumer_value)\n",
    "print('stat=%.3f, p=%.3f' % (stat, p))\n",
    "if p > 0.05:\n",
    "\tprint('Probably independent')\n",
    "else:\n",
    "\tprint('Probably dependent')"
   ]
  },
  {
   "cell_type": "markdown",
   "id": "04f207e0",
   "metadata": {},
   "source": [
    "Interpretation\n",
    "\n",
    "H0: the two samples are independent.\n",
    "\n",
    "H1: there is a dependency between the samples\n"
   ]
  },
  {
   "cell_type": "markdown",
   "id": "f89301b5",
   "metadata": {},
   "source": [
    "# Spearman’s Rank Correlation\n",
    "\n",
    "Tests whether two samples have a monotonic relationship.\n",
    "\n",
    "Assumptions\n",
    "\n",
    "Observations in each sample are independent and identically distributed (iid).\n",
    "\n",
    "Observations in each sample can be ranked\n"
   ]
  },
  {
   "cell_type": "code",
   "execution_count": 59,
   "id": "6cbf1aa7",
   "metadata": {},
   "outputs": [
    {
     "name": "stdout",
     "output_type": "stream",
     "text": [
      "stat=0.855, p=0.002\n",
      "Probably dependent\n"
     ]
    }
   ],
   "source": [
    "from scipy.stats import spearmanr\n",
    "crop_value = [0.873, 2.817, 0.121, -0.945, -0.055, -1.436, 0.360, -1.478, -1.637, -1.869]\n",
    "crop_measurement = [0.353, 3.517, 0.125, -7.545, -0.555, -1.536, 3.350, -1.578, -3.537, -1.579]\n",
    "stat, p = spearmanr(crop_value, crop_measurement)\n",
    "print('stat=%.3f, p=%.3f' % (stat, p))\n",
    "if p > 0.05:\n",
    "\tprint('Probably independent')\n",
    "else:\n",
    "\tprint('Probably dependent')"
   ]
  },
  {
   "cell_type": "markdown",
   "id": "89a477bf",
   "metadata": {},
   "source": [
    "Interpretation\n",
    "\n",
    "H0: the two samples are independent.\n",
    "\n",
    "H1: there is a dependency between the samples\n"
   ]
  },
  {
   "cell_type": "markdown",
   "id": "18411968",
   "metadata": {},
   "source": [
    "# D’Agostino’s K^2 Test - Normality Test\n",
    "\n",
    "Tests whether a data sample has a Gaussian distribution.\n"
   ]
  },
  {
   "cell_type": "code",
   "execution_count": 60,
   "id": "138bf5ea",
   "metadata": {},
   "outputs": [
    {
     "name": "stdout",
     "output_type": "stream",
     "text": [
      "stat=3.392, p=0.183\n",
      "Probably Gaussian\n"
     ]
    }
   ],
   "source": [
    "from scipy.stats import normaltest\n",
    "crop_value = [0.873, 2.817, 0.121, -0.945, -0.055, -1.436, 0.360, -1.478, -1.637, -1.869]\n",
    "stat, p = normaltest(crop_value)\n",
    "print('stat=%.3f, p=%.3f' % (stat, p))\n",
    "if p > 0.05:\n",
    "\tprint('Probably Gaussian')\n",
    "else:\n",
    "\tprint('Probably not Gaussian')"
   ]
  },
  {
   "cell_type": "markdown",
   "id": "c4cc6bce",
   "metadata": {},
   "source": [
    "Assumptions\n",
    "\n",
    "Observations in each sample are independent and identically distributed (iid).\n",
    "\n",
    "Interpretation\n",
    "\n",
    "H0: the sample has a Gaussian distribution.\n",
    "\n",
    "H1: the sample does not have a Gaussian distribution\n"
   ]
  },
  {
   "cell_type": "markdown",
   "id": "53e71dec",
   "metadata": {},
   "source": [
    "# Using Chi-square test on a df_brazil dataset on the categorical features"
   ]
  },
  {
   "cell_type": "code",
   "execution_count": 61,
   "id": "8966bb98",
   "metadata": {},
   "outputs": [
    {
     "name": "stdout",
     "output_type": "stream",
     "text": [
      "['Domain', 'Area', 'Item', 'Element', 'Unit']\n"
     ]
    }
   ],
   "source": [
    "import os\n",
    "import pandas\n",
    "\n",
    "df = pandas.read_csv(\"FAOSTAT_brazil_5-1-2022(4).csv\")\n",
    "categorical_col = ['Domain', 'Area', 'Item', 'Element','Unit']\n",
    "print(categorical_col)"
   ]
  },
  {
   "cell_type": "markdown",
   "id": "06acfe10",
   "metadata": {},
   "source": [
    "using the crosstab() function to create a contingency table of the two selected variables to work on ‘crops_type’ and ‘crops_action’."
   ]
  },
  {
   "cell_type": "code",
   "execution_count": 62,
   "id": "68343642",
   "metadata": {},
   "outputs": [
    {
     "name": "stdout",
     "output_type": "stream",
     "text": [
      "Element                       Area harvested  Laying  Milk Animals  \\\n",
      "Domain                                                               \n",
      "Crops and livestock products             781      22            22   \n",
      "All                                      781      22            22   \n",
      "\n",
      "Element                       Producing Animals/Slaughtered  Production  \\\n",
      "Domain                                                                    \n",
      "Crops and livestock products                            231        1467   \n",
      "All                                                     231        1467   \n",
      "\n",
      "Element                       Stocks  Yield  Yield/Carcass Weight   All  \n",
      "Domain                                                                   \n",
      "Crops and livestock products     143    844                    99  3609  \n",
      "All                              143    844                    99  3609  \n"
     ]
    }
   ],
   "source": [
    "chisqt = pandas.crosstab(df.Domain, df.Element, margins=True)\n",
    "print(chisqt)"
   ]
  },
  {
   "cell_type": "markdown",
   "id": "57bd8cec",
   "metadata": {},
   "source": [
    "we apply the chi2_contingency() function on the table and get the statistics, p-value and degree of freedom values"
   ]
  },
  {
   "cell_type": "code",
   "execution_count": 63,
   "id": "77250d63",
   "metadata": {},
   "outputs": [
    {
     "name": "stdout",
     "output_type": "stream",
     "text": [
      "(0.0, 1.0, 4)\n"
     ]
    }
   ],
   "source": [
    "from scipy.stats import chi2_contingency \n",
    "import numpy as np\n",
    "chisqt = pandas.crosstab(df.Domain, df.Element, margins=True)\n",
    "value = np.array([chisqt.iloc[0][0:5].values,\n",
    "                  chisqt.iloc[1][0:5].values])\n",
    "print(chi2_contingency(value)[0:3])"
   ]
  },
  {
   "cell_type": "markdown",
   "id": "18ff92f3",
   "metadata": {},
   "source": [
    "From above, 1.0 is the p-value, 0.0 is the statistical value and 4 is the degree of freedom. As the p-value is greater than 0.05, we accept the NULL hypothesis and assume that the variables ‘Domain’ and ‘Element’ are independent of each other"
   ]
  },
  {
   "cell_type": "code",
   "execution_count": 64,
   "id": "d13d0b6e",
   "metadata": {},
   "outputs": [
    {
     "data": {
      "text/html": [
       "<div>\n",
       "<style scoped>\n",
       "    .dataframe tbody tr th:only-of-type {\n",
       "        vertical-align: middle;\n",
       "    }\n",
       "\n",
       "    .dataframe tbody tr th {\n",
       "        vertical-align: top;\n",
       "    }\n",
       "\n",
       "    .dataframe thead th {\n",
       "        text-align: right;\n",
       "    }\n",
       "</style>\n",
       "<table border=\"1\" class=\"dataframe\">\n",
       "  <thead>\n",
       "    <tr style=\"text-align: right;\">\n",
       "      <th></th>\n",
       "      <th>Domain</th>\n",
       "      <th>Area</th>\n",
       "      <th>Element</th>\n",
       "      <th>Item</th>\n",
       "      <th>Year</th>\n",
       "      <th>Unit</th>\n",
       "      <th>Value</th>\n",
       "    </tr>\n",
       "  </thead>\n",
       "  <tbody>\n",
       "    <tr>\n",
       "      <th>0</th>\n",
       "      <td>Crops and livestock products</td>\n",
       "      <td>Brazil</td>\n",
       "      <td>Area harvested</td>\n",
       "      <td>Almonds, with shell</td>\n",
       "      <td>2010</td>\n",
       "      <td>ha</td>\n",
       "      <td>NaN</td>\n",
       "    </tr>\n",
       "    <tr>\n",
       "      <th>1</th>\n",
       "      <td>Crops and livestock products</td>\n",
       "      <td>Brazil</td>\n",
       "      <td>Area harvested</td>\n",
       "      <td>Almonds, with shell</td>\n",
       "      <td>2011</td>\n",
       "      <td>ha</td>\n",
       "      <td>NaN</td>\n",
       "    </tr>\n",
       "    <tr>\n",
       "      <th>2</th>\n",
       "      <td>Crops and livestock products</td>\n",
       "      <td>Brazil</td>\n",
       "      <td>Area harvested</td>\n",
       "      <td>Almonds, with shell</td>\n",
       "      <td>2012</td>\n",
       "      <td>ha</td>\n",
       "      <td>NaN</td>\n",
       "    </tr>\n",
       "    <tr>\n",
       "      <th>3</th>\n",
       "      <td>Crops and livestock products</td>\n",
       "      <td>Brazil</td>\n",
       "      <td>Area harvested</td>\n",
       "      <td>Almonds, with shell</td>\n",
       "      <td>2013</td>\n",
       "      <td>ha</td>\n",
       "      <td>NaN</td>\n",
       "    </tr>\n",
       "    <tr>\n",
       "      <th>4</th>\n",
       "      <td>Crops and livestock products</td>\n",
       "      <td>Brazil</td>\n",
       "      <td>Area harvested</td>\n",
       "      <td>Almonds, with shell</td>\n",
       "      <td>2014</td>\n",
       "      <td>ha</td>\n",
       "      <td>NaN</td>\n",
       "    </tr>\n",
       "  </tbody>\n",
       "</table>\n",
       "</div>"
      ],
      "text/plain": [
       "                         Domain    Area         Element                 Item  \\\n",
       "0  Crops and livestock products  Brazil  Area harvested  Almonds, with shell   \n",
       "1  Crops and livestock products  Brazil  Area harvested  Almonds, with shell   \n",
       "2  Crops and livestock products  Brazil  Area harvested  Almonds, with shell   \n",
       "3  Crops and livestock products  Brazil  Area harvested  Almonds, with shell   \n",
       "4  Crops and livestock products  Brazil  Area harvested  Almonds, with shell   \n",
       "\n",
       "   Year Unit  Value  \n",
       "0  2010   ha    NaN  \n",
       "1  2011   ha    NaN  \n",
       "2  2012   ha    NaN  \n",
       "3  2013   ha    NaN  \n",
       "4  2014   ha    NaN  "
      ]
     },
     "execution_count": 64,
     "metadata": {},
     "output_type": "execute_result"
    }
   ],
   "source": [
    "df.head()"
   ]
  },
  {
   "cell_type": "markdown",
   "id": "405d6c6a",
   "metadata": {},
   "source": [
    "# Chi-Squared Test"
   ]
  },
  {
   "cell_type": "markdown",
   "id": "c097fb1b",
   "metadata": {},
   "source": [
    "Tests whether two categorical variables are related or independent.\n",
    "\n",
    "Assumptions\n",
    "\n",
    "Observations used in the calculation of the contingency table are independent.\n",
    "\n",
    "25 or more examples in each cell of the contingency table.\n"
   ]
  },
  {
   "cell_type": "code",
   "execution_count": 65,
   "id": "bdd4ff4c",
   "metadata": {},
   "outputs": [
    {
     "name": "stdout",
     "output_type": "stream",
     "text": [
      "stat=0.272, p=0.873\n",
      "Probably independent\n"
     ]
    }
   ],
   "source": [
    "# Example of the Chi-Squared Test\n",
    "from scipy.stats import chi2_contingency\n",
    "crop_value = [[10, 20, 30],[6,  9,  17]]\n",
    "stat, p, dof, expected = chi2_contingency(crop_value)\n",
    "print('stat=%.3f, p=%.3f' % (stat, p))\n",
    "if p > 0.05:\n",
    "\tprint('Probably independent')\n",
    "else:\n",
    "\tprint('Probably dependent')"
   ]
  },
  {
   "cell_type": "markdown",
   "id": "948adf06",
   "metadata": {},
   "source": [
    "# We can see that the P - value for crop value is greater than 0.5 and is probably independant"
   ]
  },
  {
   "cell_type": "markdown",
   "id": "44e1e365",
   "metadata": {},
   "source": [
    "Interpretation\n",
    "\n",
    "H0: the two samples are independent.\n",
    "\n",
    "H1: there is a dependency between the samples.\n"
   ]
  },
  {
   "cell_type": "markdown",
   "id": "2eded86c",
   "metadata": {},
   "source": [
    "# Student’s t-test\n",
    "\n",
    "Tests whether the means of two independent samples are significantly different.\n",
    "\n",
    "Assumptions\n",
    "\n",
    "Observations in each sample are independent and identically distributed (iid).\n",
    "\n",
    "Observations in each sample are normally distributed.\n",
    "\n",
    "Observations in each sample have the same variance.\n"
   ]
  },
  {
   "cell_type": "code",
   "execution_count": 66,
   "id": "4cbc8e23",
   "metadata": {},
   "outputs": [
    {
     "name": "stdout",
     "output_type": "stream",
     "text": [
      "stat=-0.326, p=0.748\n",
      "Probably the same distribution\n"
     ]
    }
   ],
   "source": [
    "# Example of the Student's t-test\n",
    "from scipy.stats import ttest_ind\n",
    "max_airtemp = [0.873, 2.817, 0.121, -0.945, -0.055, -1.436, 0.360, -1.478, -1.637, -1.869]\n",
    "min_airtemp = [1.142, -0.432, -0.938, -0.729, -0.846, -0.157, 0.500, 1.183, -1.075, -0.169]\n",
    "stat, p = ttest_ind(max_airtemp, min_airtemp)\n",
    "print('stat=%.3f, p=%.3f' % (stat, p))\n",
    "if p > 0.05:\n",
    "\tprint('Probably the same distribution')\n",
    "else:\n",
    "\tprint('Probably different distributions')"
   ]
  },
  {
   "cell_type": "markdown",
   "id": "b6ce4518",
   "metadata": {},
   "source": [
    "Interpretation\n",
    "\n",
    "H0: the means of the samples are equal.\n",
    "\n",
    "H1: the means of the samples are unequal.\n"
   ]
  },
  {
   "cell_type": "markdown",
   "id": "2176e5cf",
   "metadata": {},
   "source": [
    "# Parametric Statistical Hypothesis Tests\n",
    "\n",
    "This section lists statistical tests that you can use to compare data samples\n"
   ]
  },
  {
   "cell_type": "markdown",
   "id": "a25aa838",
   "metadata": {},
   "source": [
    "Paired Student’s t-test\n",
    "\n",
    "Tests whether the means of two paired samples are significantly different.\n",
    "\n",
    "Assumptions\n",
    "\n",
    " Observations in each sample are independent and identically distributed (iid). \n",
    "\n",
    " Observations in each sample are normally distributed. \n",
    "\n",
    " Observations in each sample have the same variance. \n",
    "    \n",
    "Observations across each sample are paired."
   ]
  },
  {
   "cell_type": "code",
   "execution_count": 67,
   "id": "1f9f3707",
   "metadata": {},
   "outputs": [
    {
     "name": "stdout",
     "output_type": "stream",
     "text": [
      "stat=-0.326, p=0.748\n",
      "Probably the same distribution\n"
     ]
    }
   ],
   "source": [
    "# Example of the Student's t-test\n",
    "from scipy.stats import ttest_ind\n",
    "rain = [0.873, 2.817, 0.121, -0.945, -0.055, -1.436, 0.360, -1.478, -1.637, -1.869]\n",
    "year = [1.142, -0.432, -0.938, -0.729, -0.846, -0.157, 0.500, 1.183, -1.075, -0.169]\n",
    "stat, p = ttest_ind(rain, year)\n",
    "print('stat=%.3f, p=%.3f' % (stat, p))\n",
    "if p > 0.05:\n",
    "\tprint('Probably the same distribution')\n",
    "else:\n",
    "\tprint('Probably different distributions')"
   ]
  },
  {
   "cell_type": "markdown",
   "id": "f9c6f85a",
   "metadata": {},
   "source": [
    "interpretation\n",
    "\n",
    "H0: the means of the samples are equal.\n",
    "\n",
    "H1: the means of the samples are unequal.\n"
   ]
  },
  {
   "cell_type": "markdown",
   "id": "40fe0efe",
   "metadata": {},
   "source": [
    "# We can see that the P value for Year is greater than 0.5 and is therefore of the same distribution"
   ]
  },
  {
   "cell_type": "code",
   "execution_count": 68,
   "id": "b6065ba3",
   "metadata": {},
   "outputs": [
    {
     "data": {
      "text/html": [
       "<div>\n",
       "<style scoped>\n",
       "    .dataframe tbody tr th:only-of-type {\n",
       "        vertical-align: middle;\n",
       "    }\n",
       "\n",
       "    .dataframe tbody tr th {\n",
       "        vertical-align: top;\n",
       "    }\n",
       "\n",
       "    .dataframe thead th {\n",
       "        text-align: right;\n",
       "    }\n",
       "</style>\n",
       "<table border=\"1\" class=\"dataframe\">\n",
       "  <thead>\n",
       "    <tr style=\"text-align: right;\">\n",
       "      <th></th>\n",
       "      <th>year</th>\n",
       "      <th>months</th>\n",
       "      <th>crop_measurement</th>\n",
       "      <th>crops_type</th>\n",
       "      <th>crops_action</th>\n",
       "      <th>crop_value</th>\n",
       "      <th>consumer_value</th>\n",
       "    </tr>\n",
       "  </thead>\n",
       "  <tbody>\n",
       "    <tr>\n",
       "      <th>0</th>\n",
       "      <td>2010</td>\n",
       "      <td>January</td>\n",
       "      <td>tonnes</td>\n",
       "      <td>Chestnut</td>\n",
       "      <td>Production</td>\n",
       "      <td>5.333023e+06</td>\n",
       "      <td>3.559127</td>\n",
       "    </tr>\n",
       "    <tr>\n",
       "      <th>1</th>\n",
       "      <td>2010</td>\n",
       "      <td>August</td>\n",
       "      <td>tonnes</td>\n",
       "      <td>Chestnut</td>\n",
       "      <td>Production</td>\n",
       "      <td>5.333023e+06</td>\n",
       "      <td>4.098498</td>\n",
       "    </tr>\n",
       "    <tr>\n",
       "      <th>2</th>\n",
       "      <td>2010</td>\n",
       "      <td>February</td>\n",
       "      <td>tonnes</td>\n",
       "      <td>Chestnut</td>\n",
       "      <td>Production</td>\n",
       "      <td>5.333023e+06</td>\n",
       "      <td>4.271629</td>\n",
       "    </tr>\n",
       "    <tr>\n",
       "      <th>3</th>\n",
       "      <td>2010</td>\n",
       "      <td>July</td>\n",
       "      <td>tonnes</td>\n",
       "      <td>Chestnut</td>\n",
       "      <td>Production</td>\n",
       "      <td>5.333023e+06</td>\n",
       "      <td>4.338587</td>\n",
       "    </tr>\n",
       "    <tr>\n",
       "      <th>4</th>\n",
       "      <td>2010</td>\n",
       "      <td>June</td>\n",
       "      <td>tonnes</td>\n",
       "      <td>Chestnut</td>\n",
       "      <td>Production</td>\n",
       "      <td>5.333023e+06</td>\n",
       "      <td>5.074611</td>\n",
       "    </tr>\n",
       "    <tr>\n",
       "      <th>...</th>\n",
       "      <td>...</td>\n",
       "      <td>...</td>\n",
       "      <td>...</td>\n",
       "      <td>...</td>\n",
       "      <td>...</td>\n",
       "      <td>...</td>\n",
       "      <td>...</td>\n",
       "    </tr>\n",
       "    <tr>\n",
       "      <th>83515</th>\n",
       "      <td>2020</td>\n",
       "      <td>August</td>\n",
       "      <td>tonnes</td>\n",
       "      <td>Sugar cane</td>\n",
       "      <td>Production</td>\n",
       "      <td>7.571169e+08</td>\n",
       "      <td>130.229147</td>\n",
       "    </tr>\n",
       "    <tr>\n",
       "      <th>83516</th>\n",
       "      <td>2020</td>\n",
       "      <td>September</td>\n",
       "      <td>tonnes</td>\n",
       "      <td>Sugar cane</td>\n",
       "      <td>Production</td>\n",
       "      <td>7.571169e+08</td>\n",
       "      <td>133.208033</td>\n",
       "    </tr>\n",
       "    <tr>\n",
       "      <th>83517</th>\n",
       "      <td>2020</td>\n",
       "      <td>October</td>\n",
       "      <td>tonnes</td>\n",
       "      <td>Sugar cane</td>\n",
       "      <td>Production</td>\n",
       "      <td>7.571169e+08</td>\n",
       "      <td>135.798369</td>\n",
       "    </tr>\n",
       "    <tr>\n",
       "      <th>83518</th>\n",
       "      <td>2020</td>\n",
       "      <td>November</td>\n",
       "      <td>tonnes</td>\n",
       "      <td>Sugar cane</td>\n",
       "      <td>Production</td>\n",
       "      <td>7.571169e+08</td>\n",
       "      <td>139.230564</td>\n",
       "    </tr>\n",
       "    <tr>\n",
       "      <th>83519</th>\n",
       "      <td>2020</td>\n",
       "      <td>December</td>\n",
       "      <td>tonnes</td>\n",
       "      <td>Sugar cane</td>\n",
       "      <td>Production</td>\n",
       "      <td>7.571169e+08</td>\n",
       "      <td>141.626625</td>\n",
       "    </tr>\n",
       "  </tbody>\n",
       "</table>\n",
       "<p>83520 rows × 7 columns</p>\n",
       "</div>"
      ],
      "text/plain": [
       "       year     months crop_measurement  crops_type crops_action  \\\n",
       "0      2010    January           tonnes    Chestnut   Production   \n",
       "1      2010     August           tonnes    Chestnut   Production   \n",
       "2      2010   February           tonnes    Chestnut   Production   \n",
       "3      2010       July           tonnes    Chestnut   Production   \n",
       "4      2010       June           tonnes    Chestnut   Production   \n",
       "...     ...        ...              ...         ...          ...   \n",
       "83515  2020     August           tonnes  Sugar cane   Production   \n",
       "83516  2020  September           tonnes  Sugar cane   Production   \n",
       "83517  2020    October           tonnes  Sugar cane   Production   \n",
       "83518  2020   November           tonnes  Sugar cane   Production   \n",
       "83519  2020   December           tonnes  Sugar cane   Production   \n",
       "\n",
       "         crop_value  consumer_value  \n",
       "0      5.333023e+06        3.559127  \n",
       "1      5.333023e+06        4.098498  \n",
       "2      5.333023e+06        4.271629  \n",
       "3      5.333023e+06        4.338587  \n",
       "4      5.333023e+06        5.074611  \n",
       "...             ...             ...  \n",
       "83515  7.571169e+08      130.229147  \n",
       "83516  7.571169e+08      133.208033  \n",
       "83517  7.571169e+08      135.798369  \n",
       "83518  7.571169e+08      139.230564  \n",
       "83519  7.571169e+08      141.626625  \n",
       "\n",
       "[83520 rows x 7 columns]"
      ]
     },
     "execution_count": 68,
     "metadata": {},
     "output_type": "execute_result"
    }
   ],
   "source": [
    "df_brazildata"
   ]
  },
  {
   "cell_type": "code",
   "execution_count": 69,
   "id": "1db90a08",
   "metadata": {},
   "outputs": [
    {
     "data": {
      "image/png": "[encoded data removed]",
      "text/plain": [
       "<Figure size 576x432 with 1 Axes>"
      ]
     },
     "metadata": {},
     "output_type": "display_data"
    }
   ],
   "source": [
    "plt.style.use(\"ggplot\")\n",
    "plt.figure(figsize=(8,6))\n",
    "sns.regplot(x=df_brazildata['year'], y = df_brazildata[\"crop_value\"])\n",
    "plt.show()"
   ]
  },
  {
   "cell_type": "code",
   "execution_count": 70,
   "id": "6230e43f",
   "metadata": {},
   "outputs": [
    {
     "data": {
      "image/png": "[encoded data removed]",
      "text/plain": [
       "<Figure size 576x432 with 1 Axes>"
      ]
     },
     "metadata": {},
     "output_type": "display_data"
    }
   ],
   "source": [
    "plt.style.use(\"ggplot\")\n",
    "plt.figure(figsize=(8,6))\n",
    "sns.regplot(x = df_brazildata[\"year\"], y = df_brazildata[\"consumer_value\"])\n",
    "plt.show()"
   ]
  },
  {
   "cell_type": "markdown",
   "id": "032653f1",
   "metadata": {},
   "source": [
    "# European Dataset"
   ]
  },
  {
   "cell_type": "markdown",
   "id": "11c86d7e",
   "metadata": {},
   "source": [
    "# Descriptive Statistics for the Target feature: crop value"
   ]
  },
  {
   "cell_type": "code",
   "execution_count": 73,
   "id": "3b03a542",
   "metadata": {},
   "outputs": [
    {
     "data": {
      "text/html": [
       "<div>\n",
       "<style scoped>\n",
       "    .dataframe tbody tr th:only-of-type {\n",
       "        vertical-align: middle;\n",
       "    }\n",
       "\n",
       "    .dataframe tbody tr th {\n",
       "        vertical-align: top;\n",
       "    }\n",
       "\n",
       "    .dataframe thead th {\n",
       "        text-align: right;\n",
       "    }\n",
       "</style>\n",
       "<table border=\"1\" class=\"dataframe\">\n",
       "  <thead>\n",
       "    <tr style=\"text-align: right;\">\n",
       "      <th></th>\n",
       "      <th>DATAFLOW</th>\n",
       "      <th>LAST UPDATE</th>\n",
       "      <th>freq</th>\n",
       "      <th>unit</th>\n",
       "      <th>meatitem</th>\n",
       "      <th>meat</th>\n",
       "      <th>geo</th>\n",
       "      <th>TIME_PERIOD</th>\n",
       "      <th>OBS_VALUE</th>\n",
       "      <th>OBS_FLAG</th>\n",
       "    </tr>\n",
       "  </thead>\n",
       "  <tbody>\n",
       "    <tr>\n",
       "      <th>0</th>\n",
       "      <td>ESTAT:TAG00044(1.0)</td>\n",
       "      <td>24/10/22 23:00:00</td>\n",
       "      <td>A</td>\n",
       "      <td>THS_T</td>\n",
       "      <td>SL</td>\n",
       "      <td>B1000</td>\n",
       "      <td>AL</td>\n",
       "      <td>2015</td>\n",
       "      <td>8.70</td>\n",
       "      <td>NaN</td>\n",
       "    </tr>\n",
       "    <tr>\n",
       "      <th>1</th>\n",
       "      <td>ESTAT:TAG00044(1.0)</td>\n",
       "      <td>24/10/22 23:00:00</td>\n",
       "      <td>A</td>\n",
       "      <td>THS_T</td>\n",
       "      <td>SL</td>\n",
       "      <td>B1000</td>\n",
       "      <td>AL</td>\n",
       "      <td>2016</td>\n",
       "      <td>11.37</td>\n",
       "      <td>NaN</td>\n",
       "    </tr>\n",
       "    <tr>\n",
       "      <th>2</th>\n",
       "      <td>ESTAT:TAG00044(1.0)</td>\n",
       "      <td>24/10/22 23:00:00</td>\n",
       "      <td>A</td>\n",
       "      <td>THS_T</td>\n",
       "      <td>SL</td>\n",
       "      <td>B1000</td>\n",
       "      <td>AL</td>\n",
       "      <td>2017</td>\n",
       "      <td>10.29</td>\n",
       "      <td>NaN</td>\n",
       "    </tr>\n",
       "    <tr>\n",
       "      <th>3</th>\n",
       "      <td>ESTAT:TAG00044(1.0)</td>\n",
       "      <td>24/10/22 23:00:00</td>\n",
       "      <td>A</td>\n",
       "      <td>THS_T</td>\n",
       "      <td>SL</td>\n",
       "      <td>B1000</td>\n",
       "      <td>AL</td>\n",
       "      <td>2018</td>\n",
       "      <td>7.34</td>\n",
       "      <td>NaN</td>\n",
       "    </tr>\n",
       "    <tr>\n",
       "      <th>4</th>\n",
       "      <td>ESTAT:TAG00044(1.0)</td>\n",
       "      <td>24/10/22 23:00:00</td>\n",
       "      <td>A</td>\n",
       "      <td>THS_T</td>\n",
       "      <td>SL</td>\n",
       "      <td>B1000</td>\n",
       "      <td>AL</td>\n",
       "      <td>2019</td>\n",
       "      <td>5.61</td>\n",
       "      <td>NaN</td>\n",
       "    </tr>\n",
       "  </tbody>\n",
       "</table>\n",
       "</div>"
      ],
      "text/plain": [
       "              DATAFLOW        LAST UPDATE freq   unit meatitem   meat geo  \\\n",
       "0  ESTAT:TAG00044(1.0)  24/10/22 23:00:00    A  THS_T       SL  B1000  AL   \n",
       "1  ESTAT:TAG00044(1.0)  24/10/22 23:00:00    A  THS_T       SL  B1000  AL   \n",
       "2  ESTAT:TAG00044(1.0)  24/10/22 23:00:00    A  THS_T       SL  B1000  AL   \n",
       "3  ESTAT:TAG00044(1.0)  24/10/22 23:00:00    A  THS_T       SL  B1000  AL   \n",
       "4  ESTAT:TAG00044(1.0)  24/10/22 23:00:00    A  THS_T       SL  B1000  AL   \n",
       "\n",
       "   TIME_PERIOD  OBS_VALUE OBS_FLAG  \n",
       "0         2015       8.70      NaN  \n",
       "1         2016      11.37      NaN  \n",
       "2         2017      10.29      NaN  \n",
       "3         2018       7.34      NaN  \n",
       "4         2019       5.61      NaN  "
      ]
     },
     "execution_count": 73,
     "metadata": {},
     "output_type": "execute_result"
    }
   ],
   "source": [
    "europeagri_consumer = pd.read_csv('tag00044_linear.csv')\n",
    "europeagri_consumer.head()"
   ]
  },
  {
   "cell_type": "code",
   "execution_count": 74,
   "id": "09ad1196",
   "metadata": {},
   "outputs": [
    {
     "data": {
      "text/html": [
       "<div>\n",
       "<style scoped>\n",
       "    .dataframe tbody tr th:only-of-type {\n",
       "        vertical-align: middle;\n",
       "    }\n",
       "\n",
       "    .dataframe tbody tr th {\n",
       "        vertical-align: top;\n",
       "    }\n",
       "\n",
       "    .dataframe thead th {\n",
       "        text-align: right;\n",
       "    }\n",
       "</style>\n",
       "<table border=\"1\" class=\"dataframe\">\n",
       "  <thead>\n",
       "    <tr style=\"text-align: right;\">\n",
       "      <th></th>\n",
       "      <th>TIME_PERIOD</th>\n",
       "      <th>OBS_VALUE</th>\n",
       "    </tr>\n",
       "  </thead>\n",
       "  <tbody>\n",
       "    <tr>\n",
       "      <th>count</th>\n",
       "      <td>437.000000</td>\n",
       "      <td>425.000000</td>\n",
       "    </tr>\n",
       "    <tr>\n",
       "      <th>mean</th>\n",
       "      <td>2015.645309</td>\n",
       "      <td>625.228588</td>\n",
       "    </tr>\n",
       "    <tr>\n",
       "      <th>std</th>\n",
       "      <td>3.351031</td>\n",
       "      <td>1645.350126</td>\n",
       "    </tr>\n",
       "    <tr>\n",
       "      <th>min</th>\n",
       "      <td>2010.000000</td>\n",
       "      <td>0.540000</td>\n",
       "    </tr>\n",
       "    <tr>\n",
       "      <th>25%</th>\n",
       "      <td>2013.000000</td>\n",
       "      <td>14.470000</td>\n",
       "    </tr>\n",
       "    <tr>\n",
       "      <th>50%</th>\n",
       "      <td>2016.000000</td>\n",
       "      <td>71.930000</td>\n",
       "    </tr>\n",
       "    <tr>\n",
       "      <th>75%</th>\n",
       "      <td>2018.000000</td>\n",
       "      <td>452.120000</td>\n",
       "    </tr>\n",
       "    <tr>\n",
       "      <th>max</th>\n",
       "      <td>2021.000000</td>\n",
       "      <td>7931.690000</td>\n",
       "    </tr>\n",
       "  </tbody>\n",
       "</table>\n",
       "</div>"
      ],
      "text/plain": [
       "       TIME_PERIOD    OBS_VALUE\n",
       "count   437.000000   425.000000\n",
       "mean   2015.645309   625.228588\n",
       "std       3.351031  1645.350126\n",
       "min    2010.000000     0.540000\n",
       "25%    2013.000000    14.470000\n",
       "50%    2016.000000    71.930000\n",
       "75%    2018.000000   452.120000\n",
       "max    2021.000000  7931.690000"
      ]
     },
     "execution_count": 74,
     "metadata": {},
     "output_type": "execute_result"
    }
   ],
   "source": [
    "#inspect the dataframe for outliers will display the min,max mean and inner and outer quariles for all features\n",
    "#inspect the dataframe for outliers will display the min,max mean and inner and outer quariles for all features\n",
    "europeagri_consumer.describe()"
   ]
  },
  {
   "cell_type": "code",
   "execution_count": 75,
   "id": "485c2019",
   "metadata": {},
   "outputs": [
    {
     "name": "stdout",
     "output_type": "stream",
     "text": [
      "<class 'pandas.core.frame.DataFrame'>\n",
      "RangeIndex: 437 entries, 0 to 436\n",
      "Data columns (total 10 columns):\n",
      " #   Column       Non-Null Count  Dtype  \n",
      "---  ------       --------------  -----  \n",
      " 0   DATAFLOW     437 non-null    object \n",
      " 1   LAST UPDATE  437 non-null    object \n",
      " 2   freq         437 non-null    object \n",
      " 3   unit         437 non-null    object \n",
      " 4   meatitem     437 non-null    object \n",
      " 5   meat         437 non-null    object \n",
      " 6   geo          437 non-null    object \n",
      " 7   TIME_PERIOD  437 non-null    int64  \n",
      " 8   OBS_VALUE    425 non-null    float64\n",
      " 9   OBS_FLAG     47 non-null     object \n",
      "dtypes: float64(1), int64(1), object(8)\n",
      "memory usage: 34.3+ KB\n"
     ]
    }
   ],
   "source": [
    "europeagri_consumer.info()"
   ]
  },
  {
   "cell_type": "code",
   "execution_count": 76,
   "id": "cb255875",
   "metadata": {},
   "outputs": [],
   "source": [
    "#changing the datatype of Value from object to a float must be careful to check if there are no numbers in the column they\n",
    "#will be come NAN\n",
    "europeagri_consumer['OBS_VALUE'] = pd.to_numeric(europeagri_consumer['OBS_VALUE'],errors = 'coerce')"
   ]
  },
  {
   "cell_type": "code",
   "execution_count": 77,
   "id": "888af9b5",
   "metadata": {},
   "outputs": [
    {
     "name": "stdout",
     "output_type": "stream",
     "text": [
      "<class 'pandas.core.frame.DataFrame'>\n",
      "RangeIndex: 437 entries, 0 to 436\n",
      "Data columns (total 10 columns):\n",
      " #   Column       Non-Null Count  Dtype  \n",
      "---  ------       --------------  -----  \n",
      " 0   DATAFLOW     437 non-null    object \n",
      " 1   LAST UPDATE  437 non-null    object \n",
      " 2   freq         437 non-null    object \n",
      " 3   unit         437 non-null    object \n",
      " 4   meatitem     437 non-null    object \n",
      " 5   meat         437 non-null    object \n",
      " 6   geo          437 non-null    object \n",
      " 7   TIME_PERIOD  437 non-null    int64  \n",
      " 8   OBS_VALUE    425 non-null    float64\n",
      " 9   OBS_FLAG     47 non-null     object \n",
      "dtypes: float64(1), int64(1), object(8)\n",
      "memory usage: 34.3+ KB\n",
      "None\n"
     ]
    }
   ],
   "source": [
    "print(europeagri_consumer.info())"
   ]
  },
  {
   "cell_type": "code",
   "execution_count": 78,
   "id": "060f143c",
   "metadata": {},
   "outputs": [
    {
     "data": {
      "text/html": [
       "<div>\n",
       "<style scoped>\n",
       "    .dataframe tbody tr th:only-of-type {\n",
       "        vertical-align: middle;\n",
       "    }\n",
       "\n",
       "    .dataframe tbody tr th {\n",
       "        vertical-align: top;\n",
       "    }\n",
       "\n",
       "    .dataframe thead th {\n",
       "        text-align: right;\n",
       "    }\n",
       "</style>\n",
       "<table border=\"1\" class=\"dataframe\">\n",
       "  <thead>\n",
       "    <tr style=\"text-align: right;\">\n",
       "      <th></th>\n",
       "      <th>TIME_PERIOD</th>\n",
       "      <th>OBS_VALUE</th>\n",
       "    </tr>\n",
       "  </thead>\n",
       "  <tbody>\n",
       "    <tr>\n",
       "      <th>count</th>\n",
       "      <td>437.000000</td>\n",
       "      <td>425.000000</td>\n",
       "    </tr>\n",
       "    <tr>\n",
       "      <th>mean</th>\n",
       "      <td>2015.645309</td>\n",
       "      <td>625.228588</td>\n",
       "    </tr>\n",
       "    <tr>\n",
       "      <th>std</th>\n",
       "      <td>3.351031</td>\n",
       "      <td>1645.350126</td>\n",
       "    </tr>\n",
       "    <tr>\n",
       "      <th>min</th>\n",
       "      <td>2010.000000</td>\n",
       "      <td>0.540000</td>\n",
       "    </tr>\n",
       "    <tr>\n",
       "      <th>25%</th>\n",
       "      <td>2013.000000</td>\n",
       "      <td>14.470000</td>\n",
       "    </tr>\n",
       "    <tr>\n",
       "      <th>50%</th>\n",
       "      <td>2016.000000</td>\n",
       "      <td>71.930000</td>\n",
       "    </tr>\n",
       "    <tr>\n",
       "      <th>75%</th>\n",
       "      <td>2018.000000</td>\n",
       "      <td>452.120000</td>\n",
       "    </tr>\n",
       "    <tr>\n",
       "      <th>max</th>\n",
       "      <td>2021.000000</td>\n",
       "      <td>7931.690000</td>\n",
       "    </tr>\n",
       "  </tbody>\n",
       "</table>\n",
       "</div>"
      ],
      "text/plain": [
       "       TIME_PERIOD    OBS_VALUE\n",
       "count   437.000000   425.000000\n",
       "mean   2015.645309   625.228588\n",
       "std       3.351031  1645.350126\n",
       "min    2010.000000     0.540000\n",
       "25%    2013.000000    14.470000\n",
       "50%    2016.000000    71.930000\n",
       "75%    2018.000000   452.120000\n",
       "max    2021.000000  7931.690000"
      ]
     },
     "execution_count": 78,
     "metadata": {},
     "output_type": "execute_result"
    }
   ],
   "source": [
    "europeagri_consumer.describe()"
   ]
  },
  {
   "cell_type": "code",
   "execution_count": 79,
   "id": "4e497011",
   "metadata": {},
   "outputs": [
    {
     "data": {
      "text/html": [
       "<div>\n",
       "<style scoped>\n",
       "    .dataframe tbody tr th:only-of-type {\n",
       "        vertical-align: middle;\n",
       "    }\n",
       "\n",
       "    .dataframe tbody tr th {\n",
       "        vertical-align: top;\n",
       "    }\n",
       "\n",
       "    .dataframe thead th {\n",
       "        text-align: right;\n",
       "    }\n",
       "</style>\n",
       "<table border=\"1\" class=\"dataframe\">\n",
       "  <thead>\n",
       "    <tr style=\"text-align: right;\">\n",
       "      <th></th>\n",
       "      <th>DATAFLOW</th>\n",
       "      <th>LAST UPDATE</th>\n",
       "      <th>freq</th>\n",
       "      <th>unit</th>\n",
       "      <th>meatitem</th>\n",
       "      <th>meat</th>\n",
       "      <th>geo</th>\n",
       "      <th>TIME_PERIOD</th>\n",
       "      <th>OBS_VALUE</th>\n",
       "      <th>OBS_FLAG</th>\n",
       "    </tr>\n",
       "  </thead>\n",
       "  <tbody>\n",
       "  </tbody>\n",
       "</table>\n",
       "</div>"
      ],
      "text/plain": [
       "Empty DataFrame\n",
       "Columns: [DATAFLOW, LAST UPDATE, freq, unit, meatitem, meat, geo, TIME_PERIOD, OBS_VALUE, OBS_FLAG]\n",
       "Index: []"
      ]
     },
     "execution_count": 79,
     "metadata": {},
     "output_type": "execute_result"
    }
   ],
   "source": [
    "##check rows where dependent variable is equal to zero\n",
    "europeagri_consumer.loc[europeagri_consumer['OBS_VALUE']==0]"
   ]
  },
  {
   "cell_type": "code",
   "execution_count": 80,
   "id": "32f9cfca",
   "metadata": {},
   "outputs": [
    {
     "name": "stdout",
     "output_type": "stream",
     "text": [
      "625.2285882352941\n"
     ]
    }
   ],
   "source": [
    "#We can see for the value column there are over 4613 rows with the value 0 I want to find the mean value of the column\n",
    "print(europeagri_consumer['OBS_VALUE'].mean()) "
   ]
  },
  {
   "cell_type": "code",
   "execution_count": 85,
   "id": "ed993029",
   "metadata": {},
   "outputs": [
    {
     "data": {
      "image/png": "[encoded data removed]",
      "text/plain": [
       "<Figure size 1152x288 with 1 Axes>"
      ]
     },
     "metadata": {},
     "output_type": "display_data"
    }
   ],
   "source": [
    "#boxplot for the target feature crop_value\n",
    "plt.figure(figsize = (16,4))\n",
    "sns.boxplot(x= europeagri_consumer['OBS_VALUE'])\n",
    "plt.show()"
   ]
  },
  {
   "cell_type": "code",
   "execution_count": 86,
   "id": "5c719eab",
   "metadata": {},
   "outputs": [
    {
     "name": "stdout",
     "output_type": "stream",
     "text": [
      "618.596795180723\n"
     ]
    }
   ],
   "source": [
    "#print the mean of the target feature\n",
    "mean_eurovalue= europeagri_consumer['OBS_VALUE'].mean()\n",
    "print(mean_eurovalue)"
   ]
  },
  {
   "cell_type": "code",
   "execution_count": 87,
   "id": "174362a1",
   "metadata": {},
   "outputs": [
    {
     "name": "stdout",
     "output_type": "stream",
     "text": [
      "65.53\n"
     ]
    }
   ],
   "source": [
    "#print the median of the target feature\n",
    "median = europeagri_consumer['OBS_VALUE'].median()\n",
    "print(median)"
   ]
  },
  {
   "cell_type": "code",
   "execution_count": 89,
   "id": "f6cc6ad3",
   "metadata": {},
   "outputs": [
    {
     "name": "stdout",
     "output_type": "stream",
     "text": [
      "0    72.17294\n",
      "Name: consumer_value, dtype: float64\n"
     ]
    }
   ],
   "source": [
    "#print the median of the target feature\n",
    "median = europeagri_consumer['OBS_VALUE'].mode()\n",
    "print(mode)"
   ]
  },
  {
   "cell_type": "code",
   "execution_count": 91,
   "id": "abcf943a",
   "metadata": {},
   "outputs": [
    {
     "data": {
      "text/plain": [
       "[Text(0.5, 0, 'Crop Price'),\n",
       " Text(0, 0.5, 'Cropvalue'),\n",
       " Text(0.5, 1.0, 'Cropvalue Histogram')]"
      ]
     },
     "execution_count": 91,
     "metadata": {},
     "output_type": "execute_result"
    },
    {
     "data": {
      "image/png": "[encoded data removed]",
      "text/plain": [
       "<Figure size 432x288 with 1 Axes>"
      ]
     },
     "metadata": {},
     "output_type": "display_data"
    }
   ],
   "source": [
    "#histplot to display the distribution of crap _value\n",
    "ax = sns.histplot(europeagri_consumer.OBS_VALUE)\n",
    "ax.set(xlabel='Crop Price', ylabel='Cropvalue', title ='Cropvalue Histogram')"
   ]
  },
  {
   "cell_type": "code",
   "execution_count": 94,
   "id": "64687363",
   "metadata": {},
   "outputs": [
    {
     "data": {
      "text/plain": [
       "Text(0.5, 1.0, 'Box plot Crop Value by Crop Action')"
      ]
     },
     "execution_count": 94,
     "metadata": {},
     "output_type": "execute_result"
    },
    {
     "data": {
      "image/png": "[encoded data removed]",
      "text/plain": [
       "<Figure size 432x288 with 1 Axes>"
      ]
     },
     "metadata": {},
     "output_type": "display_data"
    }
   ],
   "source": [
    "#Box plot to depict Box plot Crop Value by Crop Action\n",
    "sns.boxplot(x = 'TIME_PERIOD', y ='OBS_VALUE', data=europeagri_consumer, hue = 'geo')\n",
    "plt.legend(bbox_to_anchor=(1.02, 1), loc='upper left', borderaxespad=0)\n",
    "plt.title('Box plot Crop Value by Crop Action', fontsize=15)\n",
    "\n"
   ]
  },
  {
   "cell_type": "code",
   "execution_count": null,
   "id": "d8d7e249",
   "metadata": {},
   "outputs": [],
   "source": []
  }
 ],
 "metadata": {
  "kernelspec": {
   "display_name": "Python 3 (ipykernel)",
   "language": "python",
   "name": "python3"
  },
  "language_info": {
   "codemirror_mode": {
    "name": "ipython",
    "version": 3
   },
   "file_extension": ".py",
   "mimetype": "text/x-python",
   "name": "python",
   "nbconvert_exporter": "python",
   "pygments_lexer": "ipython3",
   "version": "3.9.12"
  }
 },
 "nbformat": 4,
 "nbformat_minor": 5
}
