{
 "cells": [
  {
   "cell_type": "markdown",
   "id": "6435857d",
   "metadata": {},
   "source": [
    "# Part 3. (CA2.Data_Analystic)"
   ]
  },
  {
   "cell_type": "markdown",
   "id": "3e9af216",
   "metadata": {},
   "source": [
    "# European  dataset                "
   ]
  },
  {
   "cell_type": "code",
   "execution_count": 2,
   "id": "6ced9d6b",
   "metadata": {},
   "outputs": [],
   "source": [
    "# importing packages\n",
    "import pandas as pd\n",
    "import numpy as np\n",
    "import seaborn as sns\n",
    "import datetime as dt\n",
    "from cmath import sqrt\n",
    "import warnings\n",
    "import matplotlib.pyplot as plt\n",
    "warnings.filterwarnings('ignore')"
   ]
  },
  {
   "cell_type": "markdown",
   "id": "a5227257",
   "metadata": {},
   "source": [
    "# EU Price of Crops in Euros"
   ]
  },
  {
   "cell_type": "code",
   "execution_count": 3,
   "id": "196195ad",
   "metadata": {},
   "outputs": [
    {
     "data": {
      "text/html": [
       "<div>\n",
       "<style scoped>\n",
       "    .dataframe tbody tr th:only-of-type {\n",
       "        vertical-align: middle;\n",
       "    }\n",
       "\n",
       "    .dataframe tbody tr th {\n",
       "        vertical-align: top;\n",
       "    }\n",
       "\n",
       "    .dataframe thead th {\n",
       "        text-align: right;\n",
       "    }\n",
       "</style>\n",
       "<table border=\"1\" class=\"dataframe\">\n",
       "  <thead>\n",
       "    <tr style=\"text-align: right;\">\n",
       "      <th></th>\n",
       "      <th>DATAFLOW</th>\n",
       "      <th>LAST UPDATE</th>\n",
       "      <th>freq</th>\n",
       "      <th>unit</th>\n",
       "      <th>meatitem</th>\n",
       "      <th>meat</th>\n",
       "      <th>geo</th>\n",
       "      <th>TIME_PERIOD</th>\n",
       "      <th>OBS_VALUE</th>\n",
       "      <th>OBS_FLAG</th>\n",
       "    </tr>\n",
       "  </thead>\n",
       "  <tbody>\n",
       "    <tr>\n",
       "      <th>0</th>\n",
       "      <td>ESTAT:TAG00044(1.0)</td>\n",
       "      <td>24/10/22 23:00:00</td>\n",
       "      <td>A</td>\n",
       "      <td>THS_T</td>\n",
       "      <td>SL</td>\n",
       "      <td>B1000</td>\n",
       "      <td>AL</td>\n",
       "      <td>2015</td>\n",
       "      <td>8.70</td>\n",
       "      <td>NaN</td>\n",
       "    </tr>\n",
       "    <tr>\n",
       "      <th>1</th>\n",
       "      <td>ESTAT:TAG00044(1.0)</td>\n",
       "      <td>24/10/22 23:00:00</td>\n",
       "      <td>A</td>\n",
       "      <td>THS_T</td>\n",
       "      <td>SL</td>\n",
       "      <td>B1000</td>\n",
       "      <td>AL</td>\n",
       "      <td>2016</td>\n",
       "      <td>11.37</td>\n",
       "      <td>NaN</td>\n",
       "    </tr>\n",
       "    <tr>\n",
       "      <th>2</th>\n",
       "      <td>ESTAT:TAG00044(1.0)</td>\n",
       "      <td>24/10/22 23:00:00</td>\n",
       "      <td>A</td>\n",
       "      <td>THS_T</td>\n",
       "      <td>SL</td>\n",
       "      <td>B1000</td>\n",
       "      <td>AL</td>\n",
       "      <td>2017</td>\n",
       "      <td>10.29</td>\n",
       "      <td>NaN</td>\n",
       "    </tr>\n",
       "    <tr>\n",
       "      <th>3</th>\n",
       "      <td>ESTAT:TAG00044(1.0)</td>\n",
       "      <td>24/10/22 23:00:00</td>\n",
       "      <td>A</td>\n",
       "      <td>THS_T</td>\n",
       "      <td>SL</td>\n",
       "      <td>B1000</td>\n",
       "      <td>AL</td>\n",
       "      <td>2018</td>\n",
       "      <td>7.34</td>\n",
       "      <td>NaN</td>\n",
       "    </tr>\n",
       "    <tr>\n",
       "      <th>4</th>\n",
       "      <td>ESTAT:TAG00044(1.0)</td>\n",
       "      <td>24/10/22 23:00:00</td>\n",
       "      <td>A</td>\n",
       "      <td>THS_T</td>\n",
       "      <td>SL</td>\n",
       "      <td>B1000</td>\n",
       "      <td>AL</td>\n",
       "      <td>2019</td>\n",
       "      <td>5.61</td>\n",
       "      <td>NaN</td>\n",
       "    </tr>\n",
       "  </tbody>\n",
       "</table>\n",
       "</div>"
      ],
      "text/plain": [
       "              DATAFLOW        LAST UPDATE freq   unit meatitem   meat geo  \\\n",
       "0  ESTAT:TAG00044(1.0)  24/10/22 23:00:00    A  THS_T       SL  B1000  AL   \n",
       "1  ESTAT:TAG00044(1.0)  24/10/22 23:00:00    A  THS_T       SL  B1000  AL   \n",
       "2  ESTAT:TAG00044(1.0)  24/10/22 23:00:00    A  THS_T       SL  B1000  AL   \n",
       "3  ESTAT:TAG00044(1.0)  24/10/22 23:00:00    A  THS_T       SL  B1000  AL   \n",
       "4  ESTAT:TAG00044(1.0)  24/10/22 23:00:00    A  THS_T       SL  B1000  AL   \n",
       "\n",
       "   TIME_PERIOD  OBS_VALUE OBS_FLAG  \n",
       "0         2015       8.70      NaN  \n",
       "1         2016      11.37      NaN  \n",
       "2         2017      10.29      NaN  \n",
       "3         2018       7.34      NaN  \n",
       "4         2019       5.61      NaN  "
      ]
     },
     "execution_count": 3,
     "metadata": {},
     "output_type": "execute_result"
    }
   ],
   "source": [
    "europeagri_consumer = pd.read_csv('tag00044_linear.csv')\n",
    "\n",
    "europeagri_consumer.head()"
   ]
  },
  {
   "cell_type": "code",
   "execution_count": 4,
   "id": "68c03c18",
   "metadata": {},
   "outputs": [
    {
     "data": {
      "text/html": [
       "<div>\n",
       "<style scoped>\n",
       "    .dataframe tbody tr th:only-of-type {\n",
       "        vertical-align: middle;\n",
       "    }\n",
       "\n",
       "    .dataframe tbody tr th {\n",
       "        vertical-align: top;\n",
       "    }\n",
       "\n",
       "    .dataframe thead th {\n",
       "        text-align: right;\n",
       "    }\n",
       "</style>\n",
       "<table border=\"1\" class=\"dataframe\">\n",
       "  <thead>\n",
       "    <tr style=\"text-align: right;\">\n",
       "      <th></th>\n",
       "      <th>DATAFLOW</th>\n",
       "      <th>LAST UPDATE</th>\n",
       "      <th>freq</th>\n",
       "      <th>unit</th>\n",
       "      <th>meatitem</th>\n",
       "      <th>meat</th>\n",
       "      <th>geo</th>\n",
       "      <th>TIME_PERIOD</th>\n",
       "      <th>OBS_VALUE</th>\n",
       "      <th>OBS_FLAG</th>\n",
       "    </tr>\n",
       "  </thead>\n",
       "  <tbody>\n",
       "    <tr>\n",
       "      <th>432</th>\n",
       "      <td>ESTAT:TAG00044(1.0)</td>\n",
       "      <td>24/10/22 23:00:00</td>\n",
       "      <td>A</td>\n",
       "      <td>THS_T</td>\n",
       "      <td>SL</td>\n",
       "      <td>B1000</td>\n",
       "      <td>XK</td>\n",
       "      <td>2015</td>\n",
       "      <td>11.26</td>\n",
       "      <td>NaN</td>\n",
       "    </tr>\n",
       "    <tr>\n",
       "      <th>433</th>\n",
       "      <td>ESTAT:TAG00044(1.0)</td>\n",
       "      <td>24/10/22 23:00:00</td>\n",
       "      <td>A</td>\n",
       "      <td>THS_T</td>\n",
       "      <td>SL</td>\n",
       "      <td>B1000</td>\n",
       "      <td>XK</td>\n",
       "      <td>2016</td>\n",
       "      <td>13.73</td>\n",
       "      <td>NaN</td>\n",
       "    </tr>\n",
       "    <tr>\n",
       "      <th>434</th>\n",
       "      <td>ESTAT:TAG00044(1.0)</td>\n",
       "      <td>24/10/22 23:00:00</td>\n",
       "      <td>A</td>\n",
       "      <td>THS_T</td>\n",
       "      <td>SL</td>\n",
       "      <td>B1000</td>\n",
       "      <td>XK</td>\n",
       "      <td>2017</td>\n",
       "      <td>12.73</td>\n",
       "      <td>NaN</td>\n",
       "    </tr>\n",
       "    <tr>\n",
       "      <th>435</th>\n",
       "      <td>ESTAT:TAG00044(1.0)</td>\n",
       "      <td>24/10/22 23:00:00</td>\n",
       "      <td>A</td>\n",
       "      <td>THS_T</td>\n",
       "      <td>SL</td>\n",
       "      <td>B1000</td>\n",
       "      <td>XK</td>\n",
       "      <td>2018</td>\n",
       "      <td>16.35</td>\n",
       "      <td>NaN</td>\n",
       "    </tr>\n",
       "    <tr>\n",
       "      <th>436</th>\n",
       "      <td>ESTAT:TAG00044(1.0)</td>\n",
       "      <td>24/10/22 23:00:00</td>\n",
       "      <td>A</td>\n",
       "      <td>THS_T</td>\n",
       "      <td>SL</td>\n",
       "      <td>B1000</td>\n",
       "      <td>XK</td>\n",
       "      <td>2019</td>\n",
       "      <td>16.12</td>\n",
       "      <td>NaN</td>\n",
       "    </tr>\n",
       "  </tbody>\n",
       "</table>\n",
       "</div>"
      ],
      "text/plain": [
       "                DATAFLOW        LAST UPDATE freq   unit meatitem   meat geo  \\\n",
       "432  ESTAT:TAG00044(1.0)  24/10/22 23:00:00    A  THS_T       SL  B1000  XK   \n",
       "433  ESTAT:TAG00044(1.0)  24/10/22 23:00:00    A  THS_T       SL  B1000  XK   \n",
       "434  ESTAT:TAG00044(1.0)  24/10/22 23:00:00    A  THS_T       SL  B1000  XK   \n",
       "435  ESTAT:TAG00044(1.0)  24/10/22 23:00:00    A  THS_T       SL  B1000  XK   \n",
       "436  ESTAT:TAG00044(1.0)  24/10/22 23:00:00    A  THS_T       SL  B1000  XK   \n",
       "\n",
       "     TIME_PERIOD  OBS_VALUE OBS_FLAG  \n",
       "432         2015      11.26      NaN  \n",
       "433         2016      13.73      NaN  \n",
       "434         2017      12.73      NaN  \n",
       "435         2018      16.35      NaN  \n",
       "436         2019      16.12      NaN  "
      ]
     },
     "execution_count": 4,
     "metadata": {},
     "output_type": "execute_result"
    }
   ],
   "source": [
    "europeagri_consumer.tail()"
   ]
  },
  {
   "cell_type": "code",
   "execution_count": 5,
   "id": "fd0dd84f",
   "metadata": {},
   "outputs": [
    {
     "name": "stdout",
     "output_type": "stream",
     "text": [
      "<class 'pandas.core.frame.DataFrame'>\n",
      "RangeIndex: 437 entries, 0 to 436\n",
      "Data columns (total 10 columns):\n",
      " #   Column       Non-Null Count  Dtype  \n",
      "---  ------       --------------  -----  \n",
      " 0   DATAFLOW     437 non-null    object \n",
      " 1   LAST UPDATE  437 non-null    object \n",
      " 2   freq         437 non-null    object \n",
      " 3   unit         437 non-null    object \n",
      " 4   meatitem     437 non-null    object \n",
      " 5   meat         437 non-null    object \n",
      " 6   geo          437 non-null    object \n",
      " 7   TIME_PERIOD  437 non-null    int64  \n",
      " 8   OBS_VALUE    425 non-null    float64\n",
      " 9   OBS_FLAG     47 non-null     object \n",
      "dtypes: float64(1), int64(1), object(8)\n",
      "memory usage: 34.3+ KB\n"
     ]
    }
   ],
   "source": [
    "europeagri_consumer.info()"
   ]
  },
  {
   "cell_type": "code",
   "execution_count": 6,
   "id": "c574d6be",
   "metadata": {},
   "outputs": [],
   "source": [
    "#changing the datatype of Value from object to a float must be careful to check if there are no numbers in the column they\n",
    "#will be come NAN\n",
    "europeagri_consumer['OBS_VALUE'] = pd.to_numeric(europeagri_consumer['OBS_VALUE'],errors = 'coerce')"
   ]
  },
  {
   "cell_type": "code",
   "execution_count": 7,
   "id": "074141fc",
   "metadata": {},
   "outputs": [
    {
     "name": "stdout",
     "output_type": "stream",
     "text": [
      "<class 'pandas.core.frame.DataFrame'>\n",
      "RangeIndex: 437 entries, 0 to 436\n",
      "Data columns (total 10 columns):\n",
      " #   Column       Non-Null Count  Dtype  \n",
      "---  ------       --------------  -----  \n",
      " 0   DATAFLOW     437 non-null    object \n",
      " 1   LAST UPDATE  437 non-null    object \n",
      " 2   freq         437 non-null    object \n",
      " 3   unit         437 non-null    object \n",
      " 4   meatitem     437 non-null    object \n",
      " 5   meat         437 non-null    object \n",
      " 6   geo          437 non-null    object \n",
      " 7   TIME_PERIOD  437 non-null    int64  \n",
      " 8   OBS_VALUE    425 non-null    float64\n",
      " 9   OBS_FLAG     47 non-null     object \n",
      "dtypes: float64(1), int64(1), object(8)\n",
      "memory usage: 34.3+ KB\n",
      "None\n"
     ]
    }
   ],
   "source": [
    "print(europeagri_consumer.info())"
   ]
  },
  {
   "cell_type": "code",
   "execution_count": 8,
   "id": "bcf5b327",
   "metadata": {},
   "outputs": [
    {
     "data": {
      "text/html": [
       "<div>\n",
       "<style scoped>\n",
       "    .dataframe tbody tr th:only-of-type {\n",
       "        vertical-align: middle;\n",
       "    }\n",
       "\n",
       "    .dataframe tbody tr th {\n",
       "        vertical-align: top;\n",
       "    }\n",
       "\n",
       "    .dataframe thead th {\n",
       "        text-align: right;\n",
       "    }\n",
       "</style>\n",
       "<table border=\"1\" class=\"dataframe\">\n",
       "  <thead>\n",
       "    <tr style=\"text-align: right;\">\n",
       "      <th></th>\n",
       "      <th>TIME_PERIOD</th>\n",
       "      <th>OBS_VALUE</th>\n",
       "    </tr>\n",
       "  </thead>\n",
       "  <tbody>\n",
       "    <tr>\n",
       "      <th>count</th>\n",
       "      <td>437.000000</td>\n",
       "      <td>425.000000</td>\n",
       "    </tr>\n",
       "    <tr>\n",
       "      <th>mean</th>\n",
       "      <td>2015.645309</td>\n",
       "      <td>625.228588</td>\n",
       "    </tr>\n",
       "    <tr>\n",
       "      <th>std</th>\n",
       "      <td>3.351031</td>\n",
       "      <td>1645.350126</td>\n",
       "    </tr>\n",
       "    <tr>\n",
       "      <th>min</th>\n",
       "      <td>2010.000000</td>\n",
       "      <td>0.540000</td>\n",
       "    </tr>\n",
       "    <tr>\n",
       "      <th>25%</th>\n",
       "      <td>2013.000000</td>\n",
       "      <td>14.470000</td>\n",
       "    </tr>\n",
       "    <tr>\n",
       "      <th>50%</th>\n",
       "      <td>2016.000000</td>\n",
       "      <td>71.930000</td>\n",
       "    </tr>\n",
       "    <tr>\n",
       "      <th>75%</th>\n",
       "      <td>2018.000000</td>\n",
       "      <td>452.120000</td>\n",
       "    </tr>\n",
       "    <tr>\n",
       "      <th>max</th>\n",
       "      <td>2021.000000</td>\n",
       "      <td>7931.690000</td>\n",
       "    </tr>\n",
       "  </tbody>\n",
       "</table>\n",
       "</div>"
      ],
      "text/plain": [
       "       TIME_PERIOD    OBS_VALUE\n",
       "count   437.000000   425.000000\n",
       "mean   2015.645309   625.228588\n",
       "std       3.351031  1645.350126\n",
       "min    2010.000000     0.540000\n",
       "25%    2013.000000    14.470000\n",
       "50%    2016.000000    71.930000\n",
       "75%    2018.000000   452.120000\n",
       "max    2021.000000  7931.690000"
      ]
     },
     "execution_count": 8,
     "metadata": {},
     "output_type": "execute_result"
    }
   ],
   "source": [
    "\n",
    "# inspect description of variables\n",
    "europeagri_consumer.describe()"
   ]
  },
  {
   "cell_type": "code",
   "execution_count": 9,
   "id": "58034d6c",
   "metadata": {},
   "outputs": [
    {
     "data": {
      "text/plain": [
       "(437, 10)"
      ]
     },
     "execution_count": 9,
     "metadata": {},
     "output_type": "execute_result"
    }
   ],
   "source": [
    "# inspect the shape of the dataset \n",
    "europeagri_consumer.shape"
   ]
  },
  {
   "cell_type": "code",
   "execution_count": 10,
   "id": "59be4148",
   "metadata": {},
   "outputs": [
    {
     "data": {
      "text/plain": [
       "DATAFLOW        object\n",
       "LAST UPDATE     object\n",
       "freq            object\n",
       "unit            object\n",
       "meatitem        object\n",
       "meat            object\n",
       "geo             object\n",
       "TIME_PERIOD      int64\n",
       "OBS_VALUE      float64\n",
       "OBS_FLAG        object\n",
       "dtype: object"
      ]
     },
     "execution_count": 10,
     "metadata": {},
     "output_type": "execute_result"
    }
   ],
   "source": [
    "\n",
    "europeagri_consumer.dtypes"
   ]
  },
  {
   "cell_type": "markdown",
   "id": "5cfae28f",
   "metadata": {},
   "source": [
    "# Check for and Handle MIssing Values"
   ]
  },
  {
   "cell_type": "code",
   "execution_count": 11,
   "id": "07891d86",
   "metadata": {},
   "outputs": [
    {
     "data": {
      "text/plain": [
       "DATAFLOW       False\n",
       "LAST UPDATE    False\n",
       "freq           False\n",
       "unit           False\n",
       "meatitem       False\n",
       "meat           False\n",
       "geo            False\n",
       "TIME_PERIOD    False\n",
       "OBS_VALUE       True\n",
       "OBS_FLAG        True\n",
       "dtype: bool"
      ]
     },
     "execution_count": 11,
     "metadata": {},
     "output_type": "execute_result"
    }
   ],
   "source": [
    "# check all columns for NAN values if any\n",
    "europeagri_consumer.isna().any()"
   ]
  },
  {
   "cell_type": "code",
   "execution_count": 12,
   "id": "4ebff5b9",
   "metadata": {},
   "outputs": [
    {
     "data": {
      "text/plain": [
       "DATAFLOW         0\n",
       "LAST UPDATE      0\n",
       "freq             0\n",
       "unit             0\n",
       "meatitem         0\n",
       "meat             0\n",
       "geo              0\n",
       "TIME_PERIOD      0\n",
       "OBS_VALUE       12\n",
       "OBS_FLAG       390\n",
       "dtype: int64"
      ]
     },
     "execution_count": 12,
     "metadata": {},
     "output_type": "execute_result"
    }
   ],
   "source": [
    "# check the sum of null records\n",
    "europeagri_consumer.isnull().sum()"
   ]
  },
  {
   "cell_type": "code",
   "execution_count": 13,
   "id": "fa1fc217",
   "metadata": {},
   "outputs": [
    {
     "data": {
      "text/plain": [
       "<AxesSubplot:xlabel='OBS_VALUE'>"
      ]
     },
     "execution_count": 13,
     "metadata": {},
     "output_type": "execute_result"
    },
    {
     "data": {
      "image/png": "[encoded data removed]",
      "text/plain": [
       "<Figure size 432x288 with 1 Axes>"
      ]
     },
     "metadata": {
      "needs_background": "light"
     },
     "output_type": "display_data"
    }
   ],
   "source": [
    "#Using boxplot to check for outliers in the feature Value\n",
    "sns.boxplot(x=europeagri_consumer['OBS_VALUE'])"
   ]
  },
  {
   "cell_type": "code",
   "execution_count": null,
   "id": "7b6b2678",
   "metadata": {},
   "outputs": [],
   "source": []
  }
 ],
 "metadata": {
  "kernelspec": {
   "display_name": "Python 3 (ipykernel)",
   "language": "python",
   "name": "python3"
  },
  "language_info": {
   "codemirror_mode": {
    "name": "ipython",
    "version": 3
   },
   "file_extension": ".py",
   "mimetype": "text/x-python",
   "name": "python",
   "nbconvert_exporter": "python",
   "pygments_lexer": "ipython3",
   "version": "3.9.12"
  }
 },
 "nbformat": 4,
 "nbformat_minor": 5
}
